{
 "cells": [
  {
   "cell_type": "code",
   "execution_count": 14,
   "id": "4fb2b346-104f-4c59-9f24-ef955d00d3b0",
   "metadata": {},
   "outputs": [],
   "source": [
    "# Cell 1: Imports\n",
    "# Basic OS, date/time, and numerical libraries\n",
    "import os\n",
    "from datetime import datetime\n",
    "import numpy as np\n",
    "\n",
    "# Libraries for data handling and scientific computing\n",
    "import xarray as xr\n",
    "import dask.array as da # For handling large arrays that don't fit in memory\n",
    "\n",
    "# PyTorch libraries for deep learning\n",
    "import torch\n",
    "import torch.nn as nn\n",
    "import torch.nn.functional as F # For functions like F.pad\n",
    "import torch.optim as optim\n",
    "from torch.utils.data import Dataset, DataLoader\n",
    "\n",
    "# PyTorch Lightning for streamlining training\n",
    "import lightning.pytorch as pl\n",
    "\n",
    "# Plotting library\n",
    "import matplotlib.pyplot as plt\n",
    "\n",
    "# Pandas for data manipulation (e.g., creating submission CSV)\n",
    "import pandas as pd"
   ]
  },
  {
   "cell_type": "code",
   "execution_count": 15,
   "id": "70e1f3a3-b5e7-4d49-a588-1e1b836b99d8",
   "metadata": {},
   "outputs": [
    {
     "name": "stderr",
     "output_type": "stream",
     "text": [
      "Seed set to 42\n"
     ]
    }
   ],
   "source": [
    "# --------------------------------\n",
    "# Cell 2 – Configuration (ResNet)\n",
    "# --------------------------------\n",
    "config = {\n",
    "    \"data\": {\n",
    "        \"path\": \"processed_data_cse151b_v2_corrupted_ssp245/\"\n",
    "                \"processed_data_cse151b_v2_corrupted_ssp245.zarr\",\n",
    "        \"input_vars\":  [\"CO2\", \"SO2\", \"CH4\", \"BC\", \"rsdt\"],\n",
    "        \"output_vars\": [\"tas\", \"pr\"],\n",
    "        \"target_member_id\": 0,\n",
    "        \"train_ssps\": [\"ssp126\", \"ssp370\", \"ssp585\"],\n",
    "        \"test_ssp\":    \"ssp245\",\n",
    "        \"test_months\": 360,\n",
    "        \"batch_size\":  64,\n",
    "        \"num_workers\": 4,\n",
    "    },\n",
    "\n",
    "    # -------------  Model block -------------\n",
    "    \"model_resnet\": {                 # ← change key\n",
    "        \"type\": \"resnet\",             # ← will be parsed in your model-factory\n",
    "        \"arch\": \"resnet18\",           # resnet18 / 34 / 50 / 101 …\n",
    "        \"in_channels\": 5,             # len(input_vars)\n",
    "        \"out_channels\": 2,            # len(output_vars)\n",
    "        \"pretrained\": False,          # True if using ImageNet weights\n",
    "        \"replace_first_conv\": True,   # set to True if in_channels ≠ 3\n",
    "        \"fc_hidden\": 256,             # a small FC head before output layer\n",
    "        \"dropout\": 0.1,               # dropout prob in the head\n",
    "    },\n",
    "\n",
    "    # --------  Optimizer / training ---------\n",
    "    \"training\": {\n",
    "        \"optimizer\": \"AdamW\",         # AdamW works well with ResNets\n",
    "        \"lr\": 3e-4,                   # start a bit lower than 1e-3\n",
    "        \"weight_decay\": 1e-4,\n",
    "        \"lr_scheduler\": {\n",
    "            \"name\": \"CosineAnnealingLR\",\n",
    "            \"T_max\": 10,              # epochs for one cosine cycle\n",
    "            \"eta_min\": 1e-5,          # minimum LR\n",
    "        },\n",
    "        \"grad_clip\": 1.0,             # clip to stabilise large grads\n",
    "    },\n",
    "\n",
    "    # -------------  Trainer block -----------\n",
    "    \"trainer\": {\n",
    "        \"max_epochs\": 20,\n",
    "        \"accelerator\": \"auto\",\n",
    "        \"devices\":     \"auto\",\n",
    "        \"precision\":   16,            # try mixed precision for speed\n",
    "        \"deterministic\": True,\n",
    "        \"num_sanity_val_steps\": 0,\n",
    "        # Example callbacks (uncomment if you have them in code):\n",
    "        # \"callbacks\": [\n",
    "        #     {\"class_path\": \"pl.callbacks.ModelCheckpoint\",\n",
    "        #      \"init_args\": {\"save_top_k\": 2, \"monitor\": \"val_loss\"}},\n",
    "        #     {\"class_path\": \"pl.callbacks.EarlyStopping\",\n",
    "        #      \"init_args\": {\"monitor\": \"val_loss\", \"patience\": 5}}\n",
    "        # ],\n",
    "    },\n",
    "\n",
    "    \"seed\": 42,\n",
    "}\n",
    "\n",
    "# Set seeds, torch float-32 matmul precision hint\n",
    "pl.seed_everything(config[\"seed\"], workers=True)\n",
    "\n",
    "if torch.cuda.is_available() and torch.cuda.get_device_capability()[0] >= 7:\n",
    "    torch.set_float32_matmul_precision(\"medium\")\n",
    "    print(\"Tensor Core utilisation enabled (‘medium’).\")\n"
   ]
  },
  {
   "cell_type": "code",
   "execution_count": 16,
   "id": "4b8df60e-21e9-4e7b-a414-e1b5afde2aca",
   "metadata": {},
   "outputs": [],
   "source": [
    "# Cell 3: Latitude Weights Utility\n",
    "\n",
    "def get_lat_weights(latitude_values):\n",
    "    \"\"\"\n",
    "    Computes cosine-based area weights for each latitude.\n",
    "    This accounts for the Earth's curvature, giving more weight to\n",
    "    grid cells near the equator for global metrics.\n",
    "\n",
    "    Args:\n",
    "        latitude_values (np.array): Array of latitude values in degrees.\n",
    "\n",
    "    Returns:\n",
    "        np.array: Normalized latitude weights.\n",
    "    \"\"\"\n",
    "    lat_rad = np.deg2rad(latitude_values) # Convert degrees to radians\n",
    "    weights = np.cos(lat_rad)             # Cosine of latitude\n",
    "    return weights / np.mean(weights)     # Normalize by the mean weight\n"
   ]
  },
  {
   "cell_type": "code",
   "execution_count": 17,
   "id": "032abb3c-54cd-417d-93f8-9fe55d3a4892",
   "metadata": {},
   "outputs": [],
   "source": [
    "# Cell 4: Normalizer Class\n",
    "\n",
    "class Normalizer:\n",
    "    \"\"\"\n",
    "    Handles Z-score normalization for input and output data.\n",
    "    (data - mean) / std\n",
    "    \"\"\"\n",
    "    def __init__(self):\n",
    "        self.mean_in, self.std_in = None, None   # Statistics for input data\n",
    "        self.mean_out, self.std_out = None, None # Statistics for output data\n",
    "\n",
    "    def set_input_statistics(self, mean, std):\n",
    "        \"\"\"Sets the mean and standard deviation for input data.\"\"\"\n",
    "        self.mean_in = mean\n",
    "        self.std_in = std\n",
    "\n",
    "    def set_output_statistics(self, mean, std):\n",
    "        \"\"\"Sets the mean and standard deviation for output data.\"\"\"\n",
    "        self.mean_out = mean\n",
    "        self.std_out = std\n",
    "\n",
    "    def normalize(self, data, data_type):\n",
    "        \"\"\"\n",
    "        Normalizes the data using pre-computed statistics.\n",
    "\n",
    "        Args:\n",
    "            data (np.array or dask.array): Data to normalize.\n",
    "            data_type (str): \"input\" or \"output\", to use appropriate statistics.\n",
    "\n",
    "        Returns:\n",
    "            Normalized data.\n",
    "        \n",
    "        Raises:\n",
    "            ValueError: If statistics for the specified data_type are not set.\n",
    "        \"\"\"\n",
    "        if data_type == \"input\":\n",
    "            if self.mean_in is None or self.std_in is None:\n",
    "                raise ValueError(\"Input statistics not set in Normalizer.\")\n",
    "            # Add a small epsilon to std to prevent division by zero if std is very small or zero\n",
    "            return (data - self.mean_in) / (self.std_in + 1e-8) \n",
    "        elif data_type == \"output\":\n",
    "            if self.mean_out is None or self.std_out is None:\n",
    "                raise ValueError(\"Output statistics not set in Normalizer.\")\n",
    "            return (data - self.mean_out) / (self.std_out + 1e-8)\n",
    "        else:\n",
    "            raise ValueError(f\"Invalid data_type '{data_type}'. Must be 'input' or 'output'.\")\n",
    "\n",
    "    def inverse_transform_output(self, data):\n",
    "        \"\"\"\n",
    "        Applies inverse normalization to output data (predictions).\n",
    "\n",
    "        Args:\n",
    "            data (torch.Tensor or np.array): Normalized output data.\n",
    "\n",
    "        Returns:\n",
    "            Data in original physical units.\n",
    "\n",
    "        Raises:\n",
    "            ValueError: If output statistics are not set.\n",
    "        \"\"\"\n",
    "        if self.mean_out is None or self.std_out is None:\n",
    "            raise ValueError(\"Output statistics not set in Normalizer for inverse transform.\")\n",
    "        return data * (self.std_out + 1e-8) + self.mean_out\n"
   ]
  },
  {
   "cell_type": "code",
   "execution_count": 18,
   "id": "6e8e1fce-c1b0-43cb-9204-de384f73f2ce",
   "metadata": {},
   "outputs": [],
   "source": [
    "# ----- Dense-output ResNet-FCN ----------------------------------------------\n",
    "import torch\n",
    "import torch.nn as nn\n",
    "import torch.nn.functional as F\n",
    "\n",
    "# ─── building blocks ─────────────────────────────────────────────────────────\n",
    "class BasicBlock(nn.Module):\n",
    "    expansion: int = 1\n",
    "    def __init__(self, in_c: int, out_c: int, stride: int = 1,\n",
    "                 downsample: nn.Module | None = None):\n",
    "        super().__init__()\n",
    "        self.conv1 = nn.Conv2d(in_c, out_c, 3, stride, 1, bias=False)\n",
    "        self.bn1   = nn.BatchNorm2d(out_c)\n",
    "        self.conv2 = nn.Conv2d(out_c, out_c, 3, 1, 1, bias=False)\n",
    "        self.bn2   = nn.BatchNorm2d(out_c)\n",
    "        self.down  = downsample\n",
    "        self.relu  = nn.ReLU(inplace=True)\n",
    "\n",
    "    def forward(self, x):\n",
    "        identity = x if self.down is None else self.down(x)\n",
    "        out = self.relu(self.bn1(self.conv1(x)))\n",
    "        out = self.bn2(self.conv2(out))\n",
    "        return self.relu(out + identity)\n",
    "\n",
    "\n",
    "class Bottleneck(nn.Module):\n",
    "    expansion: int = 4\n",
    "    def __init__(self, in_c: int, out_c: int, stride: int = 1,\n",
    "                 downsample: nn.Module | None = None):\n",
    "        super().__init__()\n",
    "        self.conv1 = nn.Conv2d(in_c, out_c, 1, bias=False)\n",
    "        self.bn1   = nn.BatchNorm2d(out_c)\n",
    "        self.conv2 = nn.Conv2d(out_c, out_c, 3, stride, 1, bias=False)\n",
    "        self.bn2   = nn.BatchNorm2d(out_c)\n",
    "        self.conv3 = nn.Conv2d(out_c, out_c * self.expansion, 1, bias=False)\n",
    "        self.bn3   = nn.BatchNorm2d(out_c * self.expansion)\n",
    "        self.down  = downsample\n",
    "        self.relu  = nn.ReLU(inplace=True)\n",
    "\n",
    "    def forward(self, x):\n",
    "        identity = x if self.down is None else self.down(x)\n",
    "        out = self.relu(self.bn1(self.conv1(x)))\n",
    "        out = self.relu(self.bn2(self.conv2(out)))\n",
    "        out = self.bn3(self.conv3(out))\n",
    "        return self.relu(out + identity)\n",
    "\n",
    "# ─── ResNet-FCN backbone ─────────────────────────────────────────────────────\n",
    "class ResNet(nn.Module):\n",
    "    \"\"\"\n",
    "    Returns dense (B, C_out, H, W) maps.\n",
    "    Works for input H, W divisible by 8 (48×72, 96×144, …).\n",
    "    \"\"\"\n",
    "    def __init__(self,\n",
    "                 depth: int              = 18,\n",
    "                 n_input_channels: int   = 5,\n",
    "                 n_output_classes: int   = 2):\n",
    "        super().__init__()\n",
    "\n",
    "        cfg = {18:  (BasicBlock,  [2, 2, 2, 2]),\n",
    "               34:  (BasicBlock,  [3, 4, 6, 3]),\n",
    "               50:  (Bottleneck,  [3, 4, 6, 3]),\n",
    "               101: (Bottleneck,  [3, 4, 23, 3]),\n",
    "               152: (Bottleneck,  [3, 8, 36, 3])}[depth]\n",
    "\n",
    "        block, layers = cfg\n",
    "        self.in_c = 64\n",
    "\n",
    "        # ── stem (/2) ────────────────────────────────────────────────────────\n",
    "        self.stem = nn.Sequential(\n",
    "            nn.Conv2d(n_input_channels, 64, 3, 1, 1, bias=False),\n",
    "            nn.BatchNorm2d(64),\n",
    "            nn.ReLU(inplace=True),\n",
    "            nn.MaxPool2d(3, 2, 1)   # /2\n",
    "        )\n",
    "\n",
    "        # ── residual stages ──────────────────────────────────────────────────\n",
    "        self.layer1 = self._make_layer(block,  64, layers[0], stride=1)  # /2\n",
    "        self.layer2 = self._make_layer(block, 128, layers[1], stride=2)  # /4\n",
    "        self.layer3 = self._make_layer(block, 256, layers[2], stride=2)  # /8\n",
    "        self.layer4 = self._make_layer(block, 512, layers[3], stride=1)  # keep /8\n",
    "\n",
    "        # ── prediction head ─────────────────────────────────────────────────\n",
    "        self.head = nn.Conv2d(512 * block.expansion,\n",
    "                              n_output_classes, kernel_size=1)\n",
    "\n",
    "        # init\n",
    "        for m in self.modules():\n",
    "            if isinstance(m, nn.Conv2d):\n",
    "                nn.init.kaiming_normal_(m.weight, nonlinearity='relu')\n",
    "\n",
    "    def _make_layer(self, block, out_c, blocks, stride):\n",
    "        down = None\n",
    "        if stride != 1 or self.in_c != out_c * block.expansion:\n",
    "            down = nn.Sequential(\n",
    "                nn.Conv2d(self.in_c, out_c * block.expansion,\n",
    "                          1, stride, bias=False),\n",
    "                nn.BatchNorm2d(out_c * block.expansion)\n",
    "            )\n",
    "        layers = [block(self.in_c, out_c, stride, down)]\n",
    "        self.in_c = out_c * block.expansion\n",
    "        layers += [block(self.in_c, out_c) for _ in range(1, blocks)]\n",
    "        return nn.Sequential(*layers)\n",
    "\n",
    "    # ── forward ─────────────────────────────────────────────────────────────\n",
    "    def forward(self, x):\n",
    "        H, W = x.shape[-2:]\n",
    "        x = self.stem(x)\n",
    "        x = self.layer1(x); x = self.layer2(x)\n",
    "        x = self.layer3(x); x = self.layer4(x)\n",
    "        x = self.head(x)                       # (B, C_out, H/8, W/8)\n",
    "        return F.interpolate(x, (H, W),\n",
    "                             mode='bilinear',\n",
    "                             align_corners=False)\n"
   ]
  },
  {
   "cell_type": "code",
   "execution_count": 19,
   "id": "1b7d3515-bfac-483c-af65-198f6dc952ee",
   "metadata": {},
   "outputs": [],
   "source": [
    "# Cell 6: ClimateDataset and ClimateDataModule\n",
    "\n",
    "class ClimateDataset(Dataset):\n",
    "    def __init__(self, inputs_dask, outputs_dask, output_is_normalized=True):\n",
    "        \"\"\"\n",
    "        PyTorch Dataset for climate data.\n",
    "\n",
    "        Args:\n",
    "            inputs_dask (dask.array): Dask array of input features.\n",
    "            outputs_dask (dask.array): Dask array of output targets.\n",
    "            output_is_normalized (bool): Flag indicating if outputs_dask is already normalized.\n",
    "                                         Used for the test set where targets are not pre-normalized.\n",
    "        \"\"\"\n",
    "        self.size = inputs_dask.shape[0]\n",
    "        print(f\"Creating dataset with {self.size} samples...\")\n",
    "\n",
    "        inputs_np = inputs_dask.compute()\n",
    "        outputs_np = outputs_dask.compute()\n",
    "\n",
    "        self.inputs = torch.from_numpy(inputs_np).float()\n",
    "        self.outputs = torch.from_numpy(outputs_np).float()\n",
    "\n",
    "        if torch.isnan(self.inputs).any():\n",
    "            raise ValueError(\"NaNs found in input dataset after converting to tensor.\")\n",
    "        if torch.isnan(self.outputs).any():\n",
    "            raise ValueError(\"NaNs found in output dataset after converting to tensor.\")\n",
    "        \n",
    "        print(f\"Dataset created. Input shape: {self.inputs.shape}, Output shape: {self.outputs.shape}\")\n",
    "\n",
    "\n",
    "    def __len__(self):\n",
    "        return self.size\n",
    "\n",
    "    def __getitem__(self, idx):\n",
    "        return self.inputs[idx], self.outputs[idx]\n",
    "\n",
    "\n",
    "class ClimateDataModule(pl.LightningDataModule):\n",
    "    def __init__(\n",
    "        self,\n",
    "        path,\n",
    "        input_vars,\n",
    "        output_vars,\n",
    "        train_ssps,\n",
    "        test_ssp,\n",
    "        target_member_id,\n",
    "        test_months=120,\n",
    "        batch_size=32,\n",
    "        num_workers=0,\n",
    "        seed=42, \n",
    "    ):\n",
    "        super().__init__()\n",
    "        self.save_hyperparameters() \n",
    "        self.normalizer = Normalizer()\n",
    "\n",
    "    def prepare_data(self):\n",
    "        if not os.path.exists(self.hparams.path):\n",
    "            raise FileNotFoundError(f\"Data path not found: {self.hparams.path}. Please check config['data']['path'].\")\n",
    "\n",
    "    def setup(self, stage=None):\n",
    "        ds = xr.open_zarr(self.hparams.path, consolidated=False, chunks={\"time\": 24})\n",
    "        \n",
    "        # --- FIX for spatial_template ---\n",
    "        # The 'rsdt' variable might not have 'member_id'. Handle this conditionally.\n",
    "        rsdt_var_for_template = ds[\"rsdt\"]\n",
    "        if \"member_id\" in rsdt_var_for_template.dims:\n",
    "            spatial_template = rsdt_var_for_template.isel(time=0, ssp=0, member_id=0, drop=True)\n",
    "        else:\n",
    "            # If 'member_id' is not present, select without it.\n",
    "            # This assumes 'rsdt' is consistent across members or doesn't have that dimension.\n",
    "            spatial_template = rsdt_var_for_template.isel(time=0, ssp=0, drop=True)\n",
    "        # --- END FIX ---\n",
    "\n",
    "        def load_ssp(ssp_name):\n",
    "            input_dask_list, output_dask_list = [], []\n",
    "            \n",
    "            for var_name in self.hparams.input_vars:\n",
    "                da_var = ds[var_name].sel(ssp=ssp_name)\n",
    "                if \"latitude\" in da_var.dims: \n",
    "                    da_var = da_var.rename({\"latitude\": \"y\", \"longitude\": \"x\"})\n",
    "                # For input variables, if member_id exists, select the target_member_id.\n",
    "                # If it doesn't exist (e.g. for some forcing data), this sel will be a no-op if strict=False,\n",
    "                # or we can check existence. Xarray's sel is usually robust if the dim doesn't exist.\n",
    "                # However, to be safe, let's check.\n",
    "                if \"member_id\" in da_var.dims:\n",
    "                    da_var = da_var.sel(member_id=self.hparams.target_member_id)\n",
    "                \n",
    "                if set(da_var.dims) == {\"time\"}: \n",
    "                    da_var = da_var.broadcast_like(spatial_template).transpose(\"time\", \"y\", \"x\")\n",
    "                input_dask_list.append(da_var.data)\n",
    "            \n",
    "            for var_name in self.hparams.output_vars:\n",
    "                # Output variables are always selected by target_member_id\n",
    "                da_out = ds[var_name].sel(ssp=ssp_name, member_id=self.hparams.target_member_id)\n",
    "                if \"latitude\" in da_out.dims: \n",
    "                    da_out = da_out.rename({\"latitude\": \"y\", \"longitude\": \"x\"})\n",
    "                output_dask_list.append(da_out.data)\n",
    "\n",
    "            return da.stack(input_dask_list, axis=1), da.stack(output_dask_list, axis=1)\n",
    "\n",
    "        train_input_list, train_output_list = [], []\n",
    "        val_input_ssp370, val_output_ssp370 = None, None\n",
    "\n",
    "        for ssp in self.hparams.train_ssps:\n",
    "            x_ssp, y_ssp = load_ssp(ssp)\n",
    "            if ssp == \"ssp370\": \n",
    "                val_input_ssp370 = x_ssp[-self.hparams.test_months:]\n",
    "                val_output_ssp370 = y_ssp[-self.hparams.test_months:]\n",
    "                train_input_list.append(x_ssp[:-self.hparams.test_months])\n",
    "                train_output_list.append(y_ssp[:-self.hparams.test_months])\n",
    "            else:\n",
    "                train_input_list.append(x_ssp)\n",
    "                train_output_list.append(y_ssp)\n",
    "        \n",
    "        train_input_all_ssp = da.concatenate(train_input_list, axis=0)\n",
    "        train_output_all_ssp = da.concatenate(train_output_list, axis=0)\n",
    "\n",
    "        input_mean = da.nanmean(train_input_all_ssp, axis=(0, 2, 3), keepdims=True).compute()\n",
    "        input_std = da.nanstd(train_input_all_ssp, axis=(0, 2, 3), keepdims=True).compute()\n",
    "        self.normalizer.set_input_statistics(mean=input_mean, std=input_std)\n",
    "\n",
    "        output_mean = da.nanmean(train_output_all_ssp, axis=(0, 2, 3), keepdims=True).compute()\n",
    "        output_std = da.nanstd(train_output_all_ssp, axis=(0, 2, 3), keepdims=True).compute()\n",
    "        self.normalizer.set_output_statistics(mean=output_mean, std=output_std)\n",
    "\n",
    "        train_input_norm = self.normalizer.normalize(train_input_all_ssp, \"input\")\n",
    "        train_output_norm = self.normalizer.normalize(train_output_all_ssp, \"output\")\n",
    "        \n",
    "        val_input_norm = self.normalizer.normalize(val_input_ssp370, \"input\")\n",
    "        val_output_norm = self.normalizer.normalize(val_output_ssp370, \"output\")\n",
    "\n",
    "        test_input_ssp, test_output_ssp = load_ssp(self.hparams.test_ssp)\n",
    "        test_input_ssp = test_input_ssp[-self.hparams.test_months:] \n",
    "        test_output_ssp = test_output_ssp[-self.hparams.test_months:]\n",
    "        test_input_norm = self.normalizer.normalize(test_input_ssp, \"input\")\n",
    "\n",
    "        if stage == \"fit\" or stage is None:\n",
    "            self.train_dataset = ClimateDataset(train_input_norm, train_output_norm)\n",
    "            self.val_dataset = ClimateDataset(val_input_norm, val_output_norm)\n",
    "        if stage == \"test\" or stage is None:\n",
    "            self.test_dataset = ClimateDataset(test_input_norm, test_output_ssp, output_is_normalized=False)\n",
    "        \n",
    "        self.lat = spatial_template.y.values\n",
    "        self.lon = spatial_template.x.values\n",
    "        self.area_weights = xr.DataArray(get_lat_weights(self.lat), dims=[\"y\"], coords={\"y\": self.lat})\n",
    "\n",
    "        ds.close()\n",
    "\n",
    "    def train_dataloader(self):\n",
    "        return DataLoader(self.train_dataset, batch_size=self.hparams.batch_size, shuffle=True,\n",
    "                          num_workers=self.hparams.num_workers, pin_memory=torch.cuda.is_available(), persistent_workers=self.hparams.num_workers > 0)\n",
    "\n",
    "    def val_dataloader(self):\n",
    "        return DataLoader(self.val_dataset, batch_size=self.hparams.batch_size, shuffle=False,\n",
    "                          num_workers=self.hparams.num_workers, pin_memory=torch.cuda.is_available(), persistent_workers=self.hparams.num_workers > 0)\n",
    "\n",
    "    def test_dataloader(self):\n",
    "        return DataLoader(self.test_dataset, batch_size=self.hparams.batch_size, shuffle=False,\n",
    "                          num_workers=self.hparams.num_workers, pin_memory=torch.cuda.is_available(), persistent_workers=self.hparams.num_workers > 0)\n",
    "\n",
    "    def get_lat_weights(self):\n",
    "        return self.area_weights\n",
    "\n",
    "    def get_coords(self):\n",
    "        return self.lat, self.lon\n"
   ]
  },
  {
   "cell_type": "code",
   "execution_count": 20,
   "id": "e752dae9-03d3-4295-9c6f-408b1e2e4c05",
   "metadata": {},
   "outputs": [],
   "source": [
    "# Cell 7: ClimateEmulationModule (PyTorch Lightning)\n",
    "\n",
    "class ClimateEmulationModule(pl.LightningModule):\n",
    "    def __init__(self, model, learning_rate=1e-4):\n",
    "        super().__init__()\n",
    "        self.model = model \n",
    "        self.save_hyperparameters(ignore=['model']) \n",
    "        \n",
    "        self.criterion = nn.MSELoss() \n",
    "        self.normalizer = None \n",
    "        \n",
    "        self.val_preds, self.val_targets = [], []\n",
    "        self.test_preds, self.test_targets = [], []\n",
    "\n",
    "    def forward(self, x):\n",
    "        return self.model(x)\n",
    "\n",
    "    def _get_normalizer_from_datamodule(self):\n",
    "        \"\"\"Helper to safely get normalizer from datamodule.\"\"\"\n",
    "        if hasattr(self.trainer, 'datamodule') and self.trainer.datamodule is not None and hasattr(self.trainer.datamodule, 'normalizer'):\n",
    "            return self.trainer.datamodule.normalizer\n",
    "        else:\n",
    "            # Fallback if trainer.datamodule is not set up (e.g. direct call to test without fit)\n",
    "            # This requires 'config' to be globally accessible or passed differently.\n",
    "            print(\"Warning: Normalizer not found via self.trainer.datamodule. Attempting fallback initialization.\")\n",
    "            temp_dm = ClimateDataModule(**config[\"data\"]) \n",
    "            temp_dm.prepare_data()\n",
    "            temp_dm.setup(stage=\"test\") # Or appropriate stage to ensure normalizer stats are computed\n",
    "            return temp_dm.normalizer\n",
    "\n",
    "\n",
    "    def on_fit_start(self):\n",
    "        \"\"\"Called at the beginning of training.\"\"\"\n",
    "        self.normalizer = self._get_normalizer_from_datamodule()\n",
    "\n",
    "    def on_test_start(self):\n",
    "        \"\"\"Called at the beginning of testing.\"\"\"\n",
    "        if self.normalizer is None: # Ensure normalizer is available\n",
    "            self.normalizer = self._get_normalizer_from_datamodule()\n",
    "\n",
    "\n",
    "    def training_step(self, batch, batch_idx):\n",
    "        x, y_norm = batch \n",
    "        y_hat_norm = self(x)   \n",
    "        loss = self.criterion(y_hat_norm, y_norm)\n",
    "        self.log(\"train/loss\", loss, on_step=True, on_epoch=True, prog_bar=True, logger=True)\n",
    "        return loss\n",
    "\n",
    "    def validation_step(self, batch, batch_idx):\n",
    "        x, y_norm = batch\n",
    "        y_hat_norm = self(x)\n",
    "        loss = self.criterion(y_hat_norm, y_norm)\n",
    "        self.log(\"val/loss\", loss, on_step=False, on_epoch=True, prog_bar=True, logger=True)\n",
    "\n",
    "        if self.normalizer is None: self.normalizer = self._get_normalizer_from_datamodule()\n",
    "\n",
    "        y_hat_denorm = self.normalizer.inverse_transform_output(y_hat_norm.detach().cpu().numpy())\n",
    "        y_denorm = self.normalizer.inverse_transform_output(y_norm.detach().cpu().numpy())\n",
    "        \n",
    "        self.val_preds.append(y_hat_denorm)\n",
    "        self.val_targets.append(y_denorm)\n",
    "        return loss \n",
    "\n",
    "    def on_validation_epoch_end(self):\n",
    "        if not self.trainer.sanity_checking: # Skip during sanity check\n",
    "            if not self.val_preds or not self.val_targets: \n",
    "                return\n",
    "\n",
    "            preds_epoch = np.concatenate(self.val_preds, axis=0)\n",
    "            trues_epoch = np.concatenate(self.val_targets, axis=0)\n",
    "            \n",
    "            if self.normalizer is None: self.normalizer = self._get_normalizer_from_datamodule()\n",
    "            \n",
    "            self._evaluate(preds_epoch, trues_epoch, phase=\"val\")\n",
    "            \n",
    "            np.save(\"val_preds.npy\", preds_epoch)\n",
    "            np.save(\"val_trues.npy\", trues_epoch)\n",
    "            \n",
    "            self.val_preds.clear() \n",
    "            self.val_targets.clear()\n",
    "\n",
    "    def test_step(self, batch, batch_idx):\n",
    "        x, y_true_denorm = batch \n",
    "        y_hat_norm = self(x)    \n",
    "\n",
    "        if self.normalizer is None: self.normalizer = self._get_normalizer_from_datamodule()\n",
    "        \n",
    "        y_hat_denorm = self.normalizer.inverse_transform_output(y_hat_norm.detach().cpu().numpy())\n",
    "        \n",
    "        self.test_preds.append(y_hat_denorm)\n",
    "        self.test_targets.append(y_true_denorm.detach().cpu().numpy()) \n",
    "\n",
    "    def on_test_epoch_end(self):\n",
    "        if not self.test_preds or not self.test_targets: \n",
    "            return\n",
    "\n",
    "        preds_epoch = np.concatenate(self.test_preds, axis=0)\n",
    "        trues_epoch = np.concatenate(self.test_targets, axis=0)\n",
    "\n",
    "        if self.normalizer is None: self.normalizer = self._get_normalizer_from_datamodule()\n",
    "\n",
    "        self._evaluate(preds_epoch, trues_epoch, phase=\"test\")\n",
    "        self._save_submission(preds_epoch) \n",
    "        \n",
    "        self.test_preds.clear()\n",
    "        self.test_targets.clear()\n",
    "\n",
    "    def configure_optimizers(self):\n",
    "        optimizer = optim.Adam(self.parameters(), lr=self.hparams.learning_rate)\n",
    "        return optimizer\n",
    "\n",
    "    def _evaluate(self, preds_np, trues_np, phase=\"val\"):\n",
    "        \"\"\"Calculates and logs evaluation metrics.\"\"\"\n",
    "        # This check is important for when _evaluate might be called outside trainer.fit/test context\n",
    "        # or if datamodule is not correctly propagated.\n",
    "        if self.trainer.datamodule is None or not hasattr(self.trainer.datamodule, 'get_lat_weights'):\n",
    "            print(\"Warning: self.trainer.datamodule not fully available in _evaluate. Using fallback for coords/weights.\")\n",
    "            dm_eval = ClimateDataModule(**config[\"data\"]) # Re-init for coords, assumes global config\n",
    "            dm_eval.prepare_data()\n",
    "            dm_eval.setup(stage=phase) # Setup for the correct stage\n",
    "            area_weights = dm_eval.get_lat_weights()\n",
    "            lat, lon = dm_eval.get_coords()\n",
    "            output_vars = dm_eval.hparams.output_vars\n",
    "        else:\n",
    "            area_weights = self.trainer.datamodule.get_lat_weights()\n",
    "            lat, lon = self.trainer.datamodule.get_coords()\n",
    "            output_vars = self.trainer.datamodule.hparams.output_vars\n",
    "\n",
    "\n",
    "        time_coords = np.arange(preds_np.shape[0])\n",
    "        metrics_summary = {}\n",
    "\n",
    "        for i, var_name in enumerate(output_vars):\n",
    "            p_var = preds_np[:, i] \n",
    "            t_var = trues_np[:, i] \n",
    "            \n",
    "            p_xr = xr.DataArray(p_var, dims=[\"time\", \"y\", \"x\"], coords={\"time\": time_coords, \"y\": lat, \"x\": lon})\n",
    "            t_xr = xr.DataArray(t_var, dims=[\"time\", \"y\", \"x\"], coords={\"time\": time_coords, \"y\": lat, \"x\": lon})\n",
    "\n",
    "            rmse = np.sqrt(((p_xr - t_xr) ** 2).weighted(area_weights).mean()).item()\n",
    "            mean_rmse = np.sqrt(((p_xr.mean(\"time\") - t_xr.mean(\"time\")) ** 2).weighted(area_weights).mean()).item()\n",
    "            std_mae = np.abs(p_xr.std(\"time\") - t_xr.std(\"time\")).weighted(area_weights).mean().item()\n",
    "\n",
    "            print(f\"[{phase.upper()}] {var_name}: RMSE={rmse:.4f}, Time-Mean RMSE={mean_rmse:.4f}, Time-Stddev MAE={std_mae:.4f}\")\n",
    "            \n",
    "            metrics_summary[f\"{phase}/{var_name}/rmse\"] = rmse\n",
    "            metrics_summary[f\"{phase}/{var_name}/time_mean_rmse\"] = mean_rmse\n",
    "            metrics_summary[f\"{phase}/{var_name}/time_std_mae\"] = std_mae\n",
    "        \n",
    "        self.log_dict(metrics_summary, logger=True)\n",
    "\n",
    "    def _save_submission(self, predictions_np):\n",
    "        \"\"\"Saves model predictions to a CSV file in Kaggle submission format.\"\"\"\n",
    "        if self.trainer.datamodule is None or not hasattr(self.trainer.datamodule, 'get_coords'):\n",
    "            print(\"Warning: self.trainer.datamodule not fully available in _save_submission. Using fallback.\")\n",
    "            dm_submission = ClimateDataModule(**config[\"data\"])\n",
    "            dm_submission.prepare_data()\n",
    "            dm_submission.setup(stage=\"test\") # Ensure coords are loaded\n",
    "            lat, lon = dm_submission.get_coords()\n",
    "            output_vars = dm_submission.hparams.output_vars\n",
    "        else:\n",
    "            lat, lon = self.trainer.datamodule.get_coords()\n",
    "            output_vars = self.trainer.datamodule.hparams.output_vars\n",
    "            \n",
    "        time_coords_submission = np.arange(predictions_np.shape[0])\n",
    "\n",
    "        rows = []\n",
    "        for t_idx, t_val in enumerate(time_coords_submission):\n",
    "            for var_idx, var_name in enumerate(output_vars):\n",
    "                for y_idx, y_val in enumerate(lat):\n",
    "                    for x_idx, x_val in enumerate(lon):\n",
    "                        row_id = f\"t{t_idx:03d}_{var_name}_{y_val:.2f}_{x_val:.2f}\"\n",
    "                        pred_value = predictions_np[t_idx, var_idx, y_idx, x_idx]\n",
    "                        rows.append({\"ID\": row_id, \"Prediction\": pred_value})\n",
    "\n",
    "        submission_df = pd.DataFrame(rows)\n",
    "        submission_dir = \"submissions\"\n",
    "        os.makedirs(submission_dir, exist_ok=True)\n",
    "        timestamp = datetime.now().strftime('%Y%m%d_%H%M%S')\n",
    "        filepath = os.path.join(submission_dir, f\"kaggle_submission_unet_{timestamp}.csv\")\n",
    "        submission_df.to_csv(filepath, index=False)\n",
    "        print(f\"Submission saved to: {filepath}\")\n"
   ]
  },
  {
   "cell_type": "code",
   "execution_count": 22,
   "id": "d9364b5f-cf9e-48c9-b1e5-f8c72155b3d8",
   "metadata": {
    "scrolled": true
   },
   "outputs": [
    {
     "name": "stdout",
     "output_type": "stream",
     "text": [
      "\n",
      "--- Starting ResNet Grid Search ---\n",
      "\n",
      "--- Run 1/10 — {'depth': 18, 'lr': 0.001, 'optimizer_type': 'AdamW', 'weight_decay': 0.0, 'scheduler_type': 'CosineAnnealingLR', 'batch_size': 32} ---\n"
     ]
    },
    {
     "name": "stderr",
     "output_type": "stream",
     "text": [
      "/home/ruz039/.local/lib/python3.11/site-packages/lightning/fabric/connector.py:571: `precision=16` is supported for historical reasons but its usage is discouraged. Please set your precision to 16-mixed instead!\n",
      "Using 16bit Automatic Mixed Precision (AMP)\n",
      "GPU available: True (cuda), used: True\n",
      "TPU available: False, using: 0 TPU cores\n",
      "HPU available: False, using: 0 HPUs\n"
     ]
    },
    {
     "name": "stdout",
     "output_type": "stream",
     "text": [
      "Creating dataset with 2703 samples...\n",
      "Dataset created. Input shape: torch.Size([2703, 5, 48, 72]), Output shape: torch.Size([2703, 2, 48, 72])\n",
      "Creating dataset with 360 samples...\n"
     ]
    },
    {
     "name": "stderr",
     "output_type": "stream",
     "text": [
      "/home/ruz039/.local/lib/python3.11/site-packages/lightning/pytorch/callbacks/model_checkpoint.py:654: Checkpoint directory /home/ruz039/private/cse151b/DL_for_Climate_Emulation/lightning_logs/gs_resnet_run_1/checkpoints exists and is not empty.\n",
      "LOCAL_RANK: 0 - CUDA_VISIBLE_DEVICES: [0]\n",
      "\n",
      "  | Name      | Type    | Params | Mode \n",
      "----------------------------------------------\n",
      "0 | model     | ResNet  | 11.2 M | train\n",
      "1 | criterion | MSELoss | 0      | train\n",
      "----------------------------------------------\n",
      "11.2 M    Trainable params\n",
      "0         Non-trainable params\n",
      "11.2 M    Total params\n",
      "44.684    Total estimated model params size (MB)\n",
      "69        Modules in train mode\n",
      "0         Modules in eval mode\n"
     ]
    },
    {
     "name": "stdout",
     "output_type": "stream",
     "text": [
      "Dataset created. Input shape: torch.Size([360, 5, 48, 72]), Output shape: torch.Size([360, 2, 48, 72])\n"
     ]
    },
    {
     "data": {
      "application/vnd.jupyter.widget-view+json": {
       "model_id": "153a1d99a5df4dd79f9ab4b39e9d9467",
       "version_major": 2,
       "version_minor": 0
      },
      "text/plain": [
       "Training: |          | 0/? [00:00<?, ?it/s]"
      ]
     },
     "metadata": {},
     "output_type": "display_data"
    },
    {
     "data": {
      "application/vnd.jupyter.widget-view+json": {
       "model_id": "",
       "version_major": 2,
       "version_minor": 0
      },
      "text/plain": [
       "Validation: |          | 0/? [00:00<?, ?it/s]"
      ]
     },
     "metadata": {},
     "output_type": "display_data"
    },
    {
     "name": "stdout",
     "output_type": "stream",
     "text": [
      "[VAL] tas: RMSE=6.4281, Time-Mean RMSE=4.4666, Time-Stddev MAE=2.1137\n",
      "[VAL] pr: RMSE=3.2713, Time-Mean RMSE=1.7908, Time-Stddev MAE=1.7496\n"
     ]
    },
    {
     "data": {
      "application/vnd.jupyter.widget-view+json": {
       "model_id": "",
       "version_major": 2,
       "version_minor": 0
      },
      "text/plain": [
       "Validation: |          | 0/? [00:00<?, ?it/s]"
      ]
     },
     "metadata": {},
     "output_type": "display_data"
    },
    {
     "name": "stdout",
     "output_type": "stream",
     "text": [
      "[VAL] tas: RMSE=5.6157, Time-Mean RMSE=3.6525, Time-Stddev MAE=1.8489\n",
      "[VAL] pr: RMSE=3.2169, Time-Mean RMSE=1.7308, Time-Stddev MAE=1.6755\n"
     ]
    },
    {
     "data": {
      "application/vnd.jupyter.widget-view+json": {
       "model_id": "",
       "version_major": 2,
       "version_minor": 0
      },
      "text/plain": [
       "Validation: |          | 0/? [00:00<?, ?it/s]"
      ]
     },
     "metadata": {},
     "output_type": "display_data"
    },
    {
     "name": "stdout",
     "output_type": "stream",
     "text": [
      "[VAL] tas: RMSE=5.5285, Time-Mean RMSE=3.8057, Time-Stddev MAE=1.5387\n",
      "[VAL] pr: RMSE=3.1805, Time-Mean RMSE=1.6953, Time-Stddev MAE=1.6620\n"
     ]
    },
    {
     "data": {
      "application/vnd.jupyter.widget-view+json": {
       "model_id": "",
       "version_major": 2,
       "version_minor": 0
      },
      "text/plain": [
       "Validation: |          | 0/? [00:00<?, ?it/s]"
      ]
     },
     "metadata": {},
     "output_type": "display_data"
    },
    {
     "name": "stdout",
     "output_type": "stream",
     "text": [
      "[VAL] tas: RMSE=5.1202, Time-Mean RMSE=3.6187, Time-Stddev MAE=1.3845\n",
      "[VAL] pr: RMSE=3.1520, Time-Mean RMSE=1.6696, Time-Stddev MAE=1.6091\n"
     ]
    },
    {
     "data": {
      "application/vnd.jupyter.widget-view+json": {
       "model_id": "",
       "version_major": 2,
       "version_minor": 0
      },
      "text/plain": [
       "Validation: |          | 0/? [00:00<?, ?it/s]"
      ]
     },
     "metadata": {},
     "output_type": "display_data"
    },
    {
     "name": "stdout",
     "output_type": "stream",
     "text": [
      "[VAL] tas: RMSE=5.5580, Time-Mean RMSE=4.2483, Time-Stddev MAE=1.4016\n",
      "[VAL] pr: RMSE=3.1578, Time-Mean RMSE=1.6686, Time-Stddev MAE=1.5354\n"
     ]
    },
    {
     "data": {
      "application/vnd.jupyter.widget-view+json": {
       "model_id": "",
       "version_major": 2,
       "version_minor": 0
      },
      "text/plain": [
       "Validation: |          | 0/? [00:00<?, ?it/s]"
      ]
     },
     "metadata": {},
     "output_type": "display_data"
    },
    {
     "name": "stdout",
     "output_type": "stream",
     "text": [
      "[VAL] tas: RMSE=4.9977, Time-Mean RMSE=3.6249, Time-Stddev MAE=1.2644\n",
      "[VAL] pr: RMSE=3.1064, Time-Mean RMSE=1.6346, Time-Stddev MAE=1.5613\n"
     ]
    },
    {
     "data": {
      "application/vnd.jupyter.widget-view+json": {
       "model_id": "",
       "version_major": 2,
       "version_minor": 0
      },
      "text/plain": [
       "Validation: |          | 0/? [00:00<?, ?it/s]"
      ]
     },
     "metadata": {},
     "output_type": "display_data"
    },
    {
     "name": "stdout",
     "output_type": "stream",
     "text": [
      "[VAL] tas: RMSE=4.8922, Time-Mean RMSE=3.5374, Time-Stddev MAE=1.2678\n",
      "[VAL] pr: RMSE=3.0833, Time-Mean RMSE=1.6444, Time-Stddev MAE=1.4902\n"
     ]
    },
    {
     "data": {
      "application/vnd.jupyter.widget-view+json": {
       "model_id": "",
       "version_major": 2,
       "version_minor": 0
      },
      "text/plain": [
       "Validation: |          | 0/? [00:00<?, ?it/s]"
      ]
     },
     "metadata": {},
     "output_type": "display_data"
    },
    {
     "name": "stdout",
     "output_type": "stream",
     "text": [
      "[VAL] tas: RMSE=4.8831, Time-Mean RMSE=3.6226, Time-Stddev MAE=1.2178\n",
      "[VAL] pr: RMSE=3.0806, Time-Mean RMSE=1.6417, Time-Stddev MAE=1.4579\n"
     ]
    },
    {
     "data": {
      "application/vnd.jupyter.widget-view+json": {
       "model_id": "",
       "version_major": 2,
       "version_minor": 0
      },
      "text/plain": [
       "Validation: |          | 0/? [00:00<?, ?it/s]"
      ]
     },
     "metadata": {},
     "output_type": "display_data"
    },
    {
     "name": "stdout",
     "output_type": "stream",
     "text": [
      "[VAL] tas: RMSE=4.7925, Time-Mean RMSE=3.5917, Time-Stddev MAE=1.2283\n",
      "[VAL] pr: RMSE=3.0551, Time-Mean RMSE=1.6305, Time-Stddev MAE=1.4288\n"
     ]
    },
    {
     "data": {
      "application/vnd.jupyter.widget-view+json": {
       "model_id": "",
       "version_major": 2,
       "version_minor": 0
      },
      "text/plain": [
       "Validation: |          | 0/? [00:00<?, ?it/s]"
      ]
     },
     "metadata": {},
     "output_type": "display_data"
    },
    {
     "name": "stdout",
     "output_type": "stream",
     "text": [
      "[VAL] tas: RMSE=4.7244, Time-Mean RMSE=3.5698, Time-Stddev MAE=1.2135\n",
      "[VAL] pr: RMSE=3.0496, Time-Mean RMSE=1.6370, Time-Stddev MAE=1.4416\n"
     ]
    },
    {
     "data": {
      "application/vnd.jupyter.widget-view+json": {
       "model_id": "",
       "version_major": 2,
       "version_minor": 0
      },
      "text/plain": [
       "Validation: |          | 0/? [00:00<?, ?it/s]"
      ]
     },
     "metadata": {},
     "output_type": "display_data"
    },
    {
     "name": "stdout",
     "output_type": "stream",
     "text": [
      "[VAL] tas: RMSE=4.9380, Time-Mean RMSE=3.7470, Time-Stddev MAE=1.1675\n",
      "[VAL] pr: RMSE=3.0606, Time-Mean RMSE=1.6283, Time-Stddev MAE=1.4404\n"
     ]
    },
    {
     "data": {
      "application/vnd.jupyter.widget-view+json": {
       "model_id": "",
       "version_major": 2,
       "version_minor": 0
      },
      "text/plain": [
       "Validation: |          | 0/? [00:00<?, ?it/s]"
      ]
     },
     "metadata": {},
     "output_type": "display_data"
    },
    {
     "name": "stdout",
     "output_type": "stream",
     "text": [
      "[VAL] tas: RMSE=4.8471, Time-Mean RMSE=3.7792, Time-Stddev MAE=1.1825\n",
      "[VAL] pr: RMSE=3.0393, Time-Mean RMSE=1.6358, Time-Stddev MAE=1.4207\n"
     ]
    },
    {
     "data": {
      "application/vnd.jupyter.widget-view+json": {
       "model_id": "",
       "version_major": 2,
       "version_minor": 0
      },
      "text/plain": [
       "Validation: |          | 0/? [00:00<?, ?it/s]"
      ]
     },
     "metadata": {},
     "output_type": "display_data"
    },
    {
     "name": "stdout",
     "output_type": "stream",
     "text": [
      "[VAL] tas: RMSE=4.6941, Time-Mean RMSE=3.5546, Time-Stddev MAE=1.2157\n",
      "[VAL] pr: RMSE=3.0427, Time-Mean RMSE=1.6451, Time-Stddev MAE=1.3968\n"
     ]
    },
    {
     "data": {
      "application/vnd.jupyter.widget-view+json": {
       "model_id": "",
       "version_major": 2,
       "version_minor": 0
      },
      "text/plain": [
       "Validation: |          | 0/? [00:00<?, ?it/s]"
      ]
     },
     "metadata": {},
     "output_type": "display_data"
    },
    {
     "name": "stdout",
     "output_type": "stream",
     "text": [
      "[VAL] tas: RMSE=4.7063, Time-Mean RMSE=3.5815, Time-Stddev MAE=1.2190\n",
      "[VAL] pr: RMSE=3.0358, Time-Mean RMSE=1.6287, Time-Stddev MAE=1.4163\n"
     ]
    },
    {
     "data": {
      "application/vnd.jupyter.widget-view+json": {
       "model_id": "",
       "version_major": 2,
       "version_minor": 0
      },
      "text/plain": [
       "Validation: |          | 0/? [00:00<?, ?it/s]"
      ]
     },
     "metadata": {},
     "output_type": "display_data"
    },
    {
     "name": "stdout",
     "output_type": "stream",
     "text": [
      "[VAL] tas: RMSE=4.6672, Time-Mean RMSE=3.5840, Time-Stddev MAE=1.1834\n",
      "[VAL] pr: RMSE=3.0321, Time-Mean RMSE=1.6408, Time-Stddev MAE=1.3909\n"
     ]
    },
    {
     "data": {
      "application/vnd.jupyter.widget-view+json": {
       "model_id": "",
       "version_major": 2,
       "version_minor": 0
      },
      "text/plain": [
       "Validation: |          | 0/? [00:00<?, ?it/s]"
      ]
     },
     "metadata": {},
     "output_type": "display_data"
    },
    {
     "name": "stdout",
     "output_type": "stream",
     "text": [
      "[VAL] tas: RMSE=4.5629, Time-Mean RMSE=3.5505, Time-Stddev MAE=1.1368\n",
      "[VAL] pr: RMSE=3.0131, Time-Mean RMSE=1.6277, Time-Stddev MAE=1.3871\n"
     ]
    },
    {
     "data": {
      "application/vnd.jupyter.widget-view+json": {
       "model_id": "",
       "version_major": 2,
       "version_minor": 0
      },
      "text/plain": [
       "Validation: |          | 0/? [00:00<?, ?it/s]"
      ]
     },
     "metadata": {},
     "output_type": "display_data"
    },
    {
     "name": "stdout",
     "output_type": "stream",
     "text": [
      "[VAL] tas: RMSE=4.5002, Time-Mean RMSE=3.4818, Time-Stddev MAE=1.1123\n",
      "[VAL] pr: RMSE=3.0190, Time-Mean RMSE=1.6265, Time-Stddev MAE=1.4039\n"
     ]
    },
    {
     "data": {
      "application/vnd.jupyter.widget-view+json": {
       "model_id": "",
       "version_major": 2,
       "version_minor": 0
      },
      "text/plain": [
       "Validation: |          | 0/? [00:00<?, ?it/s]"
      ]
     },
     "metadata": {},
     "output_type": "display_data"
    },
    {
     "name": "stdout",
     "output_type": "stream",
     "text": [
      "[VAL] tas: RMSE=4.5293, Time-Mean RMSE=3.5169, Time-Stddev MAE=1.1325\n",
      "[VAL] pr: RMSE=3.0155, Time-Mean RMSE=1.6270, Time-Stddev MAE=1.3881\n"
     ]
    },
    {
     "data": {
      "application/vnd.jupyter.widget-view+json": {
       "model_id": "",
       "version_major": 2,
       "version_minor": 0
      },
      "text/plain": [
       "Validation: |          | 0/? [00:00<?, ?it/s]"
      ]
     },
     "metadata": {},
     "output_type": "display_data"
    },
    {
     "name": "stdout",
     "output_type": "stream",
     "text": [
      "[VAL] tas: RMSE=4.5240, Time-Mean RMSE=3.5094, Time-Stddev MAE=1.1423\n",
      "[VAL] pr: RMSE=3.0140, Time-Mean RMSE=1.6305, Time-Stddev MAE=1.3901\n"
     ]
    },
    {
     "data": {
      "application/vnd.jupyter.widget-view+json": {
       "model_id": "",
       "version_major": 2,
       "version_minor": 0
      },
      "text/plain": [
       "Validation: |          | 0/? [00:00<?, ?it/s]"
      ]
     },
     "metadata": {},
     "output_type": "display_data"
    },
    {
     "name": "stdout",
     "output_type": "stream",
     "text": [
      "[VAL] tas: RMSE=4.5235, Time-Mean RMSE=3.5118, Time-Stddev MAE=1.1337\n",
      "[VAL] pr: RMSE=3.0136, Time-Mean RMSE=1.6276, Time-Stddev MAE=1.3922\n"
     ]
    },
    {
     "name": "stderr",
     "output_type": "stream",
     "text": [
      "`Trainer.fit` stopped: `max_epochs=20` reached.\n",
      "Restoring states from the checkpoint path at /home/ruz039/private/cse151b/DL_for_Climate_Emulation/lightning_logs/gs_resnet_run_1/checkpoints/resnet-d18-epoch=19-val/loss=0.39.ckpt\n",
      "LOCAL_RANK: 0 - CUDA_VISIBLE_DEVICES: [0]\n",
      "Loaded model weights from the checkpoint at /home/ruz039/private/cse151b/DL_for_Climate_Emulation/lightning_logs/gs_resnet_run_1/checkpoints/resnet-d18-epoch=19-val/loss=0.39.ckpt\n"
     ]
    },
    {
     "data": {
      "application/vnd.jupyter.widget-view+json": {
       "model_id": "61795a6d0b864e719f678d8066678e67",
       "version_major": 2,
       "version_minor": 0
      },
      "text/plain": [
       "Validation: |          | 0/? [00:00<?, ?it/s]"
      ]
     },
     "metadata": {},
     "output_type": "display_data"
    },
    {
     "name": "stdout",
     "output_type": "stream",
     "text": [
      "[VAL] tas: RMSE=4.5235, Time-Mean RMSE=3.5118, Time-Stddev MAE=1.1337\n",
      "[VAL] pr: RMSE=3.0136, Time-Mean RMSE=1.6276, Time-Stddev MAE=1.3922\n",
      "────────────────────────────────────────────────────────────────────────────────────────────────────────────────────────\n",
      "     Validate metric           DataLoader 0\n",
      "────────────────────────────────────────────────────────────────────────────────────────────────────────────────────────\n",
      "        val/loss            0.3949071764945984\n",
      "       val/pr/rmse           3.013636589050293\n",
      "  val/pr/time_mean_rmse     1.6276456117630005\n",
      "   val/pr/time_std_mae      1.3921518325805664\n",
      "      val/tas/rmse           4.523533821105957\n",
      " val/tas/time_mean_rmse     3.5118136405944824\n",
      "  val/tas/time_std_mae      1.1336572170257568\n",
      "────────────────────────────────────────────────────────────────────────────────────────────────────────────────────────\n",
      "→ Run 1 val/loss = 0.3949\n",
      "\n",
      "--- Run 2/10 — {'depth': 18, 'lr': 0.0005, 'optimizer_type': 'Adam', 'weight_decay': 0.01, 'scheduler_type': None, 'batch_size': 32} ---\n"
     ]
    },
    {
     "name": "stderr",
     "output_type": "stream",
     "text": [
      "/home/ruz039/.local/lib/python3.11/site-packages/lightning/fabric/connector.py:571: `precision=16` is supported for historical reasons but its usage is discouraged. Please set your precision to 16-mixed instead!\n",
      "Using 16bit Automatic Mixed Precision (AMP)\n",
      "GPU available: True (cuda), used: True\n",
      "TPU available: False, using: 0 TPU cores\n",
      "HPU available: False, using: 0 HPUs\n"
     ]
    },
    {
     "name": "stdout",
     "output_type": "stream",
     "text": [
      "Creating dataset with 2703 samples...\n",
      "Dataset created. Input shape: torch.Size([2703, 5, 48, 72]), Output shape: torch.Size([2703, 2, 48, 72])\n",
      "Creating dataset with 360 samples...\n"
     ]
    },
    {
     "name": "stderr",
     "output_type": "stream",
     "text": [
      "/home/ruz039/.local/lib/python3.11/site-packages/lightning/pytorch/callbacks/model_checkpoint.py:654: Checkpoint directory /home/ruz039/private/cse151b/DL_for_Climate_Emulation/lightning_logs/gs_resnet_run_2/checkpoints exists and is not empty.\n",
      "LOCAL_RANK: 0 - CUDA_VISIBLE_DEVICES: [0]\n",
      "\n",
      "  | Name      | Type    | Params | Mode \n",
      "----------------------------------------------\n",
      "0 | model     | ResNet  | 11.2 M | train\n",
      "1 | criterion | MSELoss | 0      | train\n",
      "----------------------------------------------\n",
      "11.2 M    Trainable params\n",
      "0         Non-trainable params\n",
      "11.2 M    Total params\n",
      "44.684    Total estimated model params size (MB)\n",
      "69        Modules in train mode\n",
      "0         Modules in eval mode\n"
     ]
    },
    {
     "name": "stdout",
     "output_type": "stream",
     "text": [
      "Dataset created. Input shape: torch.Size([360, 5, 48, 72]), Output shape: torch.Size([360, 2, 48, 72])\n"
     ]
    },
    {
     "data": {
      "application/vnd.jupyter.widget-view+json": {
       "model_id": "221015ed448c4cc7a4df56d80dcdfdc4",
       "version_major": 2,
       "version_minor": 0
      },
      "text/plain": [
       "Training: |          | 0/? [00:00<?, ?it/s]"
      ]
     },
     "metadata": {},
     "output_type": "display_data"
    },
    {
     "data": {
      "application/vnd.jupyter.widget-view+json": {
       "model_id": "220a5bc72afa4efba59fe17e484e91f5",
       "version_major": 2,
       "version_minor": 0
      },
      "text/plain": [
       "Validation: |          | 0/? [00:00<?, ?it/s]"
      ]
     },
     "metadata": {},
     "output_type": "display_data"
    },
    {
     "name": "stdout",
     "output_type": "stream",
     "text": [
      "[VAL] tas: RMSE=8.3770, Time-Mean RMSE=5.8191, Time-Stddev MAE=2.9053\n",
      "[VAL] pr: RMSE=3.2706, Time-Mean RMSE=1.7528, Time-Stddev MAE=1.5072\n"
     ]
    },
    {
     "data": {
      "application/vnd.jupyter.widget-view+json": {
       "model_id": "ede3fa4e01dc489e9fb7a9fa7b0138d7",
       "version_major": 2,
       "version_minor": 0
      },
      "text/plain": [
       "Validation: |          | 0/? [00:00<?, ?it/s]"
      ]
     },
     "metadata": {},
     "output_type": "display_data"
    },
    {
     "name": "stdout",
     "output_type": "stream",
     "text": [
      "[VAL] tas: RMSE=7.4388, Time-Mean RMSE=5.4634, Time-Stddev MAE=2.1358\n",
      "[VAL] pr: RMSE=3.2118, Time-Mean RMSE=1.7416, Time-Stddev MAE=1.6124\n"
     ]
    },
    {
     "data": {
      "application/vnd.jupyter.widget-view+json": {
       "model_id": "3f0d6d2f06864535a8b1045b698f655d",
       "version_major": 2,
       "version_minor": 0
      },
      "text/plain": [
       "Validation: |          | 0/? [00:00<?, ?it/s]"
      ]
     },
     "metadata": {},
     "output_type": "display_data"
    },
    {
     "name": "stdout",
     "output_type": "stream",
     "text": [
      "[VAL] tas: RMSE=9.8006, Time-Mean RMSE=8.4202, Time-Stddev MAE=2.1693\n",
      "[VAL] pr: RMSE=3.3318, Time-Mean RMSE=1.9153, Time-Stddev MAE=1.5265\n"
     ]
    },
    {
     "data": {
      "application/vnd.jupyter.widget-view+json": {
       "model_id": "f59d7f6f407545e088c4cc3bf64c2dbe",
       "version_major": 2,
       "version_minor": 0
      },
      "text/plain": [
       "Validation: |          | 0/? [00:00<?, ?it/s]"
      ]
     },
     "metadata": {},
     "output_type": "display_data"
    },
    {
     "name": "stdout",
     "output_type": "stream",
     "text": [
      "[VAL] tas: RMSE=8.4111, Time-Mean RMSE=6.7572, Time-Stddev MAE=2.4745\n",
      "[VAL] pr: RMSE=3.2139, Time-Mean RMSE=1.7600, Time-Stddev MAE=1.5394\n"
     ]
    },
    {
     "data": {
      "application/vnd.jupyter.widget-view+json": {
       "model_id": "4124408f514a402280cd640322b53808",
       "version_major": 2,
       "version_minor": 0
      },
      "text/plain": [
       "Validation: |          | 0/? [00:00<?, ?it/s]"
      ]
     },
     "metadata": {},
     "output_type": "display_data"
    },
    {
     "name": "stdout",
     "output_type": "stream",
     "text": [
      "[VAL] tas: RMSE=6.4224, Time-Mean RMSE=5.1337, Time-Stddev MAE=1.5138\n",
      "[VAL] pr: RMSE=3.1904, Time-Mean RMSE=1.7597, Time-Stddev MAE=1.5459\n"
     ]
    },
    {
     "data": {
      "application/vnd.jupyter.widget-view+json": {
       "model_id": "1e1657b9e0894039a42dcceb3be1135c",
       "version_major": 2,
       "version_minor": 0
      },
      "text/plain": [
       "Validation: |          | 0/? [00:00<?, ?it/s]"
      ]
     },
     "metadata": {},
     "output_type": "display_data"
    },
    {
     "name": "stdout",
     "output_type": "stream",
     "text": [
      "[VAL] tas: RMSE=6.4029, Time-Mean RMSE=5.1160, Time-Stddev MAE=1.7558\n",
      "[VAL] pr: RMSE=3.1475, Time-Mean RMSE=1.6986, Time-Stddev MAE=1.6671\n"
     ]
    },
    {
     "data": {
      "application/vnd.jupyter.widget-view+json": {
       "model_id": "74d24559e7724e2fac2eccda46641783",
       "version_major": 2,
       "version_minor": 0
      },
      "text/plain": [
       "Validation: |          | 0/? [00:00<?, ?it/s]"
      ]
     },
     "metadata": {},
     "output_type": "display_data"
    },
    {
     "name": "stdout",
     "output_type": "stream",
     "text": [
      "[VAL] tas: RMSE=4.9937, Time-Mean RMSE=3.8159, Time-Stddev MAE=1.1937\n",
      "[VAL] pr: RMSE=3.0929, Time-Mean RMSE=1.6750, Time-Stddev MAE=1.5620\n"
     ]
    },
    {
     "data": {
      "application/vnd.jupyter.widget-view+json": {
       "model_id": "",
       "version_major": 2,
       "version_minor": 0
      },
      "text/plain": [
       "Validation: |          | 0/? [00:00<?, ?it/s]"
      ]
     },
     "metadata": {},
     "output_type": "display_data"
    },
    {
     "name": "stdout",
     "output_type": "stream",
     "text": [
      "[VAL] tas: RMSE=5.1683, Time-Mean RMSE=4.1420, Time-Stddev MAE=1.3900\n",
      "[VAL] pr: RMSE=3.0655, Time-Mean RMSE=1.6697, Time-Stddev MAE=1.5189\n"
     ]
    },
    {
     "data": {
      "application/vnd.jupyter.widget-view+json": {
       "model_id": "",
       "version_major": 2,
       "version_minor": 0
      },
      "text/plain": [
       "Validation: |          | 0/? [00:00<?, ?it/s]"
      ]
     },
     "metadata": {},
     "output_type": "display_data"
    },
    {
     "name": "stdout",
     "output_type": "stream",
     "text": [
      "[VAL] tas: RMSE=4.7495, Time-Mean RMSE=3.6940, Time-Stddev MAE=1.2227\n",
      "[VAL] pr: RMSE=3.0471, Time-Mean RMSE=1.6560, Time-Stddev MAE=1.4338\n"
     ]
    },
    {
     "data": {
      "application/vnd.jupyter.widget-view+json": {
       "model_id": "",
       "version_major": 2,
       "version_minor": 0
      },
      "text/plain": [
       "Validation: |          | 0/? [00:00<?, ?it/s]"
      ]
     },
     "metadata": {},
     "output_type": "display_data"
    },
    {
     "name": "stdout",
     "output_type": "stream",
     "text": [
      "[VAL] tas: RMSE=4.6625, Time-Mean RMSE=3.6994, Time-Stddev MAE=1.2020\n",
      "[VAL] pr: RMSE=3.0277, Time-Mean RMSE=1.6415, Time-Stddev MAE=1.4648\n"
     ]
    },
    {
     "data": {
      "application/vnd.jupyter.widget-view+json": {
       "model_id": "",
       "version_major": 2,
       "version_minor": 0
      },
      "text/plain": [
       "Validation: |          | 0/? [00:00<?, ?it/s]"
      ]
     },
     "metadata": {},
     "output_type": "display_data"
    },
    {
     "name": "stdout",
     "output_type": "stream",
     "text": [
      "[VAL] tas: RMSE=4.6061, Time-Mean RMSE=3.6248, Time-Stddev MAE=1.1233\n",
      "[VAL] pr: RMSE=3.0525, Time-Mean RMSE=1.6502, Time-Stddev MAE=1.5004\n"
     ]
    },
    {
     "data": {
      "application/vnd.jupyter.widget-view+json": {
       "model_id": "",
       "version_major": 2,
       "version_minor": 0
      },
      "text/plain": [
       "Validation: |          | 0/? [00:00<?, ?it/s]"
      ]
     },
     "metadata": {},
     "output_type": "display_data"
    },
    {
     "name": "stdout",
     "output_type": "stream",
     "text": [
      "[VAL] tas: RMSE=4.6633, Time-Mean RMSE=3.7283, Time-Stddev MAE=1.2007\n",
      "[VAL] pr: RMSE=3.0326, Time-Mean RMSE=1.6351, Time-Stddev MAE=1.4740\n"
     ]
    },
    {
     "data": {
      "application/vnd.jupyter.widget-view+json": {
       "model_id": "",
       "version_major": 2,
       "version_minor": 0
      },
      "text/plain": [
       "Validation: |          | 0/? [00:00<?, ?it/s]"
      ]
     },
     "metadata": {},
     "output_type": "display_data"
    },
    {
     "name": "stdout",
     "output_type": "stream",
     "text": [
      "[VAL] tas: RMSE=4.3393, Time-Mean RMSE=3.5998, Time-Stddev MAE=1.0184\n",
      "[VAL] pr: RMSE=2.9862, Time-Mean RMSE=1.6370, Time-Stddev MAE=1.3906\n"
     ]
    },
    {
     "data": {
      "application/vnd.jupyter.widget-view+json": {
       "model_id": "",
       "version_major": 2,
       "version_minor": 0
      },
      "text/plain": [
       "Validation: |          | 0/? [00:00<?, ?it/s]"
      ]
     },
     "metadata": {},
     "output_type": "display_data"
    },
    {
     "name": "stdout",
     "output_type": "stream",
     "text": [
      "[VAL] tas: RMSE=4.5563, Time-Mean RMSE=3.7104, Time-Stddev MAE=1.1139\n",
      "[VAL] pr: RMSE=3.0220, Time-Mean RMSE=1.6473, Time-Stddev MAE=1.4430\n"
     ]
    },
    {
     "data": {
      "application/vnd.jupyter.widget-view+json": {
       "model_id": "",
       "version_major": 2,
       "version_minor": 0
      },
      "text/plain": [
       "Validation: |          | 0/? [00:00<?, ?it/s]"
      ]
     },
     "metadata": {},
     "output_type": "display_data"
    },
    {
     "name": "stdout",
     "output_type": "stream",
     "text": [
      "[VAL] tas: RMSE=4.3152, Time-Mean RMSE=3.4795, Time-Stddev MAE=1.0376\n",
      "[VAL] pr: RMSE=3.0066, Time-Mean RMSE=1.6246, Time-Stddev MAE=1.4207\n"
     ]
    },
    {
     "data": {
      "application/vnd.jupyter.widget-view+json": {
       "model_id": "",
       "version_major": 2,
       "version_minor": 0
      },
      "text/plain": [
       "Validation: |          | 0/? [00:00<?, ?it/s]"
      ]
     },
     "metadata": {},
     "output_type": "display_data"
    },
    {
     "name": "stdout",
     "output_type": "stream",
     "text": [
      "[VAL] tas: RMSE=5.3652, Time-Mean RMSE=3.5437, Time-Stddev MAE=1.5311\n",
      "[VAL] pr: RMSE=3.1277, Time-Mean RMSE=1.6341, Time-Stddev MAE=1.5032\n"
     ]
    },
    {
     "name": "stderr",
     "output_type": "stream",
     "text": [
      "Restoring states from the checkpoint path at /home/ruz039/private/cse151b/DL_for_Climate_Emulation/lightning_logs/gs_resnet_run_2/checkpoints/resnet-d18-epoch=12-val/loss=0.39.ckpt\n",
      "LOCAL_RANK: 0 - CUDA_VISIBLE_DEVICES: [0]\n",
      "Loaded model weights from the checkpoint at /home/ruz039/private/cse151b/DL_for_Climate_Emulation/lightning_logs/gs_resnet_run_2/checkpoints/resnet-d18-epoch=12-val/loss=0.39.ckpt\n"
     ]
    },
    {
     "data": {
      "application/vnd.jupyter.widget-view+json": {
       "model_id": "6249cc459e5743418c0554b83381a2aa",
       "version_major": 2,
       "version_minor": 0
      },
      "text/plain": [
       "Validation: |          | 0/? [00:00<?, ?it/s]"
      ]
     },
     "metadata": {},
     "output_type": "display_data"
    },
    {
     "name": "stdout",
     "output_type": "stream",
     "text": [
      "[VAL] tas: RMSE=4.3393, Time-Mean RMSE=3.5998, Time-Stddev MAE=1.0184\n",
      "[VAL] pr: RMSE=2.9862, Time-Mean RMSE=1.6370, Time-Stddev MAE=1.3906\n",
      "────────────────────────────────────────────────────────────────────────────────────────────────────────────────────────\n",
      "     Validate metric           DataLoader 0\n",
      "────────────────────────────────────────────────────────────────────────────────────────────────────────────────────────\n",
      "        val/loss            0.3874010741710663\n",
      "       val/pr/rmse          2.9861667156219482\n",
      "  val/pr/time_mean_rmse     1.6370073556900024\n",
      "   val/pr/time_std_mae      1.3906482458114624\n",
      "      val/tas/rmse           4.339258670806885\n",
      " val/tas/time_mean_rmse     3.5997612476348877\n",
      "  val/tas/time_std_mae       1.018449068069458\n",
      "────────────────────────────────────────────────────────────────────────────────────────────────────────────────────────\n",
      "→ Run 2 val/loss = 0.3874\n",
      "\n",
      "--- Run 3/10 — {'depth': 34, 'lr': 0.001, 'optimizer_type': 'AdamW', 'weight_decay': 0.0, 'scheduler_type': 'CosineAnnealingLR', 'batch_size': 16} ---\n"
     ]
    },
    {
     "name": "stderr",
     "output_type": "stream",
     "text": [
      "/home/ruz039/.local/lib/python3.11/site-packages/lightning/fabric/connector.py:571: `precision=16` is supported for historical reasons but its usage is discouraged. Please set your precision to 16-mixed instead!\n",
      "Using 16bit Automatic Mixed Precision (AMP)\n",
      "GPU available: True (cuda), used: True\n",
      "TPU available: False, using: 0 TPU cores\n",
      "HPU available: False, using: 0 HPUs\n"
     ]
    },
    {
     "name": "stdout",
     "output_type": "stream",
     "text": [
      "Creating dataset with 2703 samples...\n",
      "Dataset created. Input shape: torch.Size([2703, 5, 48, 72]), Output shape: torch.Size([2703, 2, 48, 72])\n",
      "Creating dataset with 360 samples...\n"
     ]
    },
    {
     "name": "stderr",
     "output_type": "stream",
     "text": [
      "LOCAL_RANK: 0 - CUDA_VISIBLE_DEVICES: [0]\n",
      "\n",
      "  | Name      | Type    | Params | Mode \n",
      "----------------------------------------------\n",
      "0 | model     | ResNet  | 21.3 M | train\n",
      "1 | criterion | MSELoss | 0      | train\n",
      "----------------------------------------------\n",
      "21.3 M    Trainable params\n",
      "0         Non-trainable params\n",
      "21.3 M    Total params\n",
      "85.117    Total estimated model params size (MB)\n",
      "117       Modules in train mode\n",
      "0         Modules in eval mode\n"
     ]
    },
    {
     "name": "stdout",
     "output_type": "stream",
     "text": [
      "Dataset created. Input shape: torch.Size([360, 5, 48, 72]), Output shape: torch.Size([360, 2, 48, 72])\n"
     ]
    },
    {
     "data": {
      "application/vnd.jupyter.widget-view+json": {
       "model_id": "5042f3e9619347ed9b437463b57768aa",
       "version_major": 2,
       "version_minor": 0
      },
      "text/plain": [
       "Training: |          | 0/? [00:00<?, ?it/s]"
      ]
     },
     "metadata": {},
     "output_type": "display_data"
    },
    {
     "data": {
      "application/vnd.jupyter.widget-view+json": {
       "model_id": "",
       "version_major": 2,
       "version_minor": 0
      },
      "text/plain": [
       "Validation: |          | 0/? [00:00<?, ?it/s]"
      ]
     },
     "metadata": {},
     "output_type": "display_data"
    },
    {
     "name": "stdout",
     "output_type": "stream",
     "text": [
      "[VAL] tas: RMSE=6.9564, Time-Mean RMSE=4.9805, Time-Stddev MAE=1.9065\n",
      "[VAL] pr: RMSE=3.2468, Time-Mean RMSE=1.7197, Time-Stddev MAE=1.6102\n"
     ]
    },
    {
     "data": {
      "application/vnd.jupyter.widget-view+json": {
       "model_id": "",
       "version_major": 2,
       "version_minor": 0
      },
      "text/plain": [
       "Validation: |          | 0/? [00:00<?, ?it/s]"
      ]
     },
     "metadata": {},
     "output_type": "display_data"
    },
    {
     "name": "stdout",
     "output_type": "stream",
     "text": [
      "[VAL] tas: RMSE=6.0096, Time-Mean RMSE=4.1516, Time-Stddev MAE=1.4162\n",
      "[VAL] pr: RMSE=3.1968, Time-Mean RMSE=1.6675, Time-Stddev MAE=1.6225\n"
     ]
    },
    {
     "data": {
      "application/vnd.jupyter.widget-view+json": {
       "model_id": "",
       "version_major": 2,
       "version_minor": 0
      },
      "text/plain": [
       "Validation: |          | 0/? [00:00<?, ?it/s]"
      ]
     },
     "metadata": {},
     "output_type": "display_data"
    },
    {
     "name": "stdout",
     "output_type": "stream",
     "text": [
      "[VAL] tas: RMSE=5.2892, Time-Mean RMSE=3.9171, Time-Stddev MAE=1.2781\n",
      "[VAL] pr: RMSE=3.1388, Time-Mean RMSE=1.6612, Time-Stddev MAE=1.6129\n"
     ]
    },
    {
     "data": {
      "application/vnd.jupyter.widget-view+json": {
       "model_id": "",
       "version_major": 2,
       "version_minor": 0
      },
      "text/plain": [
       "Validation: |          | 0/? [00:00<?, ?it/s]"
      ]
     },
     "metadata": {},
     "output_type": "display_data"
    },
    {
     "name": "stdout",
     "output_type": "stream",
     "text": [
      "[VAL] tas: RMSE=4.9754, Time-Mean RMSE=3.4416, Time-Stddev MAE=1.2416\n",
      "[VAL] pr: RMSE=3.0914, Time-Mean RMSE=1.6254, Time-Stddev MAE=1.4861\n"
     ]
    },
    {
     "data": {
      "application/vnd.jupyter.widget-view+json": {
       "model_id": "",
       "version_major": 2,
       "version_minor": 0
      },
      "text/plain": [
       "Validation: |          | 0/? [00:00<?, ?it/s]"
      ]
     },
     "metadata": {},
     "output_type": "display_data"
    },
    {
     "name": "stdout",
     "output_type": "stream",
     "text": [
      "[VAL] tas: RMSE=4.7456, Time-Mean RMSE=3.6445, Time-Stddev MAE=1.0497\n",
      "[VAL] pr: RMSE=3.0633, Time-Mean RMSE=1.6395, Time-Stddev MAE=1.4304\n"
     ]
    },
    {
     "data": {
      "application/vnd.jupyter.widget-view+json": {
       "model_id": "",
       "version_major": 2,
       "version_minor": 0
      },
      "text/plain": [
       "Validation: |          | 0/? [00:00<?, ?it/s]"
      ]
     },
     "metadata": {},
     "output_type": "display_data"
    },
    {
     "name": "stdout",
     "output_type": "stream",
     "text": [
      "[VAL] tas: RMSE=4.5861, Time-Mean RMSE=3.3058, Time-Stddev MAE=1.0310\n",
      "[VAL] pr: RMSE=3.0503, Time-Mean RMSE=1.6270, Time-Stddev MAE=1.3737\n"
     ]
    },
    {
     "data": {
      "application/vnd.jupyter.widget-view+json": {
       "model_id": "",
       "version_major": 2,
       "version_minor": 0
      },
      "text/plain": [
       "Validation: |          | 0/? [00:00<?, ?it/s]"
      ]
     },
     "metadata": {},
     "output_type": "display_data"
    },
    {
     "name": "stdout",
     "output_type": "stream",
     "text": [
      "[VAL] tas: RMSE=4.4591, Time-Mean RMSE=3.4099, Time-Stddev MAE=1.0692\n",
      "[VAL] pr: RMSE=3.0257, Time-Mean RMSE=1.6217, Time-Stddev MAE=1.3799\n"
     ]
    },
    {
     "data": {
      "application/vnd.jupyter.widget-view+json": {
       "model_id": "",
       "version_major": 2,
       "version_minor": 0
      },
      "text/plain": [
       "Validation: |          | 0/? [00:00<?, ?it/s]"
      ]
     },
     "metadata": {},
     "output_type": "display_data"
    },
    {
     "name": "stdout",
     "output_type": "stream",
     "text": [
      "[VAL] tas: RMSE=4.2778, Time-Mean RMSE=3.4507, Time-Stddev MAE=1.0052\n",
      "[VAL] pr: RMSE=2.9812, Time-Mean RMSE=1.6200, Time-Stddev MAE=1.3466\n"
     ]
    },
    {
     "data": {
      "application/vnd.jupyter.widget-view+json": {
       "model_id": "",
       "version_major": 2,
       "version_minor": 0
      },
      "text/plain": [
       "Validation: |          | 0/? [00:00<?, ?it/s]"
      ]
     },
     "metadata": {},
     "output_type": "display_data"
    },
    {
     "name": "stdout",
     "output_type": "stream",
     "text": [
      "[VAL] tas: RMSE=4.1503, Time-Mean RMSE=3.3891, Time-Stddev MAE=0.9848\n",
      "[VAL] pr: RMSE=2.9736, Time-Mean RMSE=1.6210, Time-Stddev MAE=1.3237\n"
     ]
    },
    {
     "data": {
      "application/vnd.jupyter.widget-view+json": {
       "model_id": "",
       "version_major": 2,
       "version_minor": 0
      },
      "text/plain": [
       "Validation: |          | 0/? [00:00<?, ?it/s]"
      ]
     },
     "metadata": {},
     "output_type": "display_data"
    },
    {
     "name": "stdout",
     "output_type": "stream",
     "text": [
      "[VAL] tas: RMSE=4.4090, Time-Mean RMSE=3.5111, Time-Stddev MAE=1.0091\n",
      "[VAL] pr: RMSE=3.0073, Time-Mean RMSE=1.6378, Time-Stddev MAE=1.3343\n"
     ]
    },
    {
     "data": {
      "application/vnd.jupyter.widget-view+json": {
       "model_id": "",
       "version_major": 2,
       "version_minor": 0
      },
      "text/plain": [
       "Validation: |          | 0/? [00:00<?, ?it/s]"
      ]
     },
     "metadata": {},
     "output_type": "display_data"
    },
    {
     "name": "stdout",
     "output_type": "stream",
     "text": [
      "[VAL] tas: RMSE=4.1347, Time-Mean RMSE=3.4289, Time-Stddev MAE=0.9548\n",
      "[VAL] pr: RMSE=2.9648, Time-Mean RMSE=1.6228, Time-Stddev MAE=1.3007\n"
     ]
    },
    {
     "data": {
      "application/vnd.jupyter.widget-view+json": {
       "model_id": "",
       "version_major": 2,
       "version_minor": 0
      },
      "text/plain": [
       "Validation: |          | 0/? [00:00<?, ?it/s]"
      ]
     },
     "metadata": {},
     "output_type": "display_data"
    },
    {
     "name": "stdout",
     "output_type": "stream",
     "text": [
      "[VAL] tas: RMSE=4.0595, Time-Mean RMSE=3.3632, Time-Stddev MAE=0.9655\n",
      "[VAL] pr: RMSE=2.9572, Time-Mean RMSE=1.6224, Time-Stddev MAE=1.2985\n"
     ]
    },
    {
     "data": {
      "application/vnd.jupyter.widget-view+json": {
       "model_id": "",
       "version_major": 2,
       "version_minor": 0
      },
      "text/plain": [
       "Validation: |          | 0/? [00:00<?, ?it/s]"
      ]
     },
     "metadata": {},
     "output_type": "display_data"
    },
    {
     "name": "stdout",
     "output_type": "stream",
     "text": [
      "[VAL] tas: RMSE=4.0096, Time-Mean RMSE=3.3470, Time-Stddev MAE=0.9722\n",
      "[VAL] pr: RMSE=2.9536, Time-Mean RMSE=1.6253, Time-Stddev MAE=1.2756\n"
     ]
    },
    {
     "data": {
      "application/vnd.jupyter.widget-view+json": {
       "model_id": "",
       "version_major": 2,
       "version_minor": 0
      },
      "text/plain": [
       "Validation: |          | 0/? [00:00<?, ?it/s]"
      ]
     },
     "metadata": {},
     "output_type": "display_data"
    },
    {
     "name": "stdout",
     "output_type": "stream",
     "text": [
      "[VAL] tas: RMSE=4.0543, Time-Mean RMSE=3.3966, Time-Stddev MAE=0.9752\n",
      "[VAL] pr: RMSE=2.9532, Time-Mean RMSE=1.6222, Time-Stddev MAE=1.2829\n"
     ]
    },
    {
     "data": {
      "application/vnd.jupyter.widget-view+json": {
       "model_id": "",
       "version_major": 2,
       "version_minor": 0
      },
      "text/plain": [
       "Validation: |          | 0/? [00:00<?, ?it/s]"
      ]
     },
     "metadata": {},
     "output_type": "display_data"
    },
    {
     "name": "stdout",
     "output_type": "stream",
     "text": [
      "[VAL] tas: RMSE=4.1523, Time-Mean RMSE=3.4316, Time-Stddev MAE=0.9793\n",
      "[VAL] pr: RMSE=2.9641, Time-Mean RMSE=1.6214, Time-Stddev MAE=1.2675\n"
     ]
    },
    {
     "data": {
      "application/vnd.jupyter.widget-view+json": {
       "model_id": "",
       "version_major": 2,
       "version_minor": 0
      },
      "text/plain": [
       "Validation: |          | 0/? [00:00<?, ?it/s]"
      ]
     },
     "metadata": {},
     "output_type": "display_data"
    },
    {
     "name": "stdout",
     "output_type": "stream",
     "text": [
      "[VAL] tas: RMSE=4.0853, Time-Mean RMSE=3.3755, Time-Stddev MAE=0.9920\n",
      "[VAL] pr: RMSE=2.9585, Time-Mean RMSE=1.6223, Time-Stddev MAE=1.2722\n"
     ]
    },
    {
     "name": "stderr",
     "output_type": "stream",
     "text": [
      "Restoring states from the checkpoint path at /home/ruz039/private/cse151b/DL_for_Climate_Emulation/lightning_logs/gs_resnet_run_3/checkpoints/resnet-d34-epoch=12-val/loss=0.37.ckpt\n",
      "LOCAL_RANK: 0 - CUDA_VISIBLE_DEVICES: [0]\n",
      "Loaded model weights from the checkpoint at /home/ruz039/private/cse151b/DL_for_Climate_Emulation/lightning_logs/gs_resnet_run_3/checkpoints/resnet-d34-epoch=12-val/loss=0.37.ckpt\n"
     ]
    },
    {
     "data": {
      "application/vnd.jupyter.widget-view+json": {
       "model_id": "0091c702fdcb4097b72e442088097818",
       "version_major": 2,
       "version_minor": 0
      },
      "text/plain": [
       "Validation: |          | 0/? [00:00<?, ?it/s]"
      ]
     },
     "metadata": {},
     "output_type": "display_data"
    },
    {
     "name": "stdout",
     "output_type": "stream",
     "text": [
      "[VAL] tas: RMSE=4.0096, Time-Mean RMSE=3.3470, Time-Stddev MAE=0.9722\n",
      "[VAL] pr: RMSE=2.9536, Time-Mean RMSE=1.6253, Time-Stddev MAE=1.2756\n",
      "────────────────────────────────────────────────────────────────────────────────────────────────────────────────────────\n",
      "     Validate metric           DataLoader 0\n",
      "────────────────────────────────────────────────────────────────────────────────────────────────────────────────────────\n",
      "        val/loss            0.3746112883090973\n",
      "       val/pr/rmse           2.953634262084961\n",
      "  val/pr/time_mean_rmse     1.6252825260162354\n",
      "   val/pr/time_std_mae       1.275566577911377\n",
      "      val/tas/rmse           4.009565830230713\n",
      " val/tas/time_mean_rmse      3.346964120864868\n",
      "  val/tas/time_std_mae      0.9722080826759338\n",
      "────────────────────────────────────────────────────────────────────────────────────────────────────────────────────────\n",
      "→ Run 3 val/loss = 0.3746\n",
      "\n",
      "--- Run 4/10 — {'depth': 34, 'lr': 0.0005, 'optimizer_type': 'Adam', 'weight_decay': 0.01, 'scheduler_type': None, 'batch_size': 16} ---\n"
     ]
    },
    {
     "name": "stderr",
     "output_type": "stream",
     "text": [
      "/home/ruz039/.local/lib/python3.11/site-packages/lightning/fabric/connector.py:571: `precision=16` is supported for historical reasons but its usage is discouraged. Please set your precision to 16-mixed instead!\n",
      "Using 16bit Automatic Mixed Precision (AMP)\n",
      "GPU available: True (cuda), used: True\n",
      "TPU available: False, using: 0 TPU cores\n",
      "HPU available: False, using: 0 HPUs\n"
     ]
    },
    {
     "name": "stdout",
     "output_type": "stream",
     "text": [
      "Creating dataset with 2703 samples...\n",
      "Dataset created. Input shape: torch.Size([2703, 5, 48, 72]), Output shape: torch.Size([2703, 2, 48, 72])\n",
      "Creating dataset with 360 samples...\n"
     ]
    },
    {
     "name": "stderr",
     "output_type": "stream",
     "text": [
      "LOCAL_RANK: 0 - CUDA_VISIBLE_DEVICES: [0]\n",
      "\n",
      "  | Name      | Type    | Params | Mode \n",
      "----------------------------------------------\n",
      "0 | model     | ResNet  | 21.3 M | train\n",
      "1 | criterion | MSELoss | 0      | train\n",
      "----------------------------------------------\n",
      "21.3 M    Trainable params\n",
      "0         Non-trainable params\n",
      "21.3 M    Total params\n",
      "85.117    Total estimated model params size (MB)\n",
      "117       Modules in train mode\n",
      "0         Modules in eval mode\n"
     ]
    },
    {
     "name": "stdout",
     "output_type": "stream",
     "text": [
      "Dataset created. Input shape: torch.Size([360, 5, 48, 72]), Output shape: torch.Size([360, 2, 48, 72])\n"
     ]
    },
    {
     "data": {
      "application/vnd.jupyter.widget-view+json": {
       "model_id": "0bb2cfe70d6646db8c510407cab8b31d",
       "version_major": 2,
       "version_minor": 0
      },
      "text/plain": [
       "Training: |          | 0/? [00:00<?, ?it/s]"
      ]
     },
     "metadata": {},
     "output_type": "display_data"
    },
    {
     "data": {
      "application/vnd.jupyter.widget-view+json": {
       "model_id": "",
       "version_major": 2,
       "version_minor": 0
      },
      "text/plain": [
       "Validation: |          | 0/? [00:00<?, ?it/s]"
      ]
     },
     "metadata": {},
     "output_type": "display_data"
    },
    {
     "name": "stdout",
     "output_type": "stream",
     "text": [
      "[VAL] tas: RMSE=7.8979, Time-Mean RMSE=5.7371, Time-Stddev MAE=2.3716\n",
      "[VAL] pr: RMSE=3.4753, Time-Mean RMSE=2.0780, Time-Stddev MAE=1.4373\n"
     ]
    },
    {
     "data": {
      "application/vnd.jupyter.widget-view+json": {
       "model_id": "",
       "version_major": 2,
       "version_minor": 0
      },
      "text/plain": [
       "Validation: |          | 0/? [00:00<?, ?it/s]"
      ]
     },
     "metadata": {},
     "output_type": "display_data"
    },
    {
     "name": "stdout",
     "output_type": "stream",
     "text": [
      "[VAL] tas: RMSE=7.2947, Time-Mean RMSE=5.8650, Time-Stddev MAE=1.8858\n",
      "[VAL] pr: RMSE=3.3384, Time-Mean RMSE=1.9378, Time-Stddev MAE=1.6080\n"
     ]
    },
    {
     "data": {
      "application/vnd.jupyter.widget-view+json": {
       "model_id": "",
       "version_major": 2,
       "version_minor": 0
      },
      "text/plain": [
       "Validation: |          | 0/? [00:00<?, ?it/s]"
      ]
     },
     "metadata": {},
     "output_type": "display_data"
    },
    {
     "name": "stdout",
     "output_type": "stream",
     "text": [
      "[VAL] tas: RMSE=6.2522, Time-Mean RMSE=4.4954, Time-Stddev MAE=1.6542\n",
      "[VAL] pr: RMSE=3.5178, Time-Mean RMSE=2.1032, Time-Stddev MAE=1.4138\n"
     ]
    },
    {
     "data": {
      "application/vnd.jupyter.widget-view+json": {
       "model_id": "",
       "version_major": 2,
       "version_minor": 0
      },
      "text/plain": [
       "Validation: |          | 0/? [00:00<?, ?it/s]"
      ]
     },
     "metadata": {},
     "output_type": "display_data"
    },
    {
     "name": "stdout",
     "output_type": "stream",
     "text": [
      "[VAL] tas: RMSE=13.7605, Time-Mean RMSE=13.0072, Time-Stddev MAE=2.2748\n",
      "[VAL] pr: RMSE=3.3265, Time-Mean RMSE=1.9502, Time-Stddev MAE=1.6455\n"
     ]
    },
    {
     "data": {
      "application/vnd.jupyter.widget-view+json": {
       "model_id": "",
       "version_major": 2,
       "version_minor": 0
      },
      "text/plain": [
       "Validation: |          | 0/? [00:00<?, ?it/s]"
      ]
     },
     "metadata": {},
     "output_type": "display_data"
    },
    {
     "name": "stdout",
     "output_type": "stream",
     "text": [
      "[VAL] tas: RMSE=57.1145, Time-Mean RMSE=55.5104, Time-Stddev MAE=9.2112\n",
      "[VAL] pr: RMSE=4.0750, Time-Mean RMSE=3.0033, Time-Stddev MAE=1.4725\n"
     ]
    },
    {
     "name": "stderr",
     "output_type": "stream",
     "text": [
      "Restoring states from the checkpoint path at /home/ruz039/private/cse151b/DL_for_Climate_Emulation/lightning_logs/gs_resnet_run_4/checkpoints/resnet-d34-epoch=01-val/loss=0.54.ckpt\n",
      "LOCAL_RANK: 0 - CUDA_VISIBLE_DEVICES: [0]\n",
      "Loaded model weights from the checkpoint at /home/ruz039/private/cse151b/DL_for_Climate_Emulation/lightning_logs/gs_resnet_run_4/checkpoints/resnet-d34-epoch=01-val/loss=0.54.ckpt\n"
     ]
    },
    {
     "data": {
      "application/vnd.jupyter.widget-view+json": {
       "model_id": "2c24561d42454d1c9652780684083138",
       "version_major": 2,
       "version_minor": 0
      },
      "text/plain": [
       "Validation: |          | 0/? [00:00<?, ?it/s]"
      ]
     },
     "metadata": {},
     "output_type": "display_data"
    },
    {
     "name": "stdout",
     "output_type": "stream",
     "text": [
      "[VAL] tas: RMSE=7.2947, Time-Mean RMSE=5.8650, Time-Stddev MAE=1.8858\n",
      "[VAL] pr: RMSE=3.3384, Time-Mean RMSE=1.9378, Time-Stddev MAE=1.6080\n",
      "────────────────────────────────────────────────────────────────────────────────────────────────────────────────────────\n",
      "     Validate metric           DataLoader 0\n",
      "────────────────────────────────────────────────────────────────────────────────────────────────────────────────────────\n",
      "        val/loss            0.5386437177658081\n",
      "       val/pr/rmse          3.3384158611297607\n",
      "  val/pr/time_mean_rmse     1.9378284215927124\n",
      "   val/pr/time_std_mae      1.6079840660095215\n",
      "      val/tas/rmse           7.294686317443848\n",
      " val/tas/time_mean_rmse      5.86503267288208\n",
      "  val/tas/time_std_mae      1.8858200311660767\n",
      "────────────────────────────────────────────────────────────────────────────────────────────────────────────────────────\n"
     ]
    },
    {
     "name": "stderr",
     "output_type": "stream",
     "text": [
      "/home/ruz039/.local/lib/python3.11/site-packages/lightning/fabric/connector.py:571: `precision=16` is supported for historical reasons but its usage is discouraged. Please set your precision to 16-mixed instead!\n",
      "Using 16bit Automatic Mixed Precision (AMP)\n"
     ]
    },
    {
     "name": "stdout",
     "output_type": "stream",
     "text": [
      "→ Run 4 val/loss = 0.5386\n",
      "\n",
      "--- Run 5/10 — {'depth': 18, 'lr': 0.0001, 'optimizer_type': 'AdamW', 'weight_decay': 0.01, 'scheduler_type': 'CosineAnnealingLR', 'batch_size': 64} ---\n"
     ]
    },
    {
     "name": "stderr",
     "output_type": "stream",
     "text": [
      "GPU available: True (cuda), used: True\n",
      "TPU available: False, using: 0 TPU cores\n",
      "HPU available: False, using: 0 HPUs\n"
     ]
    },
    {
     "name": "stdout",
     "output_type": "stream",
     "text": [
      "Creating dataset with 2703 samples...\n",
      "Dataset created. Input shape: torch.Size([2703, 5, 48, 72]), Output shape: torch.Size([2703, 2, 48, 72])\n",
      "Creating dataset with 360 samples...\n"
     ]
    },
    {
     "name": "stderr",
     "output_type": "stream",
     "text": [
      "LOCAL_RANK: 0 - CUDA_VISIBLE_DEVICES: [0]\n",
      "\n",
      "  | Name      | Type    | Params | Mode \n",
      "----------------------------------------------\n",
      "0 | model     | ResNet  | 11.2 M | train\n",
      "1 | criterion | MSELoss | 0      | train\n",
      "----------------------------------------------\n",
      "11.2 M    Trainable params\n",
      "0         Non-trainable params\n",
      "11.2 M    Total params\n",
      "44.684    Total estimated model params size (MB)\n",
      "69        Modules in train mode\n",
      "0         Modules in eval mode\n"
     ]
    },
    {
     "name": "stdout",
     "output_type": "stream",
     "text": [
      "Dataset created. Input shape: torch.Size([360, 5, 48, 72]), Output shape: torch.Size([360, 2, 48, 72])\n"
     ]
    },
    {
     "name": "stderr",
     "output_type": "stream",
     "text": [
      "/home/ruz039/.local/lib/python3.11/site-packages/lightning/pytorch/loops/fit_loop.py:310: The number of training batches (43) is smaller than the logging interval Trainer(log_every_n_steps=50). Set a lower value for log_every_n_steps if you want to see logs for the training epoch.\n"
     ]
    },
    {
     "data": {
      "application/vnd.jupyter.widget-view+json": {
       "model_id": "0b3ee69e1e6540e6999c4a1030237f5f",
       "version_major": 2,
       "version_minor": 0
      },
      "text/plain": [
       "Training: |          | 0/? [00:00<?, ?it/s]"
      ]
     },
     "metadata": {},
     "output_type": "display_data"
    },
    {
     "data": {
      "application/vnd.jupyter.widget-view+json": {
       "model_id": "",
       "version_major": 2,
       "version_minor": 0
      },
      "text/plain": [
       "Validation: |          | 0/? [00:00<?, ?it/s]"
      ]
     },
     "metadata": {},
     "output_type": "display_data"
    },
    {
     "name": "stdout",
     "output_type": "stream",
     "text": [
      "[VAL] tas: RMSE=18.6332, Time-Mean RMSE=10.9185, Time-Stddev MAE=10.5035\n",
      "[VAL] pr: RMSE=4.0724, Time-Mean RMSE=2.3447, Time-Stddev MAE=1.4261\n"
     ]
    },
    {
     "data": {
      "application/vnd.jupyter.widget-view+json": {
       "model_id": "",
       "version_major": 2,
       "version_minor": 0
      },
      "text/plain": [
       "Validation: |          | 0/? [00:00<?, ?it/s]"
      ]
     },
     "metadata": {},
     "output_type": "display_data"
    },
    {
     "name": "stdout",
     "output_type": "stream",
     "text": [
      "[VAL] tas: RMSE=18.6649, Time-Mean RMSE=13.2565, Time-Stddev MAE=8.4115\n",
      "[VAL] pr: RMSE=3.6267, Time-Mean RMSE=1.9410, Time-Stddev MAE=1.3876\n"
     ]
    },
    {
     "data": {
      "application/vnd.jupyter.widget-view+json": {
       "model_id": "",
       "version_major": 2,
       "version_minor": 0
      },
      "text/plain": [
       "Validation: |          | 0/? [00:00<?, ?it/s]"
      ]
     },
     "metadata": {},
     "output_type": "display_data"
    },
    {
     "name": "stdout",
     "output_type": "stream",
     "text": [
      "[VAL] tas: RMSE=15.6638, Time-Mean RMSE=10.4165, Time-Stddev MAE=7.3868\n",
      "[VAL] pr: RMSE=3.4921, Time-Mean RMSE=1.8533, Time-Stddev MAE=1.3807\n"
     ]
    },
    {
     "data": {
      "application/vnd.jupyter.widget-view+json": {
       "model_id": "",
       "version_major": 2,
       "version_minor": 0
      },
      "text/plain": [
       "Validation: |          | 0/? [00:00<?, ?it/s]"
      ]
     },
     "metadata": {},
     "output_type": "display_data"
    },
    {
     "name": "stdout",
     "output_type": "stream",
     "text": [
      "[VAL] tas: RMSE=14.2462, Time-Mean RMSE=9.8904, Time-Stddev MAE=6.1382\n",
      "[VAL] pr: RMSE=3.4216, Time-Mean RMSE=1.7757, Time-Stddev MAE=1.3492\n"
     ]
    },
    {
     "data": {
      "application/vnd.jupyter.widget-view+json": {
       "model_id": "",
       "version_major": 2,
       "version_minor": 0
      },
      "text/plain": [
       "Validation: |          | 0/? [00:00<?, ?it/s]"
      ]
     },
     "metadata": {},
     "output_type": "display_data"
    },
    {
     "name": "stdout",
     "output_type": "stream",
     "text": [
      "[VAL] tas: RMSE=13.2096, Time-Mean RMSE=9.0482, Time-Stddev MAE=5.7959\n",
      "[VAL] pr: RMSE=3.3636, Time-Mean RMSE=1.7471, Time-Stddev MAE=1.3485\n"
     ]
    },
    {
     "data": {
      "application/vnd.jupyter.widget-view+json": {
       "model_id": "",
       "version_major": 2,
       "version_minor": 0
      },
      "text/plain": [
       "Validation: |          | 0/? [00:00<?, ?it/s]"
      ]
     },
     "metadata": {},
     "output_type": "display_data"
    },
    {
     "name": "stdout",
     "output_type": "stream",
     "text": [
      "[VAL] tas: RMSE=12.5665, Time-Mean RMSE=8.0431, Time-Stddev MAE=5.7197\n",
      "[VAL] pr: RMSE=3.3686, Time-Mean RMSE=1.7694, Time-Stddev MAE=1.3549\n"
     ]
    },
    {
     "data": {
      "application/vnd.jupyter.widget-view+json": {
       "model_id": "",
       "version_major": 2,
       "version_minor": 0
      },
      "text/plain": [
       "Validation: |          | 0/? [00:00<?, ?it/s]"
      ]
     },
     "metadata": {},
     "output_type": "display_data"
    },
    {
     "name": "stdout",
     "output_type": "stream",
     "text": [
      "[VAL] tas: RMSE=11.5572, Time-Mean RMSE=7.4753, Time-Stddev MAE=5.1331\n",
      "[VAL] pr: RMSE=3.3736, Time-Mean RMSE=1.8223, Time-Stddev MAE=1.3382\n"
     ]
    },
    {
     "data": {
      "application/vnd.jupyter.widget-view+json": {
       "model_id": "",
       "version_major": 2,
       "version_minor": 0
      },
      "text/plain": [
       "Validation: |          | 0/? [00:00<?, ?it/s]"
      ]
     },
     "metadata": {},
     "output_type": "display_data"
    },
    {
     "name": "stdout",
     "output_type": "stream",
     "text": [
      "[VAL] tas: RMSE=11.3884, Time-Mean RMSE=7.7250, Time-Stddev MAE=4.7412\n",
      "[VAL] pr: RMSE=3.3055, Time-Mean RMSE=1.7341, Time-Stddev MAE=1.3704\n"
     ]
    },
    {
     "data": {
      "application/vnd.jupyter.widget-view+json": {
       "model_id": "",
       "version_major": 2,
       "version_minor": 0
      },
      "text/plain": [
       "Validation: |          | 0/? [00:00<?, ?it/s]"
      ]
     },
     "metadata": {},
     "output_type": "display_data"
    },
    {
     "name": "stdout",
     "output_type": "stream",
     "text": [
      "[VAL] tas: RMSE=10.5678, Time-Mean RMSE=6.4837, Time-Stddev MAE=4.5818\n",
      "[VAL] pr: RMSE=3.3239, Time-Mean RMSE=1.7392, Time-Stddev MAE=1.4025\n"
     ]
    },
    {
     "data": {
      "application/vnd.jupyter.widget-view+json": {
       "model_id": "",
       "version_major": 2,
       "version_minor": 0
      },
      "text/plain": [
       "Validation: |          | 0/? [00:00<?, ?it/s]"
      ]
     },
     "metadata": {},
     "output_type": "display_data"
    },
    {
     "name": "stdout",
     "output_type": "stream",
     "text": [
      "[VAL] tas: RMSE=11.4026, Time-Mean RMSE=7.7225, Time-Stddev MAE=4.7413\n",
      "[VAL] pr: RMSE=3.3125, Time-Mean RMSE=1.7642, Time-Stddev MAE=1.3556\n"
     ]
    },
    {
     "data": {
      "application/vnd.jupyter.widget-view+json": {
       "model_id": "",
       "version_major": 2,
       "version_minor": 0
      },
      "text/plain": [
       "Validation: |          | 0/? [00:00<?, ?it/s]"
      ]
     },
     "metadata": {},
     "output_type": "display_data"
    },
    {
     "name": "stdout",
     "output_type": "stream",
     "text": [
      "[VAL] tas: RMSE=10.4687, Time-Mean RMSE=6.3735, Time-Stddev MAE=4.6937\n",
      "[VAL] pr: RMSE=3.3161, Time-Mean RMSE=1.7781, Time-Stddev MAE=1.3510\n"
     ]
    },
    {
     "data": {
      "application/vnd.jupyter.widget-view+json": {
       "model_id": "",
       "version_major": 2,
       "version_minor": 0
      },
      "text/plain": [
       "Validation: |          | 0/? [00:00<?, ?it/s]"
      ]
     },
     "metadata": {},
     "output_type": "display_data"
    },
    {
     "name": "stdout",
     "output_type": "stream",
     "text": [
      "[VAL] tas: RMSE=11.0545, Time-Mean RMSE=7.5712, Time-Stddev MAE=4.4075\n",
      "[VAL] pr: RMSE=3.2910, Time-Mean RMSE=1.7300, Time-Stddev MAE=1.3728\n"
     ]
    },
    {
     "data": {
      "application/vnd.jupyter.widget-view+json": {
       "model_id": "",
       "version_major": 2,
       "version_minor": 0
      },
      "text/plain": [
       "Validation: |          | 0/? [00:00<?, ?it/s]"
      ]
     },
     "metadata": {},
     "output_type": "display_data"
    },
    {
     "name": "stdout",
     "output_type": "stream",
     "text": [
      "[VAL] tas: RMSE=10.3405, Time-Mean RMSE=6.6770, Time-Stddev MAE=4.3750\n",
      "[VAL] pr: RMSE=3.2908, Time-Mean RMSE=1.7506, Time-Stddev MAE=1.3606\n"
     ]
    },
    {
     "data": {
      "application/vnd.jupyter.widget-view+json": {
       "model_id": "",
       "version_major": 2,
       "version_minor": 0
      },
      "text/plain": [
       "Validation: |          | 0/? [00:00<?, ?it/s]"
      ]
     },
     "metadata": {},
     "output_type": "display_data"
    },
    {
     "name": "stdout",
     "output_type": "stream",
     "text": [
      "[VAL] tas: RMSE=10.3178, Time-Mean RMSE=6.6792, Time-Stddev MAE=4.3115\n",
      "[VAL] pr: RMSE=3.2835, Time-Mean RMSE=1.7569, Time-Stddev MAE=1.3652\n"
     ]
    },
    {
     "data": {
      "application/vnd.jupyter.widget-view+json": {
       "model_id": "",
       "version_major": 2,
       "version_minor": 0
      },
      "text/plain": [
       "Validation: |          | 0/? [00:00<?, ?it/s]"
      ]
     },
     "metadata": {},
     "output_type": "display_data"
    },
    {
     "name": "stdout",
     "output_type": "stream",
     "text": [
      "[VAL] tas: RMSE=9.6253, Time-Mean RMSE=6.2465, Time-Stddev MAE=3.9183\n",
      "[VAL] pr: RMSE=3.2605, Time-Mean RMSE=1.7361, Time-Stddev MAE=1.3665\n"
     ]
    },
    {
     "data": {
      "application/vnd.jupyter.widget-view+json": {
       "model_id": "",
       "version_major": 2,
       "version_minor": 0
      },
      "text/plain": [
       "Validation: |          | 0/? [00:00<?, ?it/s]"
      ]
     },
     "metadata": {},
     "output_type": "display_data"
    },
    {
     "name": "stdout",
     "output_type": "stream",
     "text": [
      "[VAL] tas: RMSE=9.3715, Time-Mean RMSE=6.0029, Time-Stddev MAE=3.7827\n",
      "[VAL] pr: RMSE=3.2548, Time-Mean RMSE=1.7226, Time-Stddev MAE=1.3755\n"
     ]
    },
    {
     "data": {
      "application/vnd.jupyter.widget-view+json": {
       "model_id": "",
       "version_major": 2,
       "version_minor": 0
      },
      "text/plain": [
       "Validation: |          | 0/? [00:00<?, ?it/s]"
      ]
     },
     "metadata": {},
     "output_type": "display_data"
    },
    {
     "name": "stdout",
     "output_type": "stream",
     "text": [
      "[VAL] tas: RMSE=9.7346, Time-Mean RMSE=6.3277, Time-Stddev MAE=3.8967\n",
      "[VAL] pr: RMSE=3.2589, Time-Mean RMSE=1.7206, Time-Stddev MAE=1.3774\n"
     ]
    },
    {
     "data": {
      "application/vnd.jupyter.widget-view+json": {
       "model_id": "",
       "version_major": 2,
       "version_minor": 0
      },
      "text/plain": [
       "Validation: |          | 0/? [00:00<?, ?it/s]"
      ]
     },
     "metadata": {},
     "output_type": "display_data"
    },
    {
     "name": "stdout",
     "output_type": "stream",
     "text": [
      "[VAL] tas: RMSE=9.9947, Time-Mean RMSE=6.6413, Time-Stddev MAE=3.9932\n",
      "[VAL] pr: RMSE=3.2609, Time-Mean RMSE=1.7331, Time-Stddev MAE=1.3666\n"
     ]
    },
    {
     "data": {
      "application/vnd.jupyter.widget-view+json": {
       "model_id": "",
       "version_major": 2,
       "version_minor": 0
      },
      "text/plain": [
       "Validation: |          | 0/? [00:00<?, ?it/s]"
      ]
     },
     "metadata": {},
     "output_type": "display_data"
    },
    {
     "name": "stdout",
     "output_type": "stream",
     "text": [
      "[VAL] tas: RMSE=9.6724, Time-Mean RMSE=6.2482, Time-Stddev MAE=3.9211\n",
      "[VAL] pr: RMSE=3.2598, Time-Mean RMSE=1.7351, Time-Stddev MAE=1.3733\n"
     ]
    },
    {
     "name": "stderr",
     "output_type": "stream",
     "text": [
      "Restoring states from the checkpoint path at /home/ruz039/private/cse151b/DL_for_Climate_Emulation/lightning_logs/gs_resnet_run_5/checkpoints/resnet-d18-epoch=15-val/loss=0.55.ckpt\n",
      "LOCAL_RANK: 0 - CUDA_VISIBLE_DEVICES: [0]\n",
      "Loaded model weights from the checkpoint at /home/ruz039/private/cse151b/DL_for_Climate_Emulation/lightning_logs/gs_resnet_run_5/checkpoints/resnet-d18-epoch=15-val/loss=0.55.ckpt\n"
     ]
    },
    {
     "data": {
      "application/vnd.jupyter.widget-view+json": {
       "model_id": "c3f32b13f2844397863d002159cc193e",
       "version_major": 2,
       "version_minor": 0
      },
      "text/plain": [
       "Validation: |          | 0/? [00:00<?, ?it/s]"
      ]
     },
     "metadata": {},
     "output_type": "display_data"
    },
    {
     "name": "stdout",
     "output_type": "stream",
     "text": [
      "[VAL] tas: RMSE=9.3715, Time-Mean RMSE=6.0029, Time-Stddev MAE=3.7827\n",
      "[VAL] pr: RMSE=3.2548, Time-Mean RMSE=1.7226, Time-Stddev MAE=1.3755\n",
      "────────────────────────────────────────────────────────────────────────────────────────────────────────────────────────\n",
      "     Validate metric           DataLoader 0\n",
      "────────────────────────────────────────────────────────────────────────────────────────────────────────────────────────\n",
      "        val/loss            0.5455077886581421\n",
      "       val/pr/rmse           3.254779100418091\n",
      "  val/pr/time_mean_rmse     1.7226142883300781\n",
      "   val/pr/time_std_mae      1.3755131959915161\n",
      "      val/tas/rmse           9.37147331237793\n",
      " val/tas/time_mean_rmse      6.002890586853027\n",
      "  val/tas/time_std_mae       3.782680034637451\n",
      "────────────────────────────────────────────────────────────────────────────────────────────────────────────────────────\n",
      "→ Run 5 val/loss = 0.5455\n",
      "\n",
      "--- Run 6/10 — {'depth': 18, 'lr': 0.0005, 'optimizer_type': 'AdamW', 'weight_decay': 0.0, 'scheduler_type': None, 'batch_size': 64} ---\n"
     ]
    },
    {
     "name": "stderr",
     "output_type": "stream",
     "text": [
      "/home/ruz039/.local/lib/python3.11/site-packages/lightning/fabric/connector.py:571: `precision=16` is supported for historical reasons but its usage is discouraged. Please set your precision to 16-mixed instead!\n",
      "Using 16bit Automatic Mixed Precision (AMP)\n",
      "GPU available: True (cuda), used: True\n",
      "TPU available: False, using: 0 TPU cores\n",
      "HPU available: False, using: 0 HPUs\n"
     ]
    },
    {
     "name": "stdout",
     "output_type": "stream",
     "text": [
      "Creating dataset with 2703 samples...\n",
      "Dataset created. Input shape: torch.Size([2703, 5, 48, 72]), Output shape: torch.Size([2703, 2, 48, 72])\n",
      "Creating dataset with 360 samples...\n"
     ]
    },
    {
     "name": "stderr",
     "output_type": "stream",
     "text": [
      "LOCAL_RANK: 0 - CUDA_VISIBLE_DEVICES: [0]\n",
      "\n",
      "  | Name      | Type    | Params | Mode \n",
      "----------------------------------------------\n",
      "0 | model     | ResNet  | 11.2 M | train\n",
      "1 | criterion | MSELoss | 0      | train\n",
      "----------------------------------------------\n",
      "11.2 M    Trainable params\n",
      "0         Non-trainable params\n",
      "11.2 M    Total params\n",
      "44.684    Total estimated model params size (MB)\n",
      "69        Modules in train mode\n",
      "0         Modules in eval mode\n"
     ]
    },
    {
     "name": "stdout",
     "output_type": "stream",
     "text": [
      "Dataset created. Input shape: torch.Size([360, 5, 48, 72]), Output shape: torch.Size([360, 2, 48, 72])\n"
     ]
    },
    {
     "name": "stderr",
     "output_type": "stream",
     "text": [
      "/home/ruz039/.local/lib/python3.11/site-packages/lightning/pytorch/loops/fit_loop.py:310: The number of training batches (43) is smaller than the logging interval Trainer(log_every_n_steps=50). Set a lower value for log_every_n_steps if you want to see logs for the training epoch.\n"
     ]
    },
    {
     "data": {
      "application/vnd.jupyter.widget-view+json": {
       "model_id": "169177d4f424495893cde41a6b32a83f",
       "version_major": 2,
       "version_minor": 0
      },
      "text/plain": [
       "Training: |          | 0/? [00:00<?, ?it/s]"
      ]
     },
     "metadata": {},
     "output_type": "display_data"
    },
    {
     "data": {
      "application/vnd.jupyter.widget-view+json": {
       "model_id": "",
       "version_major": 2,
       "version_minor": 0
      },
      "text/plain": [
       "Validation: |          | 0/? [00:00<?, ?it/s]"
      ]
     },
     "metadata": {},
     "output_type": "display_data"
    },
    {
     "name": "stdout",
     "output_type": "stream",
     "text": [
      "[VAL] tas: RMSE=9.0127, Time-Mean RMSE=6.2666, Time-Stddev MAE=3.1774\n",
      "[VAL] pr: RMSE=3.6309, Time-Mean RMSE=2.2998, Time-Stddev MAE=1.4633\n"
     ]
    },
    {
     "data": {
      "application/vnd.jupyter.widget-view+json": {
       "model_id": "",
       "version_major": 2,
       "version_minor": 0
      },
      "text/plain": [
       "Validation: |          | 0/? [00:00<?, ?it/s]"
      ]
     },
     "metadata": {},
     "output_type": "display_data"
    },
    {
     "name": "stdout",
     "output_type": "stream",
     "text": [
      "[VAL] tas: RMSE=6.2643, Time-Mean RMSE=4.1791, Time-Stddev MAE=1.8969\n",
      "[VAL] pr: RMSE=3.2748, Time-Mean RMSE=1.7889, Time-Stddev MAE=1.5368\n"
     ]
    },
    {
     "data": {
      "application/vnd.jupyter.widget-view+json": {
       "model_id": "",
       "version_major": 2,
       "version_minor": 0
      },
      "text/plain": [
       "Validation: |          | 0/? [00:00<?, ?it/s]"
      ]
     },
     "metadata": {},
     "output_type": "display_data"
    },
    {
     "name": "stdout",
     "output_type": "stream",
     "text": [
      "[VAL] tas: RMSE=5.8578, Time-Mean RMSE=3.7162, Time-Stddev MAE=1.8274\n",
      "[VAL] pr: RMSE=3.1989, Time-Mean RMSE=1.6990, Time-Stddev MAE=1.5252\n"
     ]
    },
    {
     "data": {
      "application/vnd.jupyter.widget-view+json": {
       "model_id": "",
       "version_major": 2,
       "version_minor": 0
      },
      "text/plain": [
       "Validation: |          | 0/? [00:00<?, ?it/s]"
      ]
     },
     "metadata": {},
     "output_type": "display_data"
    },
    {
     "name": "stdout",
     "output_type": "stream",
     "text": [
      "[VAL] tas: RMSE=5.6441, Time-Mean RMSE=3.5658, Time-Stddev MAE=1.8804\n",
      "[VAL] pr: RMSE=3.1788, Time-Mean RMSE=1.6869, Time-Stddev MAE=1.5774\n"
     ]
    },
    {
     "data": {
      "application/vnd.jupyter.widget-view+json": {
       "model_id": "",
       "version_major": 2,
       "version_minor": 0
      },
      "text/plain": [
       "Validation: |          | 0/? [00:00<?, ?it/s]"
      ]
     },
     "metadata": {},
     "output_type": "display_data"
    },
    {
     "name": "stdout",
     "output_type": "stream",
     "text": [
      "[VAL] tas: RMSE=6.2133, Time-Mean RMSE=4.4442, Time-Stddev MAE=1.6220\n",
      "[VAL] pr: RMSE=3.1717, Time-Mean RMSE=1.6735, Time-Stddev MAE=1.5157\n"
     ]
    },
    {
     "data": {
      "application/vnd.jupyter.widget-view+json": {
       "model_id": "",
       "version_major": 2,
       "version_minor": 0
      },
      "text/plain": [
       "Validation: |          | 0/? [00:00<?, ?it/s]"
      ]
     },
     "metadata": {},
     "output_type": "display_data"
    },
    {
     "name": "stdout",
     "output_type": "stream",
     "text": [
      "[VAL] tas: RMSE=5.9015, Time-Mean RMSE=4.0086, Time-Stddev MAE=1.6005\n",
      "[VAL] pr: RMSE=3.1508, Time-Mean RMSE=1.6493, Time-Stddev MAE=1.5659\n"
     ]
    },
    {
     "data": {
      "application/vnd.jupyter.widget-view+json": {
       "model_id": "",
       "version_major": 2,
       "version_minor": 0
      },
      "text/plain": [
       "Validation: |          | 0/? [00:00<?, ?it/s]"
      ]
     },
     "metadata": {},
     "output_type": "display_data"
    },
    {
     "name": "stdout",
     "output_type": "stream",
     "text": [
      "[VAL] tas: RMSE=6.1767, Time-Mean RMSE=4.3176, Time-Stddev MAE=1.6227\n",
      "[VAL] pr: RMSE=3.1725, Time-Mean RMSE=1.7061, Time-Stddev MAE=1.5029\n"
     ]
    },
    {
     "data": {
      "application/vnd.jupyter.widget-view+json": {
       "model_id": "",
       "version_major": 2,
       "version_minor": 0
      },
      "text/plain": [
       "Validation: |          | 0/? [00:00<?, ?it/s]"
      ]
     },
     "metadata": {},
     "output_type": "display_data"
    },
    {
     "name": "stdout",
     "output_type": "stream",
     "text": [
      "[VAL] tas: RMSE=5.7360, Time-Mean RMSE=3.9957, Time-Stddev MAE=1.7184\n",
      "[VAL] pr: RMSE=3.1533, Time-Mean RMSE=1.6753, Time-Stddev MAE=1.5780\n"
     ]
    },
    {
     "data": {
      "application/vnd.jupyter.widget-view+json": {
       "model_id": "",
       "version_major": 2,
       "version_minor": 0
      },
      "text/plain": [
       "Validation: |          | 0/? [00:00<?, ?it/s]"
      ]
     },
     "metadata": {},
     "output_type": "display_data"
    },
    {
     "name": "stdout",
     "output_type": "stream",
     "text": [
      "[VAL] tas: RMSE=5.3816, Time-Mean RMSE=3.7563, Time-Stddev MAE=1.3624\n",
      "[VAL] pr: RMSE=3.1348, Time-Mean RMSE=1.6587, Time-Stddev MAE=1.5071\n"
     ]
    },
    {
     "data": {
      "application/vnd.jupyter.widget-view+json": {
       "model_id": "",
       "version_major": 2,
       "version_minor": 0
      },
      "text/plain": [
       "Validation: |          | 0/? [00:00<?, ?it/s]"
      ]
     },
     "metadata": {},
     "output_type": "display_data"
    },
    {
     "name": "stdout",
     "output_type": "stream",
     "text": [
      "[VAL] tas: RMSE=5.5980, Time-Mean RMSE=4.0082, Time-Stddev MAE=1.5397\n",
      "[VAL] pr: RMSE=3.1112, Time-Mean RMSE=1.6334, Time-Stddev MAE=1.4828\n"
     ]
    },
    {
     "data": {
      "application/vnd.jupyter.widget-view+json": {
       "model_id": "",
       "version_major": 2,
       "version_minor": 0
      },
      "text/plain": [
       "Validation: |          | 0/? [00:00<?, ?it/s]"
      ]
     },
     "metadata": {},
     "output_type": "display_data"
    },
    {
     "name": "stdout",
     "output_type": "stream",
     "text": [
      "[VAL] tas: RMSE=5.1862, Time-Mean RMSE=3.5397, Time-Stddev MAE=1.4785\n",
      "[VAL] pr: RMSE=3.1184, Time-Mean RMSE=1.6460, Time-Stddev MAE=1.5602\n"
     ]
    },
    {
     "data": {
      "application/vnd.jupyter.widget-view+json": {
       "model_id": "",
       "version_major": 2,
       "version_minor": 0
      },
      "text/plain": [
       "Validation: |          | 0/? [00:00<?, ?it/s]"
      ]
     },
     "metadata": {},
     "output_type": "display_data"
    },
    {
     "name": "stdout",
     "output_type": "stream",
     "text": [
      "[VAL] tas: RMSE=5.7829, Time-Mean RMSE=4.2583, Time-Stddev MAE=1.4022\n",
      "[VAL] pr: RMSE=3.1118, Time-Mean RMSE=1.6669, Time-Stddev MAE=1.4946\n"
     ]
    },
    {
     "data": {
      "application/vnd.jupyter.widget-view+json": {
       "model_id": "",
       "version_major": 2,
       "version_minor": 0
      },
      "text/plain": [
       "Validation: |          | 0/? [00:00<?, ?it/s]"
      ]
     },
     "metadata": {},
     "output_type": "display_data"
    },
    {
     "name": "stdout",
     "output_type": "stream",
     "text": [
      "[VAL] tas: RMSE=6.0024, Time-Mean RMSE=4.3710, Time-Stddev MAE=1.5710\n",
      "[VAL] pr: RMSE=3.1250, Time-Mean RMSE=1.6762, Time-Stddev MAE=1.5326\n"
     ]
    },
    {
     "data": {
      "application/vnd.jupyter.widget-view+json": {
       "model_id": "",
       "version_major": 2,
       "version_minor": 0
      },
      "text/plain": [
       "Validation: |          | 0/? [00:00<?, ?it/s]"
      ]
     },
     "metadata": {},
     "output_type": "display_data"
    },
    {
     "name": "stdout",
     "output_type": "stream",
     "text": [
      "[VAL] tas: RMSE=5.8796, Time-Mean RMSE=4.3613, Time-Stddev MAE=1.2741\n",
      "[VAL] pr: RMSE=3.1045, Time-Mean RMSE=1.6455, Time-Stddev MAE=1.4884\n"
     ]
    },
    {
     "name": "stderr",
     "output_type": "stream",
     "text": [
      "Restoring states from the checkpoint path at /home/ruz039/private/cse151b/DL_for_Climate_Emulation/lightning_logs/gs_resnet_run_6/checkpoints/resnet-d18-epoch=10-val/loss=0.43.ckpt\n",
      "LOCAL_RANK: 0 - CUDA_VISIBLE_DEVICES: [0]\n",
      "Loaded model weights from the checkpoint at /home/ruz039/private/cse151b/DL_for_Climate_Emulation/lightning_logs/gs_resnet_run_6/checkpoints/resnet-d18-epoch=10-val/loss=0.43.ckpt\n"
     ]
    },
    {
     "data": {
      "application/vnd.jupyter.widget-view+json": {
       "model_id": "bf0780f2f4b446a5b1372d297a2fe0c3",
       "version_major": 2,
       "version_minor": 0
      },
      "text/plain": [
       "Validation: |          | 0/? [00:00<?, ?it/s]"
      ]
     },
     "metadata": {},
     "output_type": "display_data"
    },
    {
     "name": "stdout",
     "output_type": "stream",
     "text": [
      "[VAL] tas: RMSE=5.1862, Time-Mean RMSE=3.5397, Time-Stddev MAE=1.4785\n",
      "[VAL] pr: RMSE=3.1184, Time-Mean RMSE=1.6460, Time-Stddev MAE=1.5602\n",
      "────────────────────────────────────────────────────────────────────────────────────────────────────────────────────────\n",
      "     Validate metric           DataLoader 0\n",
      "────────────────────────────────────────────────────────────────────────────────────────────────────────────────────────\n",
      "        val/loss            0.4304559826850891\n",
      "       val/pr/rmse          3.1184163093566895\n",
      "  val/pr/time_mean_rmse      1.645959734916687\n",
      "   val/pr/time_std_mae      1.5602442026138306\n",
      "      val/tas/rmse           5.186190128326416\n",
      " val/tas/time_mean_rmse     3.5397403240203857\n",
      "  val/tas/time_std_mae      1.4785014390945435\n",
      "────────────────────────────────────────────────────────────────────────────────────────────────────────────────────────\n",
      "→ Run 6 val/loss = 0.4305\n",
      "\n",
      "--- Run 7/10 — {'depth': 34, 'lr': 0.0001, 'optimizer_type': 'Adam', 'weight_decay': 0.01, 'scheduler_type': 'CosineAnnealingLR', 'batch_size': 64} ---\n"
     ]
    },
    {
     "name": "stderr",
     "output_type": "stream",
     "text": [
      "/home/ruz039/.local/lib/python3.11/site-packages/lightning/fabric/connector.py:571: `precision=16` is supported for historical reasons but its usage is discouraged. Please set your precision to 16-mixed instead!\n",
      "Using 16bit Automatic Mixed Precision (AMP)\n",
      "GPU available: True (cuda), used: True\n",
      "TPU available: False, using: 0 TPU cores\n",
      "HPU available: False, using: 0 HPUs\n"
     ]
    },
    {
     "name": "stdout",
     "output_type": "stream",
     "text": [
      "Creating dataset with 2703 samples...\n",
      "Dataset created. Input shape: torch.Size([2703, 5, 48, 72]), Output shape: torch.Size([2703, 2, 48, 72])\n",
      "Creating dataset with 360 samples...\n"
     ]
    },
    {
     "name": "stderr",
     "output_type": "stream",
     "text": [
      "LOCAL_RANK: 0 - CUDA_VISIBLE_DEVICES: [0]\n",
      "\n",
      "  | Name      | Type    | Params | Mode \n",
      "----------------------------------------------\n",
      "0 | model     | ResNet  | 21.3 M | train\n",
      "1 | criterion | MSELoss | 0      | train\n",
      "----------------------------------------------\n",
      "21.3 M    Trainable params\n",
      "0         Non-trainable params\n",
      "21.3 M    Total params\n",
      "85.117    Total estimated model params size (MB)\n",
      "117       Modules in train mode\n",
      "0         Modules in eval mode\n"
     ]
    },
    {
     "name": "stdout",
     "output_type": "stream",
     "text": [
      "Dataset created. Input shape: torch.Size([360, 5, 48, 72]), Output shape: torch.Size([360, 2, 48, 72])\n"
     ]
    },
    {
     "name": "stderr",
     "output_type": "stream",
     "text": [
      "/home/ruz039/.local/lib/python3.11/site-packages/lightning/pytorch/loops/fit_loop.py:310: The number of training batches (43) is smaller than the logging interval Trainer(log_every_n_steps=50). Set a lower value for log_every_n_steps if you want to see logs for the training epoch.\n"
     ]
    },
    {
     "data": {
      "application/vnd.jupyter.widget-view+json": {
       "model_id": "6493a08f1757408abfce5c0de81a7539",
       "version_major": 2,
       "version_minor": 0
      },
      "text/plain": [
       "Training: |          | 0/? [00:00<?, ?it/s]"
      ]
     },
     "metadata": {},
     "output_type": "display_data"
    },
    {
     "data": {
      "application/vnd.jupyter.widget-view+json": {
       "model_id": "",
       "version_major": 2,
       "version_minor": 0
      },
      "text/plain": [
       "Validation: |          | 0/? [00:00<?, ?it/s]"
      ]
     },
     "metadata": {},
     "output_type": "display_data"
    },
    {
     "name": "stdout",
     "output_type": "stream",
     "text": [
      "[VAL] tas: RMSE=15.3518, Time-Mean RMSE=7.6723, Time-Stddev MAE=9.0328\n",
      "[VAL] pr: RMSE=3.6637, Time-Mean RMSE=1.8950, Time-Stddev MAE=1.3111\n"
     ]
    },
    {
     "data": {
      "application/vnd.jupyter.widget-view+json": {
       "model_id": "",
       "version_major": 2,
       "version_minor": 0
      },
      "text/plain": [
       "Validation: |          | 0/? [00:00<?, ?it/s]"
      ]
     },
     "metadata": {},
     "output_type": "display_data"
    },
    {
     "name": "stdout",
     "output_type": "stream",
     "text": [
      "[VAL] tas: RMSE=11.0047, Time-Mean RMSE=5.8831, Time-Stddev MAE=5.5212\n",
      "[VAL] pr: RMSE=3.4379, Time-Mean RMSE=1.7738, Time-Stddev MAE=1.3243\n"
     ]
    },
    {
     "data": {
      "application/vnd.jupyter.widget-view+json": {
       "model_id": "",
       "version_major": 2,
       "version_minor": 0
      },
      "text/plain": [
       "Validation: |          | 0/? [00:00<?, ?it/s]"
      ]
     },
     "metadata": {},
     "output_type": "display_data"
    },
    {
     "name": "stdout",
     "output_type": "stream",
     "text": [
      "[VAL] tas: RMSE=9.3495, Time-Mean RMSE=5.2464, Time-Stddev MAE=4.3786\n",
      "[VAL] pr: RMSE=3.3355, Time-Mean RMSE=1.7097, Time-Stddev MAE=1.3740\n"
     ]
    },
    {
     "data": {
      "application/vnd.jupyter.widget-view+json": {
       "model_id": "",
       "version_major": 2,
       "version_minor": 0
      },
      "text/plain": [
       "Validation: |          | 0/? [00:00<?, ?it/s]"
      ]
     },
     "metadata": {},
     "output_type": "display_data"
    },
    {
     "name": "stdout",
     "output_type": "stream",
     "text": [
      "[VAL] tas: RMSE=8.7828, Time-Mean RMSE=5.1287, Time-Stddev MAE=3.8962\n",
      "[VAL] pr: RMSE=3.3022, Time-Mean RMSE=1.6940, Time-Stddev MAE=1.3874\n"
     ]
    },
    {
     "data": {
      "application/vnd.jupyter.widget-view+json": {
       "model_id": "",
       "version_major": 2,
       "version_minor": 0
      },
      "text/plain": [
       "Validation: |          | 0/? [00:00<?, ?it/s]"
      ]
     },
     "metadata": {},
     "output_type": "display_data"
    },
    {
     "name": "stdout",
     "output_type": "stream",
     "text": [
      "[VAL] tas: RMSE=8.1668, Time-Mean RMSE=4.6835, Time-Stddev MAE=3.4996\n",
      "[VAL] pr: RMSE=3.2802, Time-Mean RMSE=1.6920, Time-Stddev MAE=1.3938\n"
     ]
    },
    {
     "data": {
      "application/vnd.jupyter.widget-view+json": {
       "model_id": "",
       "version_major": 2,
       "version_minor": 0
      },
      "text/plain": [
       "Validation: |          | 0/? [00:00<?, ?it/s]"
      ]
     },
     "metadata": {},
     "output_type": "display_data"
    },
    {
     "name": "stdout",
     "output_type": "stream",
     "text": [
      "[VAL] tas: RMSE=8.5124, Time-Mean RMSE=5.3703, Time-Stddev MAE=3.4437\n",
      "[VAL] pr: RMSE=3.2614, Time-Mean RMSE=1.6729, Time-Stddev MAE=1.3793\n"
     ]
    },
    {
     "data": {
      "application/vnd.jupyter.widget-view+json": {
       "model_id": "",
       "version_major": 2,
       "version_minor": 0
      },
      "text/plain": [
       "Validation: |          | 0/? [00:00<?, ?it/s]"
      ]
     },
     "metadata": {},
     "output_type": "display_data"
    },
    {
     "name": "stdout",
     "output_type": "stream",
     "text": [
      "[VAL] tas: RMSE=7.6907, Time-Mean RMSE=4.4775, Time-Stddev MAE=3.1460\n",
      "[VAL] pr: RMSE=3.2546, Time-Mean RMSE=1.6790, Time-Stddev MAE=1.4088\n"
     ]
    },
    {
     "data": {
      "application/vnd.jupyter.widget-view+json": {
       "model_id": "",
       "version_major": 2,
       "version_minor": 0
      },
      "text/plain": [
       "Validation: |          | 0/? [00:00<?, ?it/s]"
      ]
     },
     "metadata": {},
     "output_type": "display_data"
    },
    {
     "name": "stdout",
     "output_type": "stream",
     "text": [
      "[VAL] tas: RMSE=7.0174, Time-Mean RMSE=4.1936, Time-Stddev MAE=2.6645\n",
      "[VAL] pr: RMSE=3.2229, Time-Mean RMSE=1.6600, Time-Stddev MAE=1.4265\n"
     ]
    },
    {
     "data": {
      "application/vnd.jupyter.widget-view+json": {
       "model_id": "",
       "version_major": 2,
       "version_minor": 0
      },
      "text/plain": [
       "Validation: |          | 0/? [00:00<?, ?it/s]"
      ]
     },
     "metadata": {},
     "output_type": "display_data"
    },
    {
     "name": "stdout",
     "output_type": "stream",
     "text": [
      "[VAL] tas: RMSE=6.8636, Time-Mean RMSE=4.1455, Time-Stddev MAE=2.6450\n",
      "[VAL] pr: RMSE=3.2250, Time-Mean RMSE=1.6782, Time-Stddev MAE=1.4297\n"
     ]
    },
    {
     "data": {
      "application/vnd.jupyter.widget-view+json": {
       "model_id": "",
       "version_major": 2,
       "version_minor": 0
      },
      "text/plain": [
       "Validation: |          | 0/? [00:00<?, ?it/s]"
      ]
     },
     "metadata": {},
     "output_type": "display_data"
    },
    {
     "name": "stdout",
     "output_type": "stream",
     "text": [
      "[VAL] tas: RMSE=6.6825, Time-Mean RMSE=4.1130, Time-Stddev MAE=2.4523\n",
      "[VAL] pr: RMSE=3.1973, Time-Mean RMSE=1.6570, Time-Stddev MAE=1.4320\n"
     ]
    },
    {
     "data": {
      "application/vnd.jupyter.widget-view+json": {
       "model_id": "",
       "version_major": 2,
       "version_minor": 0
      },
      "text/plain": [
       "Validation: |          | 0/? [00:00<?, ?it/s]"
      ]
     },
     "metadata": {},
     "output_type": "display_data"
    },
    {
     "name": "stdout",
     "output_type": "stream",
     "text": [
      "[VAL] tas: RMSE=7.0393, Time-Mean RMSE=4.2981, Time-Stddev MAE=2.6590\n",
      "[VAL] pr: RMSE=3.2103, Time-Mean RMSE=1.6499, Time-Stddev MAE=1.4093\n"
     ]
    },
    {
     "data": {
      "application/vnd.jupyter.widget-view+json": {
       "model_id": "",
       "version_major": 2,
       "version_minor": 0
      },
      "text/plain": [
       "Validation: |          | 0/? [00:00<?, ?it/s]"
      ]
     },
     "metadata": {},
     "output_type": "display_data"
    },
    {
     "name": "stdout",
     "output_type": "stream",
     "text": [
      "[VAL] tas: RMSE=6.9690, Time-Mean RMSE=4.1170, Time-Stddev MAE=2.6322\n",
      "[VAL] pr: RMSE=3.2241, Time-Mean RMSE=1.6771, Time-Stddev MAE=1.3793\n"
     ]
    },
    {
     "data": {
      "application/vnd.jupyter.widget-view+json": {
       "model_id": "",
       "version_major": 2,
       "version_minor": 0
      },
      "text/plain": [
       "Validation: |          | 0/? [00:00<?, ?it/s]"
      ]
     },
     "metadata": {},
     "output_type": "display_data"
    },
    {
     "name": "stdout",
     "output_type": "stream",
     "text": [
      "[VAL] tas: RMSE=6.7379, Time-Mean RMSE=4.1309, Time-Stddev MAE=2.4390\n",
      "[VAL] pr: RMSE=3.2326, Time-Mean RMSE=1.7017, Time-Stddev MAE=1.3826\n"
     ]
    },
    {
     "name": "stderr",
     "output_type": "stream",
     "text": [
      "Restoring states from the checkpoint path at /home/ruz039/private/cse151b/DL_for_Climate_Emulation/lightning_logs/gs_resnet_run_7/checkpoints/resnet-d34-epoch=09-val/loss=0.47.ckpt\n",
      "LOCAL_RANK: 0 - CUDA_VISIBLE_DEVICES: [0]\n",
      "Loaded model weights from the checkpoint at /home/ruz039/private/cse151b/DL_for_Climate_Emulation/lightning_logs/gs_resnet_run_7/checkpoints/resnet-d34-epoch=09-val/loss=0.47.ckpt\n"
     ]
    },
    {
     "data": {
      "application/vnd.jupyter.widget-view+json": {
       "model_id": "1fc9e21363ad41eab0b45d23529d9819",
       "version_major": 2,
       "version_minor": 0
      },
      "text/plain": [
       "Validation: |          | 0/? [00:00<?, ?it/s]"
      ]
     },
     "metadata": {},
     "output_type": "display_data"
    },
    {
     "name": "stdout",
     "output_type": "stream",
     "text": [
      "[VAL] tas: RMSE=6.6825, Time-Mean RMSE=4.1130, Time-Stddev MAE=2.4523\n",
      "[VAL] pr: RMSE=3.1973, Time-Mean RMSE=1.6570, Time-Stddev MAE=1.4320\n",
      "────────────────────────────────────────────────────────────────────────────────────────────────────────────────────────\n",
      "     Validate metric           DataLoader 0\n",
      "────────────────────────────────────────────────────────────────────────────────────────────────────────────────────────\n",
      "        val/loss            0.47228652238845825\n",
      "       val/pr/rmse          3.1973049640655518\n",
      "  val/pr/time_mean_rmse     1.6570042371749878\n",
      "   val/pr/time_std_mae      1.4319767951965332\n",
      "      val/tas/rmse          6.6824774742126465\n",
      " val/tas/time_mean_rmse      4.112977981567383\n",
      "  val/tas/time_std_mae      2.4523322582244873\n",
      "────────────────────────────────────────────────────────────────────────────────────────────────────────────────────────\n",
      "→ Run 7 val/loss = 0.4723\n",
      "\n",
      "--- Run 8/10 — {'depth': 34, 'lr': 0.0005, 'optimizer_type': 'AdamW', 'weight_decay': 0.01, 'scheduler_type': None, 'batch_size': 32} ---\n"
     ]
    },
    {
     "name": "stderr",
     "output_type": "stream",
     "text": [
      "/home/ruz039/.local/lib/python3.11/site-packages/lightning/fabric/connector.py:571: `precision=16` is supported for historical reasons but its usage is discouraged. Please set your precision to 16-mixed instead!\n",
      "Using 16bit Automatic Mixed Precision (AMP)\n",
      "GPU available: True (cuda), used: True\n",
      "TPU available: False, using: 0 TPU cores\n",
      "HPU available: False, using: 0 HPUs\n"
     ]
    },
    {
     "name": "stdout",
     "output_type": "stream",
     "text": [
      "Creating dataset with 2703 samples...\n",
      "Dataset created. Input shape: torch.Size([2703, 5, 48, 72]), Output shape: torch.Size([2703, 2, 48, 72])\n",
      "Creating dataset with 360 samples...\n"
     ]
    },
    {
     "name": "stderr",
     "output_type": "stream",
     "text": [
      "LOCAL_RANK: 0 - CUDA_VISIBLE_DEVICES: [0]\n",
      "\n",
      "  | Name      | Type    | Params | Mode \n",
      "----------------------------------------------\n",
      "0 | model     | ResNet  | 21.3 M | train\n",
      "1 | criterion | MSELoss | 0      | train\n",
      "----------------------------------------------\n",
      "21.3 M    Trainable params\n",
      "0         Non-trainable params\n",
      "21.3 M    Total params\n",
      "85.117    Total estimated model params size (MB)\n",
      "117       Modules in train mode\n",
      "0         Modules in eval mode\n"
     ]
    },
    {
     "name": "stdout",
     "output_type": "stream",
     "text": [
      "Dataset created. Input shape: torch.Size([360, 5, 48, 72]), Output shape: torch.Size([360, 2, 48, 72])\n"
     ]
    },
    {
     "data": {
      "application/vnd.jupyter.widget-view+json": {
       "model_id": "24e83d8a8f5e4651a367bb16f3ee552a",
       "version_major": 2,
       "version_minor": 0
      },
      "text/plain": [
       "Training: |          | 0/? [00:00<?, ?it/s]"
      ]
     },
     "metadata": {},
     "output_type": "display_data"
    },
    {
     "data": {
      "application/vnd.jupyter.widget-view+json": {
       "model_id": "",
       "version_major": 2,
       "version_minor": 0
      },
      "text/plain": [
       "Validation: |          | 0/? [00:00<?, ?it/s]"
      ]
     },
     "metadata": {},
     "output_type": "display_data"
    },
    {
     "name": "stdout",
     "output_type": "stream",
     "text": [
      "[VAL] tas: RMSE=7.1290, Time-Mean RMSE=4.3591, Time-Stddev MAE=2.9490\n",
      "[VAL] pr: RMSE=3.2224, Time-Mean RMSE=1.6821, Time-Stddev MAE=1.5194\n"
     ]
    },
    {
     "data": {
      "application/vnd.jupyter.widget-view+json": {
       "model_id": "",
       "version_major": 2,
       "version_minor": 0
      },
      "text/plain": [
       "Validation: |          | 0/? [00:00<?, ?it/s]"
      ]
     },
     "metadata": {},
     "output_type": "display_data"
    },
    {
     "name": "stdout",
     "output_type": "stream",
     "text": [
      "[VAL] tas: RMSE=6.2818, Time-Mean RMSE=4.2263, Time-Stddev MAE=2.0047\n",
      "[VAL] pr: RMSE=3.1737, Time-Mean RMSE=1.6567, Time-Stddev MAE=1.6044\n"
     ]
    },
    {
     "data": {
      "application/vnd.jupyter.widget-view+json": {
       "model_id": "",
       "version_major": 2,
       "version_minor": 0
      },
      "text/plain": [
       "Validation: |          | 0/? [00:00<?, ?it/s]"
      ]
     },
     "metadata": {},
     "output_type": "display_data"
    },
    {
     "name": "stdout",
     "output_type": "stream",
     "text": [
      "[VAL] tas: RMSE=5.6166, Time-Mean RMSE=3.6558, Time-Stddev MAE=1.7862\n",
      "[VAL] pr: RMSE=3.1425, Time-Mean RMSE=1.6451, Time-Stddev MAE=1.5690\n"
     ]
    },
    {
     "data": {
      "application/vnd.jupyter.widget-view+json": {
       "model_id": "",
       "version_major": 2,
       "version_minor": 0
      },
      "text/plain": [
       "Validation: |          | 0/? [00:00<?, ?it/s]"
      ]
     },
     "metadata": {},
     "output_type": "display_data"
    },
    {
     "name": "stdout",
     "output_type": "stream",
     "text": [
      "[VAL] tas: RMSE=5.5366, Time-Mean RMSE=3.8298, Time-Stddev MAE=1.5415\n",
      "[VAL] pr: RMSE=3.1260, Time-Mean RMSE=1.6395, Time-Stddev MAE=1.6001\n"
     ]
    },
    {
     "data": {
      "application/vnd.jupyter.widget-view+json": {
       "model_id": "",
       "version_major": 2,
       "version_minor": 0
      },
      "text/plain": [
       "Validation: |          | 0/? [00:00<?, ?it/s]"
      ]
     },
     "metadata": {},
     "output_type": "display_data"
    },
    {
     "name": "stdout",
     "output_type": "stream",
     "text": [
      "[VAL] tas: RMSE=5.2907, Time-Mean RMSE=3.6151, Time-Stddev MAE=1.5808\n",
      "[VAL] pr: RMSE=3.1057, Time-Mean RMSE=1.6403, Time-Stddev MAE=1.5552\n"
     ]
    },
    {
     "data": {
      "application/vnd.jupyter.widget-view+json": {
       "model_id": "",
       "version_major": 2,
       "version_minor": 0
      },
      "text/plain": [
       "Validation: |          | 0/? [00:00<?, ?it/s]"
      ]
     },
     "metadata": {},
     "output_type": "display_data"
    },
    {
     "name": "stdout",
     "output_type": "stream",
     "text": [
      "[VAL] tas: RMSE=5.5570, Time-Mean RMSE=4.1092, Time-Stddev MAE=1.5210\n",
      "[VAL] pr: RMSE=3.0959, Time-Mean RMSE=1.6422, Time-Stddev MAE=1.5430\n"
     ]
    },
    {
     "data": {
      "application/vnd.jupyter.widget-view+json": {
       "model_id": "",
       "version_major": 2,
       "version_minor": 0
      },
      "text/plain": [
       "Validation: |          | 0/? [00:00<?, ?it/s]"
      ]
     },
     "metadata": {},
     "output_type": "display_data"
    },
    {
     "name": "stdout",
     "output_type": "stream",
     "text": [
      "[VAL] tas: RMSE=4.8641, Time-Mean RMSE=3.4268, Time-Stddev MAE=1.3786\n",
      "[VAL] pr: RMSE=3.0829, Time-Mean RMSE=1.6474, Time-Stddev MAE=1.5222\n"
     ]
    },
    {
     "data": {
      "application/vnd.jupyter.widget-view+json": {
       "model_id": "",
       "version_major": 2,
       "version_minor": 0
      },
      "text/plain": [
       "Validation: |          | 0/? [00:00<?, ?it/s]"
      ]
     },
     "metadata": {},
     "output_type": "display_data"
    },
    {
     "name": "stdout",
     "output_type": "stream",
     "text": [
      "[VAL] tas: RMSE=4.8648, Time-Mean RMSE=3.5569, Time-Stddev MAE=1.2644\n",
      "[VAL] pr: RMSE=3.0678, Time-Mean RMSE=1.6362, Time-Stddev MAE=1.4991\n"
     ]
    },
    {
     "data": {
      "application/vnd.jupyter.widget-view+json": {
       "model_id": "",
       "version_major": 2,
       "version_minor": 0
      },
      "text/plain": [
       "Validation: |          | 0/? [00:00<?, ?it/s]"
      ]
     },
     "metadata": {},
     "output_type": "display_data"
    },
    {
     "name": "stdout",
     "output_type": "stream",
     "text": [
      "[VAL] tas: RMSE=4.6993, Time-Mean RMSE=3.4959, Time-Stddev MAE=1.2027\n",
      "[VAL] pr: RMSE=3.0571, Time-Mean RMSE=1.6359, Time-Stddev MAE=1.4458\n"
     ]
    },
    {
     "data": {
      "application/vnd.jupyter.widget-view+json": {
       "model_id": "",
       "version_major": 2,
       "version_minor": 0
      },
      "text/plain": [
       "Validation: |          | 0/? [00:00<?, ?it/s]"
      ]
     },
     "metadata": {},
     "output_type": "display_data"
    },
    {
     "name": "stdout",
     "output_type": "stream",
     "text": [
      "[VAL] tas: RMSE=4.6249, Time-Mean RMSE=3.4859, Time-Stddev MAE=1.1549\n",
      "[VAL] pr: RMSE=3.0370, Time-Mean RMSE=1.6295, Time-Stddev MAE=1.4209\n"
     ]
    },
    {
     "data": {
      "application/vnd.jupyter.widget-view+json": {
       "model_id": "",
       "version_major": 2,
       "version_minor": 0
      },
      "text/plain": [
       "Validation: |          | 0/? [00:00<?, ?it/s]"
      ]
     },
     "metadata": {},
     "output_type": "display_data"
    },
    {
     "name": "stdout",
     "output_type": "stream",
     "text": [
      "[VAL] tas: RMSE=4.7553, Time-Mean RMSE=3.7256, Time-Stddev MAE=1.1815\n",
      "[VAL] pr: RMSE=3.0367, Time-Mean RMSE=1.6558, Time-Stddev MAE=1.4183\n"
     ]
    },
    {
     "data": {
      "application/vnd.jupyter.widget-view+json": {
       "model_id": "",
       "version_major": 2,
       "version_minor": 0
      },
      "text/plain": [
       "Validation: |          | 0/? [00:00<?, ?it/s]"
      ]
     },
     "metadata": {},
     "output_type": "display_data"
    },
    {
     "name": "stdout",
     "output_type": "stream",
     "text": [
      "[VAL] tas: RMSE=4.5087, Time-Mean RMSE=3.3487, Time-Stddev MAE=1.1390\n",
      "[VAL] pr: RMSE=3.0443, Time-Mean RMSE=1.6327, Time-Stddev MAE=1.4794\n"
     ]
    },
    {
     "data": {
      "application/vnd.jupyter.widget-view+json": {
       "model_id": "",
       "version_major": 2,
       "version_minor": 0
      },
      "text/plain": [
       "Validation: |          | 0/? [00:00<?, ?it/s]"
      ]
     },
     "metadata": {},
     "output_type": "display_data"
    },
    {
     "name": "stdout",
     "output_type": "stream",
     "text": [
      "[VAL] tas: RMSE=4.6806, Time-Mean RMSE=3.6557, Time-Stddev MAE=1.1877\n",
      "[VAL] pr: RMSE=3.0318, Time-Mean RMSE=1.6336, Time-Stddev MAE=1.4765\n"
     ]
    },
    {
     "data": {
      "application/vnd.jupyter.widget-view+json": {
       "model_id": "",
       "version_major": 2,
       "version_minor": 0
      },
      "text/plain": [
       "Validation: |          | 0/? [00:00<?, ?it/s]"
      ]
     },
     "metadata": {},
     "output_type": "display_data"
    },
    {
     "name": "stdout",
     "output_type": "stream",
     "text": [
      "[VAL] tas: RMSE=4.4612, Time-Mean RMSE=3.4354, Time-Stddev MAE=1.0949\n",
      "[VAL] pr: RMSE=3.0275, Time-Mean RMSE=1.6384, Time-Stddev MAE=1.4457\n"
     ]
    },
    {
     "data": {
      "application/vnd.jupyter.widget-view+json": {
       "model_id": "",
       "version_major": 2,
       "version_minor": 0
      },
      "text/plain": [
       "Validation: |          | 0/? [00:00<?, ?it/s]"
      ]
     },
     "metadata": {},
     "output_type": "display_data"
    },
    {
     "name": "stdout",
     "output_type": "stream",
     "text": [
      "[VAL] tas: RMSE=4.4360, Time-Mean RMSE=3.4963, Time-Stddev MAE=1.0563\n",
      "[VAL] pr: RMSE=3.0171, Time-Mean RMSE=1.6402, Time-Stddev MAE=1.4106\n"
     ]
    },
    {
     "data": {
      "application/vnd.jupyter.widget-view+json": {
       "model_id": "",
       "version_major": 2,
       "version_minor": 0
      },
      "text/plain": [
       "Validation: |          | 0/? [00:00<?, ?it/s]"
      ]
     },
     "metadata": {},
     "output_type": "display_data"
    },
    {
     "name": "stdout",
     "output_type": "stream",
     "text": [
      "[VAL] tas: RMSE=4.4166, Time-Mean RMSE=3.4211, Time-Stddev MAE=1.0714\n",
      "[VAL] pr: RMSE=3.0195, Time-Mean RMSE=1.6401, Time-Stddev MAE=1.4188\n"
     ]
    },
    {
     "data": {
      "application/vnd.jupyter.widget-view+json": {
       "model_id": "",
       "version_major": 2,
       "version_minor": 0
      },
      "text/plain": [
       "Validation: |          | 0/? [00:00<?, ?it/s]"
      ]
     },
     "metadata": {},
     "output_type": "display_data"
    },
    {
     "name": "stdout",
     "output_type": "stream",
     "text": [
      "[VAL] tas: RMSE=4.3282, Time-Mean RMSE=3.3918, Time-Stddev MAE=1.0779\n",
      "[VAL] pr: RMSE=2.9988, Time-Mean RMSE=1.6267, Time-Stddev MAE=1.4120\n"
     ]
    },
    {
     "data": {
      "application/vnd.jupyter.widget-view+json": {
       "model_id": "",
       "version_major": 2,
       "version_minor": 0
      },
      "text/plain": [
       "Validation: |          | 0/? [00:00<?, ?it/s]"
      ]
     },
     "metadata": {},
     "output_type": "display_data"
    },
    {
     "name": "stdout",
     "output_type": "stream",
     "text": [
      "[VAL] tas: RMSE=4.3933, Time-Mean RMSE=3.4722, Time-Stddev MAE=1.0577\n",
      "[VAL] pr: RMSE=2.9997, Time-Mean RMSE=1.6281, Time-Stddev MAE=1.4204\n"
     ]
    },
    {
     "data": {
      "application/vnd.jupyter.widget-view+json": {
       "model_id": "",
       "version_major": 2,
       "version_minor": 0
      },
      "text/plain": [
       "Validation: |          | 0/? [00:00<?, ?it/s]"
      ]
     },
     "metadata": {},
     "output_type": "display_data"
    },
    {
     "name": "stdout",
     "output_type": "stream",
     "text": [
      "[VAL] tas: RMSE=4.2606, Time-Mean RMSE=3.3895, Time-Stddev MAE=1.0174\n",
      "[VAL] pr: RMSE=2.9866, Time-Mean RMSE=1.6226, Time-Stddev MAE=1.3945\n"
     ]
    },
    {
     "data": {
      "application/vnd.jupyter.widget-view+json": {
       "model_id": "",
       "version_major": 2,
       "version_minor": 0
      },
      "text/plain": [
       "Validation: |          | 0/? [00:00<?, ?it/s]"
      ]
     },
     "metadata": {},
     "output_type": "display_data"
    },
    {
     "name": "stderr",
     "output_type": "stream",
     "text": [
      "`Trainer.fit` stopped: `max_epochs=20` reached.\n"
     ]
    },
    {
     "name": "stdout",
     "output_type": "stream",
     "text": [
      "[VAL] tas: RMSE=4.2771, Time-Mean RMSE=3.3597, Time-Stddev MAE=1.0609\n",
      "[VAL] pr: RMSE=2.9977, Time-Mean RMSE=1.6325, Time-Stddev MAE=1.3988\n"
     ]
    },
    {
     "name": "stderr",
     "output_type": "stream",
     "text": [
      "Restoring states from the checkpoint path at /home/ruz039/private/cse151b/DL_for_Climate_Emulation/lightning_logs/gs_resnet_run_8/checkpoints/resnet-d34-epoch=18-val/loss=0.39.ckpt\n",
      "LOCAL_RANK: 0 - CUDA_VISIBLE_DEVICES: [0]\n",
      "Loaded model weights from the checkpoint at /home/ruz039/private/cse151b/DL_for_Climate_Emulation/lightning_logs/gs_resnet_run_8/checkpoints/resnet-d34-epoch=18-val/loss=0.39.ckpt\n"
     ]
    },
    {
     "data": {
      "application/vnd.jupyter.widget-view+json": {
       "model_id": "29fb951599844c47ac0540cdab399c80",
       "version_major": 2,
       "version_minor": 0
      },
      "text/plain": [
       "Validation: |          | 0/? [00:00<?, ?it/s]"
      ]
     },
     "metadata": {},
     "output_type": "display_data"
    },
    {
     "name": "stdout",
     "output_type": "stream",
     "text": [
      "[VAL] tas: RMSE=4.2606, Time-Mean RMSE=3.3895, Time-Stddev MAE=1.0174\n",
      "[VAL] pr: RMSE=2.9866, Time-Mean RMSE=1.6226, Time-Stddev MAE=1.3945\n",
      "────────────────────────────────────────────────────────────────────────────────────────────────────────────────────────\n",
      "     Validate metric           DataLoader 0\n",
      "────────────────────────────────────────────────────────────────────────────────────────────────────────────────────────\n",
      "        val/loss            0.38601571321487427\n",
      "       val/pr/rmse          2.9866249561309814\n",
      "  val/pr/time_mean_rmse     1.6226261854171753\n",
      "   val/pr/time_std_mae      1.3944772481918335\n",
      "      val/tas/rmse           4.260643482208252\n",
      " val/tas/time_mean_rmse     3.3894600868225098\n",
      "  val/tas/time_std_mae       1.017419695854187\n",
      "────────────────────────────────────────────────────────────────────────────────────────────────────────────────────────\n",
      "→ Run 8 val/loss = 0.3860\n",
      "\n",
      "--- Run 9/10 — {'depth': 50, 'lr': 0.0005, 'optimizer_type': 'AdamW', 'weight_decay': 0.01, 'scheduler_type': 'CosineAnnealingLR', 'batch_size': 32} ---\n"
     ]
    },
    {
     "name": "stderr",
     "output_type": "stream",
     "text": [
      "/home/ruz039/.local/lib/python3.11/site-packages/lightning/fabric/connector.py:571: `precision=16` is supported for historical reasons but its usage is discouraged. Please set your precision to 16-mixed instead!\n",
      "Using 16bit Automatic Mixed Precision (AMP)\n",
      "GPU available: True (cuda), used: True\n",
      "TPU available: False, using: 0 TPU cores\n",
      "HPU available: False, using: 0 HPUs\n"
     ]
    },
    {
     "name": "stdout",
     "output_type": "stream",
     "text": [
      "Creating dataset with 2703 samples...\n",
      "Dataset created. Input shape: torch.Size([2703, 5, 48, 72]), Output shape: torch.Size([2703, 2, 48, 72])\n",
      "Creating dataset with 360 samples...\n"
     ]
    },
    {
     "name": "stderr",
     "output_type": "stream",
     "text": [
      "LOCAL_RANK: 0 - CUDA_VISIBLE_DEVICES: [0]\n",
      "\n",
      "  | Name      | Type    | Params | Mode \n",
      "----------------------------------------------\n",
      "0 | model     | ResNet  | 23.5 M | train\n",
      "1 | criterion | MSELoss | 0      | train\n",
      "----------------------------------------------\n",
      "23.5 M    Trainable params\n",
      "0         Non-trainable params\n",
      "23.5 M    Total params\n",
      "94.022    Total estimated model params size (MB)\n",
      "152       Modules in train mode\n",
      "0         Modules in eval mode\n"
     ]
    },
    {
     "name": "stdout",
     "output_type": "stream",
     "text": [
      "Dataset created. Input shape: torch.Size([360, 5, 48, 72]), Output shape: torch.Size([360, 2, 48, 72])\n"
     ]
    },
    {
     "data": {
      "application/vnd.jupyter.widget-view+json": {
       "model_id": "5f264933a6e141eebd661072fac6b651",
       "version_major": 2,
       "version_minor": 0
      },
      "text/plain": [
       "Training: |          | 0/? [00:00<?, ?it/s]"
      ]
     },
     "metadata": {},
     "output_type": "display_data"
    },
    {
     "data": {
      "application/vnd.jupyter.widget-view+json": {
       "model_id": "",
       "version_major": 2,
       "version_minor": 0
      },
      "text/plain": [
       "Validation: |          | 0/? [00:00<?, ?it/s]"
      ]
     },
     "metadata": {},
     "output_type": "display_data"
    },
    {
     "name": "stdout",
     "output_type": "stream",
     "text": [
      "[VAL] tas: RMSE=15.3750, Time-Mean RMSE=5.4430, Time-Stddev MAE=9.7768\n",
      "[VAL] pr: RMSE=4.4297, Time-Mean RMSE=1.9625, Time-Stddev MAE=1.3781\n"
     ]
    },
    {
     "data": {
      "application/vnd.jupyter.widget-view+json": {
       "model_id": "",
       "version_major": 2,
       "version_minor": 0
      },
      "text/plain": [
       "Validation: |          | 0/? [00:00<?, ?it/s]"
      ]
     },
     "metadata": {},
     "output_type": "display_data"
    },
    {
     "name": "stdout",
     "output_type": "stream",
     "text": [
      "[VAL] tas: RMSE=11.2020, Time-Mean RMSE=4.3455, Time-Stddev MAE=6.2438\n",
      "[VAL] pr: RMSE=3.4657, Time-Mean RMSE=1.7468, Time-Stddev MAE=1.3236\n"
     ]
    },
    {
     "data": {
      "application/vnd.jupyter.widget-view+json": {
       "model_id": "",
       "version_major": 2,
       "version_minor": 0
      },
      "text/plain": [
       "Validation: |          | 0/? [00:00<?, ?it/s]"
      ]
     },
     "metadata": {},
     "output_type": "display_data"
    },
    {
     "name": "stdout",
     "output_type": "stream",
     "text": [
      "[VAL] tas: RMSE=9.6697, Time-Mean RMSE=5.8798, Time-Stddev MAE=4.1620\n",
      "[VAL] pr: RMSE=3.3511, Time-Mean RMSE=1.7339, Time-Stddev MAE=1.4256\n"
     ]
    },
    {
     "data": {
      "application/vnd.jupyter.widget-view+json": {
       "model_id": "",
       "version_major": 2,
       "version_minor": 0
      },
      "text/plain": [
       "Validation: |          | 0/? [00:00<?, ?it/s]"
      ]
     },
     "metadata": {},
     "output_type": "display_data"
    },
    {
     "name": "stdout",
     "output_type": "stream",
     "text": [
      "[VAL] tas: RMSE=8.1028, Time-Mean RMSE=4.9273, Time-Stddev MAE=3.2853\n",
      "[VAL] pr: RMSE=3.2793, Time-Mean RMSE=1.6732, Time-Stddev MAE=1.4896\n"
     ]
    },
    {
     "data": {
      "application/vnd.jupyter.widget-view+json": {
       "model_id": "",
       "version_major": 2,
       "version_minor": 0
      },
      "text/plain": [
       "Validation: |          | 0/? [00:00<?, ?it/s]"
      ]
     },
     "metadata": {},
     "output_type": "display_data"
    },
    {
     "name": "stdout",
     "output_type": "stream",
     "text": [
      "[VAL] tas: RMSE=7.9296, Time-Mean RMSE=4.6231, Time-Stddev MAE=3.2523\n",
      "[VAL] pr: RMSE=3.2627, Time-Mean RMSE=1.6675, Time-Stddev MAE=1.5107\n"
     ]
    },
    {
     "data": {
      "application/vnd.jupyter.widget-view+json": {
       "model_id": "",
       "version_major": 2,
       "version_minor": 0
      },
      "text/plain": [
       "Validation: |          | 0/? [00:00<?, ?it/s]"
      ]
     },
     "metadata": {},
     "output_type": "display_data"
    },
    {
     "name": "stdout",
     "output_type": "stream",
     "text": [
      "[VAL] tas: RMSE=7.1728, Time-Mean RMSE=4.2246, Time-Stddev MAE=2.8211\n",
      "[VAL] pr: RMSE=3.2426, Time-Mean RMSE=1.6850, Time-Stddev MAE=1.5444\n"
     ]
    },
    {
     "data": {
      "application/vnd.jupyter.widget-view+json": {
       "model_id": "",
       "version_major": 2,
       "version_minor": 0
      },
      "text/plain": [
       "Validation: |          | 0/? [00:00<?, ?it/s]"
      ]
     },
     "metadata": {},
     "output_type": "display_data"
    },
    {
     "name": "stdout",
     "output_type": "stream",
     "text": [
      "[VAL] tas: RMSE=7.1769, Time-Mean RMSE=4.7408, Time-Stddev MAE=2.5504\n",
      "[VAL] pr: RMSE=3.2253, Time-Mean RMSE=1.6678, Time-Stddev MAE=1.5300\n"
     ]
    },
    {
     "data": {
      "application/vnd.jupyter.widget-view+json": {
       "model_id": "",
       "version_major": 2,
       "version_minor": 0
      },
      "text/plain": [
       "Validation: |          | 0/? [00:00<?, ?it/s]"
      ]
     },
     "metadata": {},
     "output_type": "display_data"
    },
    {
     "name": "stdout",
     "output_type": "stream",
     "text": [
      "[VAL] tas: RMSE=6.9094, Time-Mean RMSE=4.2460, Time-Stddev MAE=2.5655\n",
      "[VAL] pr: RMSE=3.2176, Time-Mean RMSE=1.6581, Time-Stddev MAE=1.5550\n"
     ]
    },
    {
     "data": {
      "application/vnd.jupyter.widget-view+json": {
       "model_id": "",
       "version_major": 2,
       "version_minor": 0
      },
      "text/plain": [
       "Validation: |          | 0/? [00:00<?, ?it/s]"
      ]
     },
     "metadata": {},
     "output_type": "display_data"
    },
    {
     "name": "stdout",
     "output_type": "stream",
     "text": [
      "[VAL] tas: RMSE=6.6030, Time-Mean RMSE=4.1558, Time-Stddev MAE=2.3038\n",
      "[VAL] pr: RMSE=3.2126, Time-Mean RMSE=1.6962, Time-Stddev MAE=1.5352\n"
     ]
    },
    {
     "data": {
      "application/vnd.jupyter.widget-view+json": {
       "model_id": "",
       "version_major": 2,
       "version_minor": 0
      },
      "text/plain": [
       "Validation: |          | 0/? [00:00<?, ?it/s]"
      ]
     },
     "metadata": {},
     "output_type": "display_data"
    },
    {
     "name": "stdout",
     "output_type": "stream",
     "text": [
      "[VAL] tas: RMSE=6.3870, Time-Mean RMSE=4.0352, Time-Stddev MAE=2.1199\n",
      "[VAL] pr: RMSE=3.1929, Time-Mean RMSE=1.6669, Time-Stddev MAE=1.5264\n"
     ]
    },
    {
     "data": {
      "application/vnd.jupyter.widget-view+json": {
       "model_id": "",
       "version_major": 2,
       "version_minor": 0
      },
      "text/plain": [
       "Validation: |          | 0/? [00:00<?, ?it/s]"
      ]
     },
     "metadata": {},
     "output_type": "display_data"
    },
    {
     "name": "stdout",
     "output_type": "stream",
     "text": [
      "[VAL] tas: RMSE=6.6930, Time-Mean RMSE=4.4533, Time-Stddev MAE=2.1452\n",
      "[VAL] pr: RMSE=3.1854, Time-Mean RMSE=1.6585, Time-Stddev MAE=1.5565\n"
     ]
    },
    {
     "data": {
      "application/vnd.jupyter.widget-view+json": {
       "model_id": "",
       "version_major": 2,
       "version_minor": 0
      },
      "text/plain": [
       "Validation: |          | 0/? [00:00<?, ?it/s]"
      ]
     },
     "metadata": {},
     "output_type": "display_data"
    },
    {
     "name": "stdout",
     "output_type": "stream",
     "text": [
      "[VAL] tas: RMSE=6.2609, Time-Mean RMSE=4.0502, Time-Stddev MAE=2.0181\n",
      "[VAL] pr: RMSE=3.1738, Time-Mean RMSE=1.6487, Time-Stddev MAE=1.5300\n"
     ]
    },
    {
     "data": {
      "application/vnd.jupyter.widget-view+json": {
       "model_id": "",
       "version_major": 2,
       "version_minor": 0
      },
      "text/plain": [
       "Validation: |          | 0/? [00:00<?, ?it/s]"
      ]
     },
     "metadata": {},
     "output_type": "display_data"
    },
    {
     "name": "stdout",
     "output_type": "stream",
     "text": [
      "[VAL] tas: RMSE=6.3168, Time-Mean RMSE=4.0235, Time-Stddev MAE=2.0941\n",
      "[VAL] pr: RMSE=3.1727, Time-Mean RMSE=1.6413, Time-Stddev MAE=1.5592\n"
     ]
    },
    {
     "data": {
      "application/vnd.jupyter.widget-view+json": {
       "model_id": "",
       "version_major": 2,
       "version_minor": 0
      },
      "text/plain": [
       "Validation: |          | 0/? [00:00<?, ?it/s]"
      ]
     },
     "metadata": {},
     "output_type": "display_data"
    },
    {
     "name": "stdout",
     "output_type": "stream",
     "text": [
      "[VAL] tas: RMSE=6.1845, Time-Mean RMSE=4.0115, Time-Stddev MAE=1.9813\n",
      "[VAL] pr: RMSE=3.1682, Time-Mean RMSE=1.6467, Time-Stddev MAE=1.5305\n"
     ]
    },
    {
     "data": {
      "application/vnd.jupyter.widget-view+json": {
       "model_id": "",
       "version_major": 2,
       "version_minor": 0
      },
      "text/plain": [
       "Validation: |          | 0/? [00:00<?, ?it/s]"
      ]
     },
     "metadata": {},
     "output_type": "display_data"
    },
    {
     "name": "stdout",
     "output_type": "stream",
     "text": [
      "[VAL] tas: RMSE=5.8823, Time-Mean RMSE=3.6286, Time-Stddev MAE=1.8989\n",
      "[VAL] pr: RMSE=3.1577, Time-Mean RMSE=1.6379, Time-Stddev MAE=1.5294\n"
     ]
    },
    {
     "data": {
      "application/vnd.jupyter.widget-view+json": {
       "model_id": "",
       "version_major": 2,
       "version_minor": 0
      },
      "text/plain": [
       "Validation: |          | 0/? [00:00<?, ?it/s]"
      ]
     },
     "metadata": {},
     "output_type": "display_data"
    },
    {
     "name": "stdout",
     "output_type": "stream",
     "text": [
      "[VAL] tas: RMSE=5.7915, Time-Mean RMSE=3.6601, Time-Stddev MAE=1.8734\n",
      "[VAL] pr: RMSE=3.1594, Time-Mean RMSE=1.6413, Time-Stddev MAE=1.5360\n"
     ]
    },
    {
     "data": {
      "application/vnd.jupyter.widget-view+json": {
       "model_id": "",
       "version_major": 2,
       "version_minor": 0
      },
      "text/plain": [
       "Validation: |          | 0/? [00:00<?, ?it/s]"
      ]
     },
     "metadata": {},
     "output_type": "display_data"
    },
    {
     "name": "stdout",
     "output_type": "stream",
     "text": [
      "[VAL] tas: RMSE=5.9006, Time-Mean RMSE=3.7526, Time-Stddev MAE=1.8533\n",
      "[VAL] pr: RMSE=3.1618, Time-Mean RMSE=1.6429, Time-Stddev MAE=1.5117\n"
     ]
    },
    {
     "data": {
      "application/vnd.jupyter.widget-view+json": {
       "model_id": "",
       "version_major": 2,
       "version_minor": 0
      },
      "text/plain": [
       "Validation: |          | 0/? [00:00<?, ?it/s]"
      ]
     },
     "metadata": {},
     "output_type": "display_data"
    },
    {
     "name": "stdout",
     "output_type": "stream",
     "text": [
      "[VAL] tas: RMSE=5.8490, Time-Mean RMSE=3.7012, Time-Stddev MAE=1.8813\n",
      "[VAL] pr: RMSE=3.1694, Time-Mean RMSE=1.6410, Time-Stddev MAE=1.5225\n"
     ]
    },
    {
     "data": {
      "application/vnd.jupyter.widget-view+json": {
       "model_id": "",
       "version_major": 2,
       "version_minor": 0
      },
      "text/plain": [
       "Validation: |          | 0/? [00:00<?, ?it/s]"
      ]
     },
     "metadata": {},
     "output_type": "display_data"
    },
    {
     "name": "stdout",
     "output_type": "stream",
     "text": [
      "[VAL] tas: RMSE=5.8297, Time-Mean RMSE=3.7257, Time-Stddev MAE=1.7991\n",
      "[VAL] pr: RMSE=3.1503, Time-Mean RMSE=1.6411, Time-Stddev MAE=1.4882\n"
     ]
    },
    {
     "data": {
      "application/vnd.jupyter.widget-view+json": {
       "model_id": "",
       "version_major": 2,
       "version_minor": 0
      },
      "text/plain": [
       "Validation: |          | 0/? [00:00<?, ?it/s]"
      ]
     },
     "metadata": {},
     "output_type": "display_data"
    },
    {
     "name": "stderr",
     "output_type": "stream",
     "text": [
      "`Trainer.fit` stopped: `max_epochs=20` reached.\n"
     ]
    },
    {
     "name": "stdout",
     "output_type": "stream",
     "text": [
      "[VAL] tas: RMSE=5.8938, Time-Mean RMSE=3.7167, Time-Stddev MAE=1.8266\n",
      "[VAL] pr: RMSE=3.1595, Time-Mean RMSE=1.6411, Time-Stddev MAE=1.5148\n"
     ]
    },
    {
     "name": "stderr",
     "output_type": "stream",
     "text": [
      "Restoring states from the checkpoint path at /home/ruz039/private/cse151b/DL_for_Climate_Emulation/lightning_logs/gs_resnet_run_9/checkpoints/resnet-d50-epoch=18-val/loss=0.45.ckpt\n",
      "LOCAL_RANK: 0 - CUDA_VISIBLE_DEVICES: [0]\n",
      "Loaded model weights from the checkpoint at /home/ruz039/private/cse151b/DL_for_Climate_Emulation/lightning_logs/gs_resnet_run_9/checkpoints/resnet-d50-epoch=18-val/loss=0.45.ckpt\n"
     ]
    },
    {
     "data": {
      "application/vnd.jupyter.widget-view+json": {
       "model_id": "21bb16fb62df46c98148bb00bf8b5913",
       "version_major": 2,
       "version_minor": 0
      },
      "text/plain": [
       "Validation: |          | 0/? [00:00<?, ?it/s]"
      ]
     },
     "metadata": {},
     "output_type": "display_data"
    },
    {
     "name": "stdout",
     "output_type": "stream",
     "text": [
      "[VAL] tas: RMSE=5.8297, Time-Mean RMSE=3.7257, Time-Stddev MAE=1.7991\n",
      "[VAL] pr: RMSE=3.1503, Time-Mean RMSE=1.6411, Time-Stddev MAE=1.4882\n",
      "────────────────────────────────────────────────────────────────────────────────────────────────────────────────────────\n",
      "     Validate metric           DataLoader 0\n",
      "────────────────────────────────────────────────────────────────────────────────────────────────────────────────────────\n",
      "        val/loss            0.4453390836715698\n",
      "       val/pr/rmse          3.1502554416656494\n",
      "  val/pr/time_mean_rmse      1.641110897064209\n",
      "   val/pr/time_std_mae      1.4881720542907715\n",
      "      val/tas/rmse           5.829687595367432\n",
      " val/tas/time_mean_rmse     3.7257368564605713\n",
      "  val/tas/time_std_mae        1.7990802526474\n",
      "────────────────────────────────────────────────────────────────────────────────────────────────────────────────────────\n",
      "→ Run 9 val/loss = 0.4453\n",
      "\n",
      "--- Run 10/10 — {'depth': 50, 'lr': 0.001, 'optimizer_type': 'Adam', 'weight_decay': 0.0, 'scheduler_type': None, 'batch_size': 16} ---\n"
     ]
    },
    {
     "name": "stderr",
     "output_type": "stream",
     "text": [
      "/home/ruz039/.local/lib/python3.11/site-packages/lightning/fabric/connector.py:571: `precision=16` is supported for historical reasons but its usage is discouraged. Please set your precision to 16-mixed instead!\n",
      "Using 16bit Automatic Mixed Precision (AMP)\n",
      "GPU available: True (cuda), used: True\n",
      "TPU available: False, using: 0 TPU cores\n",
      "HPU available: False, using: 0 HPUs\n"
     ]
    },
    {
     "name": "stdout",
     "output_type": "stream",
     "text": [
      "Creating dataset with 2703 samples...\n",
      "Dataset created. Input shape: torch.Size([2703, 5, 48, 72]), Output shape: torch.Size([2703, 2, 48, 72])\n",
      "Creating dataset with 360 samples...\n"
     ]
    },
    {
     "name": "stderr",
     "output_type": "stream",
     "text": [
      "LOCAL_RANK: 0 - CUDA_VISIBLE_DEVICES: [0]\n",
      "\n",
      "  | Name      | Type    | Params | Mode \n",
      "----------------------------------------------\n",
      "0 | model     | ResNet  | 23.5 M | train\n",
      "1 | criterion | MSELoss | 0      | train\n",
      "----------------------------------------------\n",
      "23.5 M    Trainable params\n",
      "0         Non-trainable params\n",
      "23.5 M    Total params\n",
      "94.022    Total estimated model params size (MB)\n",
      "152       Modules in train mode\n",
      "0         Modules in eval mode\n"
     ]
    },
    {
     "name": "stdout",
     "output_type": "stream",
     "text": [
      "Dataset created. Input shape: torch.Size([360, 5, 48, 72]), Output shape: torch.Size([360, 2, 48, 72])\n"
     ]
    },
    {
     "data": {
      "application/vnd.jupyter.widget-view+json": {
       "model_id": "ed554f8fccb1443e862a7cb36726121a",
       "version_major": 2,
       "version_minor": 0
      },
      "text/plain": [
       "Training: |          | 0/? [00:00<?, ?it/s]"
      ]
     },
     "metadata": {},
     "output_type": "display_data"
    },
    {
     "data": {
      "application/vnd.jupyter.widget-view+json": {
       "model_id": "",
       "version_major": 2,
       "version_minor": 0
      },
      "text/plain": [
       "Validation: |          | 0/? [00:00<?, ?it/s]"
      ]
     },
     "metadata": {},
     "output_type": "display_data"
    },
    {
     "name": "stdout",
     "output_type": "stream",
     "text": [
      "[VAL] tas: RMSE=9.9232, Time-Mean RMSE=6.0290, Time-Stddev MAE=3.9652\n",
      "[VAL] pr: RMSE=3.5053, Time-Mean RMSE=1.9045, Time-Stddev MAE=1.2332\n"
     ]
    },
    {
     "data": {
      "application/vnd.jupyter.widget-view+json": {
       "model_id": "",
       "version_major": 2,
       "version_minor": 0
      },
      "text/plain": [
       "Validation: |          | 0/? [00:00<?, ?it/s]"
      ]
     },
     "metadata": {},
     "output_type": "display_data"
    },
    {
     "name": "stdout",
     "output_type": "stream",
     "text": [
      "[VAL] tas: RMSE=7.7607, Time-Mean RMSE=4.7046, Time-Stddev MAE=2.7066\n",
      "[VAL] pr: RMSE=3.3160, Time-Mean RMSE=1.7276, Time-Stddev MAE=1.3943\n"
     ]
    },
    {
     "data": {
      "application/vnd.jupyter.widget-view+json": {
       "model_id": "",
       "version_major": 2,
       "version_minor": 0
      },
      "text/plain": [
       "Validation: |          | 0/? [00:00<?, ?it/s]"
      ]
     },
     "metadata": {},
     "output_type": "display_data"
    },
    {
     "name": "stdout",
     "output_type": "stream",
     "text": [
      "[VAL] tas: RMSE=6.3644, Time-Mean RMSE=4.1947, Time-Stddev MAE=1.8270\n",
      "[VAL] pr: RMSE=3.2195, Time-Mean RMSE=1.6980, Time-Stddev MAE=1.5598\n"
     ]
    },
    {
     "data": {
      "application/vnd.jupyter.widget-view+json": {
       "model_id": "",
       "version_major": 2,
       "version_minor": 0
      },
      "text/plain": [
       "Validation: |          | 0/? [00:00<?, ?it/s]"
      ]
     },
     "metadata": {},
     "output_type": "display_data"
    },
    {
     "name": "stdout",
     "output_type": "stream",
     "text": [
      "[VAL] tas: RMSE=5.9224, Time-Mean RMSE=4.0209, Time-Stddev MAE=1.8056\n",
      "[VAL] pr: RMSE=3.1731, Time-Mean RMSE=1.6437, Time-Stddev MAE=1.6071\n"
     ]
    },
    {
     "data": {
      "application/vnd.jupyter.widget-view+json": {
       "model_id": "",
       "version_major": 2,
       "version_minor": 0
      },
      "text/plain": [
       "Validation: |          | 0/? [00:00<?, ?it/s]"
      ]
     },
     "metadata": {},
     "output_type": "display_data"
    },
    {
     "name": "stdout",
     "output_type": "stream",
     "text": [
      "[VAL] tas: RMSE=6.3003, Time-Mean RMSE=4.8056, Time-Stddev MAE=1.5378\n",
      "[VAL] pr: RMSE=3.1971, Time-Mean RMSE=1.7281, Time-Stddev MAE=1.6422\n"
     ]
    },
    {
     "data": {
      "application/vnd.jupyter.widget-view+json": {
       "model_id": "",
       "version_major": 2,
       "version_minor": 0
      },
      "text/plain": [
       "Validation: |          | 0/? [00:00<?, ?it/s]"
      ]
     },
     "metadata": {},
     "output_type": "display_data"
    },
    {
     "name": "stdout",
     "output_type": "stream",
     "text": [
      "[VAL] tas: RMSE=5.9963, Time-Mean RMSE=4.5722, Time-Stddev MAE=1.5569\n",
      "[VAL] pr: RMSE=3.1349, Time-Mean RMSE=1.6588, Time-Stddev MAE=1.6015\n"
     ]
    },
    {
     "data": {
      "application/vnd.jupyter.widget-view+json": {
       "model_id": "",
       "version_major": 2,
       "version_minor": 0
      },
      "text/plain": [
       "Validation: |          | 0/? [00:00<?, ?it/s]"
      ]
     },
     "metadata": {},
     "output_type": "display_data"
    },
    {
     "name": "stdout",
     "output_type": "stream",
     "text": [
      "[VAL] tas: RMSE=5.6647, Time-Mean RMSE=4.3308, Time-Stddev MAE=1.3223\n",
      "[VAL] pr: RMSE=3.1075, Time-Mean RMSE=1.6409, Time-Stddev MAE=1.5761\n"
     ]
    },
    {
     "data": {
      "application/vnd.jupyter.widget-view+json": {
       "model_id": "",
       "version_major": 2,
       "version_minor": 0
      },
      "text/plain": [
       "Validation: |          | 0/? [00:00<?, ?it/s]"
      ]
     },
     "metadata": {},
     "output_type": "display_data"
    },
    {
     "name": "stdout",
     "output_type": "stream",
     "text": [
      "[VAL] tas: RMSE=5.5382, Time-Mean RMSE=4.3098, Time-Stddev MAE=1.3955\n",
      "[VAL] pr: RMSE=3.0937, Time-Mean RMSE=1.6599, Time-Stddev MAE=1.5105\n"
     ]
    },
    {
     "data": {
      "application/vnd.jupyter.widget-view+json": {
       "model_id": "",
       "version_major": 2,
       "version_minor": 0
      },
      "text/plain": [
       "Validation: |          | 0/? [00:00<?, ?it/s]"
      ]
     },
     "metadata": {},
     "output_type": "display_data"
    },
    {
     "name": "stdout",
     "output_type": "stream",
     "text": [
      "[VAL] tas: RMSE=5.7799, Time-Mean RMSE=4.6771, Time-Stddev MAE=1.2688\n",
      "[VAL] pr: RMSE=3.0873, Time-Mean RMSE=1.6394, Time-Stddev MAE=1.5193\n"
     ]
    },
    {
     "data": {
      "application/vnd.jupyter.widget-view+json": {
       "model_id": "",
       "version_major": 2,
       "version_minor": 0
      },
      "text/plain": [
       "Validation: |          | 0/? [00:00<?, ?it/s]"
      ]
     },
     "metadata": {},
     "output_type": "display_data"
    },
    {
     "name": "stdout",
     "output_type": "stream",
     "text": [
      "[VAL] tas: RMSE=5.1915, Time-Mean RMSE=4.0079, Time-Stddev MAE=1.1832\n",
      "[VAL] pr: RMSE=3.0784, Time-Mean RMSE=1.6406, Time-Stddev MAE=1.5095\n"
     ]
    },
    {
     "data": {
      "application/vnd.jupyter.widget-view+json": {
       "model_id": "",
       "version_major": 2,
       "version_minor": 0
      },
      "text/plain": [
       "Validation: |          | 0/? [00:00<?, ?it/s]"
      ]
     },
     "metadata": {},
     "output_type": "display_data"
    },
    {
     "name": "stdout",
     "output_type": "stream",
     "text": [
      "[VAL] tas: RMSE=5.0786, Time-Mean RMSE=3.9699, Time-Stddev MAE=1.2390\n",
      "[VAL] pr: RMSE=3.0872, Time-Mean RMSE=1.6588, Time-Stddev MAE=1.4932\n"
     ]
    },
    {
     "data": {
      "application/vnd.jupyter.widget-view+json": {
       "model_id": "",
       "version_major": 2,
       "version_minor": 0
      },
      "text/plain": [
       "Validation: |          | 0/? [00:00<?, ?it/s]"
      ]
     },
     "metadata": {},
     "output_type": "display_data"
    },
    {
     "name": "stdout",
     "output_type": "stream",
     "text": [
      "[VAL] tas: RMSE=5.0895, Time-Mean RMSE=4.0512, Time-Stddev MAE=1.1122\n",
      "[VAL] pr: RMSE=3.0540, Time-Mean RMSE=1.6365, Time-Stddev MAE=1.4439\n"
     ]
    },
    {
     "data": {
      "application/vnd.jupyter.widget-view+json": {
       "model_id": "",
       "version_major": 2,
       "version_minor": 0
      },
      "text/plain": [
       "Validation: |          | 0/? [00:00<?, ?it/s]"
      ]
     },
     "metadata": {},
     "output_type": "display_data"
    },
    {
     "name": "stdout",
     "output_type": "stream",
     "text": [
      "[VAL] tas: RMSE=4.7358, Time-Mean RMSE=3.6353, Time-Stddev MAE=1.1741\n",
      "[VAL] pr: RMSE=3.0765, Time-Mean RMSE=1.6697, Time-Stddev MAE=1.4856\n"
     ]
    },
    {
     "data": {
      "application/vnd.jupyter.widget-view+json": {
       "model_id": "",
       "version_major": 2,
       "version_minor": 0
      },
      "text/plain": [
       "Validation: |          | 0/? [00:00<?, ?it/s]"
      ]
     },
     "metadata": {},
     "output_type": "display_data"
    },
    {
     "name": "stdout",
     "output_type": "stream",
     "text": [
      "[VAL] tas: RMSE=5.0602, Time-Mean RMSE=4.1261, Time-Stddev MAE=1.1380\n",
      "[VAL] pr: RMSE=3.0617, Time-Mean RMSE=1.6592, Time-Stddev MAE=1.4653\n"
     ]
    },
    {
     "data": {
      "application/vnd.jupyter.widget-view+json": {
       "model_id": "",
       "version_major": 2,
       "version_minor": 0
      },
      "text/plain": [
       "Validation: |          | 0/? [00:00<?, ?it/s]"
      ]
     },
     "metadata": {},
     "output_type": "display_data"
    },
    {
     "name": "stdout",
     "output_type": "stream",
     "text": [
      "[VAL] tas: RMSE=4.7247, Time-Mean RMSE=3.6873, Time-Stddev MAE=1.1662\n",
      "[VAL] pr: RMSE=3.0450, Time-Mean RMSE=1.6387, Time-Stddev MAE=1.4362\n"
     ]
    },
    {
     "data": {
      "application/vnd.jupyter.widget-view+json": {
       "model_id": "",
       "version_major": 2,
       "version_minor": 0
      },
      "text/plain": [
       "Validation: |          | 0/? [00:00<?, ?it/s]"
      ]
     },
     "metadata": {},
     "output_type": "display_data"
    },
    {
     "name": "stdout",
     "output_type": "stream",
     "text": [
      "[VAL] tas: RMSE=4.6311, Time-Mean RMSE=3.6458, Time-Stddev MAE=1.1099\n",
      "[VAL] pr: RMSE=3.0489, Time-Mean RMSE=1.6505, Time-Stddev MAE=1.4110\n"
     ]
    },
    {
     "data": {
      "application/vnd.jupyter.widget-view+json": {
       "model_id": "",
       "version_major": 2,
       "version_minor": 0
      },
      "text/plain": [
       "Validation: |          | 0/? [00:00<?, ?it/s]"
      ]
     },
     "metadata": {},
     "output_type": "display_data"
    },
    {
     "name": "stdout",
     "output_type": "stream",
     "text": [
      "[VAL] tas: RMSE=4.5623, Time-Mean RMSE=3.4495, Time-Stddev MAE=1.0254\n",
      "[VAL] pr: RMSE=3.0689, Time-Mean RMSE=1.6541, Time-Stddev MAE=1.3779\n"
     ]
    },
    {
     "data": {
      "application/vnd.jupyter.widget-view+json": {
       "model_id": "",
       "version_major": 2,
       "version_minor": 0
      },
      "text/plain": [
       "Validation: |          | 0/? [00:00<?, ?it/s]"
      ]
     },
     "metadata": {},
     "output_type": "display_data"
    },
    {
     "name": "stdout",
     "output_type": "stream",
     "text": [
      "[VAL] tas: RMSE=4.5700, Time-Mean RMSE=3.6982, Time-Stddev MAE=1.0960\n",
      "[VAL] pr: RMSE=3.0162, Time-Mean RMSE=1.6399, Time-Stddev MAE=1.4216\n"
     ]
    },
    {
     "data": {
      "application/vnd.jupyter.widget-view+json": {
       "model_id": "",
       "version_major": 2,
       "version_minor": 0
      },
      "text/plain": [
       "Validation: |          | 0/? [00:00<?, ?it/s]"
      ]
     },
     "metadata": {},
     "output_type": "display_data"
    },
    {
     "name": "stdout",
     "output_type": "stream",
     "text": [
      "[VAL] tas: RMSE=4.8735, Time-Mean RMSE=4.0141, Time-Stddev MAE=1.0240\n",
      "[VAL] pr: RMSE=3.0274, Time-Mean RMSE=1.6411, Time-Stddev MAE=1.3878\n"
     ]
    },
    {
     "data": {
      "application/vnd.jupyter.widget-view+json": {
       "model_id": "",
       "version_major": 2,
       "version_minor": 0
      },
      "text/plain": [
       "Validation: |          | 0/? [00:00<?, ?it/s]"
      ]
     },
     "metadata": {},
     "output_type": "display_data"
    },
    {
     "name": "stderr",
     "output_type": "stream",
     "text": [
      "`Trainer.fit` stopped: `max_epochs=20` reached.\n"
     ]
    },
    {
     "name": "stdout",
     "output_type": "stream",
     "text": [
      "[VAL] tas: RMSE=5.2338, Time-Mean RMSE=4.1735, Time-Stddev MAE=1.2109\n",
      "[VAL] pr: RMSE=3.1223, Time-Mean RMSE=1.7165, Time-Stddev MAE=1.4302\n"
     ]
    },
    {
     "name": "stderr",
     "output_type": "stream",
     "text": [
      "Restoring states from the checkpoint path at /home/ruz039/private/cse151b/DL_for_Climate_Emulation/lightning_logs/gs_resnet_run_10/checkpoints/resnet-d50-epoch=17-val/loss=0.40.ckpt\n",
      "LOCAL_RANK: 0 - CUDA_VISIBLE_DEVICES: [0]\n",
      "Loaded model weights from the checkpoint at /home/ruz039/private/cse151b/DL_for_Climate_Emulation/lightning_logs/gs_resnet_run_10/checkpoints/resnet-d50-epoch=17-val/loss=0.40.ckpt\n"
     ]
    },
    {
     "data": {
      "application/vnd.jupyter.widget-view+json": {
       "model_id": "c3dd280e038d4a5f8ec821e397d771f3",
       "version_major": 2,
       "version_minor": 0
      },
      "text/plain": [
       "Validation: |          | 0/? [00:00<?, ?it/s]"
      ]
     },
     "metadata": {},
     "output_type": "display_data"
    },
    {
     "name": "stdout",
     "output_type": "stream",
     "text": [
      "[VAL] tas: RMSE=4.5700, Time-Mean RMSE=3.6982, Time-Stddev MAE=1.0960\n",
      "[VAL] pr: RMSE=3.0162, Time-Mean RMSE=1.6399, Time-Stddev MAE=1.4216\n",
      "────────────────────────────────────────────────────────────────────────────────────────────────────────────────────────\n",
      "     Validate metric           DataLoader 0\n",
      "────────────────────────────────────────────────────────────────────────────────────────────────────────────────────────\n",
      "        val/loss            0.40193992853164673\n",
      "       val/pr/rmse           3.016245126724243\n",
      "  val/pr/time_mean_rmse      1.639927625656128\n",
      "   val/pr/time_std_mae       1.421627402305603\n",
      "      val/tas/rmse           4.569979667663574\n",
      " val/tas/time_mean_rmse      3.698215961456299\n",
      "  val/tas/time_std_mae      1.0959759950637817\n",
      "────────────────────────────────────────────────────────────────────────────────────────────────────────────────────────\n",
      "→ Run 10 val/loss = 0.4019\n",
      "\n",
      "--- GRID SEARCH COMPLETE ---\n",
      "Best hyperparameters:\n",
      " • depth: 34\n",
      " • lr: 0.001\n",
      " • optimizer_type: AdamW\n",
      " • weight_decay: 0.0\n",
      " • scheduler_type: CosineAnnealingLR\n",
      " • batch_size: 16\n",
      "Final validation loss: 0.3746\n",
      "Full metrics: {'val/loss': 0.3746112883090973, 'val/tas/rmse': 4.009565830230713, 'val/tas/time_mean_rmse': 3.346964120864868, 'val/tas/time_std_mae': 0.9722080826759338, 'val/pr/rmse': 2.953634262084961, 'val/pr/time_mean_rmse': 1.6252825260162354, 'val/pr/time_std_mae': 1.275566577911377}\n"
     ]
    }
   ],
   "source": [
    "# import os\n",
    "# import itertools\n",
    "# import types\n",
    "# import torch.optim as optim\n",
    "# import lightning.pytorch as pl\n",
    "# from lightning.pytorch.callbacks import ModelCheckpoint, EarlyStopping, TQDMProgressBar\n",
    "\n",
    "# print(\"\\n--- Starting ResNet Grid Search ---\")\n",
    "\n",
    "# MAX_EPOCHS = 20\n",
    "# # 1. Define hyperparameter combinations\n",
    "# hyperparameter_sets = [\n",
    "#     # your original four\n",
    "#     {\"depth\": 18, \"lr\": 1e-3, \"optimizer_type\": \"AdamW\", \"weight_decay\": 0.0,  \"scheduler_type\": \"CosineAnnealingLR\", \"batch_size\": 32},\n",
    "#     {\"depth\": 18, \"lr\": 5e-4, \"optimizer_type\": \"Adam\",  \"weight_decay\": 1e-2, \"scheduler_type\": None,                 \"batch_size\": 32},\n",
    "#     {\"depth\": 34, \"lr\": 1e-3, \"optimizer_type\": \"AdamW\", \"weight_decay\": 0.0,  \"scheduler_type\": \"CosineAnnealingLR\", \"batch_size\": 16},\n",
    "#     {\"depth\": 34, \"lr\": 5e-4, \"optimizer_type\": \"Adam\",  \"weight_decay\": 1e-2, \"scheduler_type\": None,                 \"batch_size\": 16},\n",
    "\n",
    "#     # six additional combos\n",
    "#     {\"depth\": 18, \"lr\": 1e-4, \"optimizer_type\": \"AdamW\", \"weight_decay\": 1e-2, \"scheduler_type\": \"CosineAnnealingLR\", \"batch_size\": 64},\n",
    "#     {\"depth\": 18, \"lr\": 5e-4, \"optimizer_type\": \"AdamW\", \"weight_decay\": 0.0,  \"scheduler_type\": None,                  \"batch_size\": 64},\n",
    "#     {\"depth\": 34, \"lr\": 1e-4, \"optimizer_type\": \"Adam\",  \"weight_decay\": 1e-2, \"scheduler_type\": \"CosineAnnealingLR\", \"batch_size\": 64},\n",
    "#     {\"depth\": 34, \"lr\": 5e-4, \"optimizer_type\": \"AdamW\", \"weight_decay\": 1e-2, \"scheduler_type\": None,                  \"batch_size\": 32},\n",
    "#     {\"depth\": 50, \"lr\": 5e-4, \"optimizer_type\": \"AdamW\", \"weight_decay\": 1e-2, \"scheduler_type\": \"CosineAnnealingLR\", \"batch_size\": 32},\n",
    "#     {\"depth\": 50, \"lr\": 1e-3, \"optimizer_type\": \"Adam\",  \"weight_decay\": 0.0,  \"scheduler_type\": None,                  \"batch_size\": 16},\n",
    "# ]\n",
    "\n",
    "\n",
    "# results = []\n",
    "# base_trainer_cfg = {\n",
    "#     k: v for k, v in config[\"trainer\"].items()\n",
    "#     if k not in [\"callbacks\", \"default_root_dir\"]\n",
    "# }\n",
    "\n",
    "# for i, params in enumerate(hyperparameter_sets, 1):\n",
    "#     print(f\"\\n--- Run {i}/{len(hyperparameter_sets)} — {params} ---\")\n",
    "\n",
    "#     # A) Update data batch_size\n",
    "#     cfg = deepcopy(config)\n",
    "#     cfg[\"data\"][\"batch_size\"] = params[\"batch_size\"]\n",
    "#     datamodule_gs = ClimateDataModule(**cfg[\"data\"])\n",
    "\n",
    "#     # B) Instantiate ResNet backbone\n",
    "#     n_in  = len(cfg[\"data\"][\"input_vars\"])\n",
    "#     n_out = len(cfg[\"data\"][\"output_vars\"])\n",
    "#     backbone = ResNet(\n",
    "#         depth=params[\"depth\"],\n",
    "#         n_input_channels=n_in,\n",
    "#         n_output_classes=n_out\n",
    "#     )\n",
    "\n",
    "#     # C) Wrap in LightningModule\n",
    "#     lm = ClimateEmulationModule(backbone, learning_rate=params[\"lr\"])\n",
    "\n",
    "#     # D) Monkey-patch optimizers\n",
    "#     def custom_opt(self):\n",
    "#         if params[\"optimizer_type\"] == \"AdamW\":\n",
    "#             opt = optim.AdamW(self.parameters(),\n",
    "#                               lr=self.hparams.learning_rate,\n",
    "#                               weight_decay=params[\"weight_decay\"])\n",
    "#         else:\n",
    "#             opt = optim.Adam(self.parameters(),\n",
    "#                              lr=self.hparams.learning_rate,\n",
    "#                              weight_decay=params[\"weight_decay\"])\n",
    "\n",
    "#         if params[\"scheduler_type\"] == \"CosineAnnealingLR\":\n",
    "#             sched = optim.lr_scheduler.CosineAnnealingLR(\n",
    "#                 opt, eta_min=1e-6\n",
    "#             )\n",
    "#             return {\"optimizer\": opt,\n",
    "#                     \"lr_scheduler\": {\"scheduler\": sched, \"interval\": \"epoch\"}}\n",
    "#         return opt\n",
    "\n",
    "#     lm.configure_optimizers = types.MethodType(custom_opt, lm)\n",
    "\n",
    "#     # E) Prepare callbacks & Trainer\n",
    "#     run_dir = f\"gs_resnet_run_{i}\"\n",
    "#     ckpt_cb = ModelCheckpoint(\n",
    "#         monitor=\"val/loss\",\n",
    "#         mode=\"min\",\n",
    "#         dirpath=os.path.join(\"lightning_logs\", run_dir, \"checkpoints\"),\n",
    "#         filename=f\"resnet-d{params['depth']}-{{epoch:02d}}-{{val/loss:.2f}}\",\n",
    "#         save_top_k=1\n",
    "#     )\n",
    "#     es_cb  = EarlyStopping(monitor=\"val/loss\", patience=3, mode=\"min\")\n",
    "#     pb_cb  = TQDMProgressBar(refresh_rate=10)\n",
    "\n",
    "#     trainer = pl.Trainer(\n",
    "#         default_root_dir=os.path.join(\"lightning_logs\", run_dir),\n",
    "#         callbacks=[ckpt_cb, es_cb, pb_cb],\n",
    "#         **base_trainer_cfg\n",
    "#     )\n",
    "\n",
    "#     # F) Fit and validate\n",
    "#     trainer.fit(lm, datamodule=datamodule_gs)\n",
    "#     val_metrics = trainer.validate(lm, datamodule=datamodule_gs, ckpt_path=\"best\")[0]\n",
    "#     val_loss = val_metrics.get(\"val/loss\", float(\"inf\"))\n",
    "#     print(f\"→ Run {i} val/loss = {val_loss:.4f}\")\n",
    "\n",
    "#     results.append({\n",
    "#         \"params\": params,\n",
    "#         \"val_loss\": val_loss,\n",
    "#         \"metrics\": val_metrics\n",
    "#     })\n",
    "\n",
    "# # 2) Summarize grid search\n",
    "# best = min(results, key=lambda x: x[\"val_loss\"])\n",
    "# print(\"\\n--- GRID SEARCH COMPLETE ---\")\n",
    "# print(\"Best hyperparameters:\")\n",
    "# for k, v in best[\"params\"].items():\n",
    "#     print(f\" • {k}: {v}\")\n",
    "# print(f\"Final validation loss: {best['val_loss']:.4f}\")\n",
    "# print(\"Full metrics:\", best[\"metrics\"])\n"
   ]
  },
  {
   "cell_type": "markdown",
   "id": "c34a53b0-288c-4043-82e0-f184649aee85",
   "metadata": {},
   "source": [
    "Best hyperparameters:\n",
    " • depth: 34\n",
    " • lr: 0.001\n",
    " • optimizer_type: AdamW\n",
    " • weight_decay: 0.0\n",
    " • scheduler_type: CosineAnnealingLR\n",
    " • batch_size: 16\n",
    "Final validation loss: 0.3746"
   ]
  },
  {
   "cell_type": "code",
   "execution_count": 24,
   "id": "4dad9ced-c253-48a4-a09c-28c09ce7f7fa",
   "metadata": {},
   "outputs": [],
   "source": [
    "MAX_EPOCHS = 20"
   ]
  },
  {
   "cell_type": "code",
   "execution_count": 25,
   "id": "6879e159-c686-457d-895a-f31419710e2d",
   "metadata": {
    "scrolled": true
   },
   "outputs": [
    {
     "name": "stdout",
     "output_type": "stream",
     "text": [
      "\n",
      "--- Starting ResNet Final Training with Best Hyperparameters ---\n",
      "Using best ResNet parameters: {'depth': 34, 'lr': 0.001, 'optimizer_type': 'AdamW', 'weight_decay': 0.0, 'scheduler_type': 'CosineAnnealingLR', 'batch_size': 16}\n"
     ]
    },
    {
     "name": "stderr",
     "output_type": "stream",
     "text": [
      "/home/ruz039/.local/lib/python3.11/site-packages/lightning/fabric/connector.py:571: `precision=16` is supported for historical reasons but its usage is discouraged. Please set your precision to 16-mixed instead!\n",
      "Using 16bit Automatic Mixed Precision (AMP)\n",
      "GPU available: True (cuda), used: True\n",
      "TPU available: False, using: 0 TPU cores\n",
      "HPU available: False, using: 0 HPUs\n"
     ]
    },
    {
     "name": "stdout",
     "output_type": "stream",
     "text": [
      "\n",
      "Fitting final ResNet model with params: {'depth': 34, 'lr': 0.001, 'optimizer_type': 'AdamW', 'weight_decay': 0.0, 'scheduler_type': 'CosineAnnealingLR', 'batch_size': 16}\n",
      "Creating dataset with 2703 samples...\n",
      "Dataset created. Input shape: torch.Size([2703, 5, 48, 72]), Output shape: torch.Size([2703, 2, 48, 72])\n",
      "Creating dataset with 360 samples...\n"
     ]
    },
    {
     "name": "stderr",
     "output_type": "stream",
     "text": [
      "LOCAL_RANK: 0 - CUDA_VISIBLE_DEVICES: [0]\n",
      "\n",
      "  | Name      | Type    | Params | Mode \n",
      "----------------------------------------------\n",
      "0 | model     | ResNet  | 21.3 M | train\n",
      "1 | criterion | MSELoss | 0      | train\n",
      "----------------------------------------------\n",
      "21.3 M    Trainable params\n",
      "0         Non-trainable params\n",
      "21.3 M    Total params\n",
      "85.117    Total estimated model params size (MB)\n",
      "117       Modules in train mode\n",
      "0         Modules in eval mode\n"
     ]
    },
    {
     "name": "stdout",
     "output_type": "stream",
     "text": [
      "Dataset created. Input shape: torch.Size([360, 5, 48, 72]), Output shape: torch.Size([360, 2, 48, 72])\n"
     ]
    },
    {
     "data": {
      "application/vnd.jupyter.widget-view+json": {
       "model_id": "99dd04627bd9430c867b0740de0d7fc3",
       "version_major": 2,
       "version_minor": 0
      },
      "text/plain": [
       "Training: |          | 0/? [00:00<?, ?it/s]"
      ]
     },
     "metadata": {},
     "output_type": "display_data"
    },
    {
     "data": {
      "application/vnd.jupyter.widget-view+json": {
       "model_id": "",
       "version_major": 2,
       "version_minor": 0
      },
      "text/plain": [
       "Validation: |          | 0/? [00:00<?, ?it/s]"
      ]
     },
     "metadata": {},
     "output_type": "display_data"
    },
    {
     "name": "stderr",
     "output_type": "stream",
     "text": [
      "Metric val/loss improved. New best score: 0.480\n",
      "Epoch 0, global step 169: 'val/loss' reached 0.48026 (best 0.48026), saving model to '/home/ruz039/private/cse151b/DL_for_Climate_Emulation/lightning_logs/final_resnet_run/checkpoints/final-best-resnet-d34-epoch=00-val/loss=0.480.ckpt' as top 1\n"
     ]
    },
    {
     "name": "stdout",
     "output_type": "stream",
     "text": [
      "[VAL] tas: RMSE=5.9328, Time-Mean RMSE=4.0090, Time-Stddev MAE=1.8921\n",
      "[VAL] pr: RMSE=3.2555, Time-Mean RMSE=1.7645, Time-Stddev MAE=1.8217\n"
     ]
    },
    {
     "data": {
      "application/vnd.jupyter.widget-view+json": {
       "model_id": "",
       "version_major": 2,
       "version_minor": 0
      },
      "text/plain": [
       "Validation: |          | 0/? [00:00<?, ?it/s]"
      ]
     },
     "metadata": {},
     "output_type": "display_data"
    },
    {
     "name": "stderr",
     "output_type": "stream",
     "text": [
      "Metric val/loss improved by 0.031 >= min_delta = 0.0. New best score: 0.450\n",
      "Epoch 1, global step 338: 'val/loss' reached 0.44976 (best 0.44976), saving model to '/home/ruz039/private/cse151b/DL_for_Climate_Emulation/lightning_logs/final_resnet_run/checkpoints/final-best-resnet-d34-epoch=01-val/loss=0.450.ckpt' as top 1\n"
     ]
    },
    {
     "name": "stdout",
     "output_type": "stream",
     "text": [
      "[VAL] tas: RMSE=5.4467, Time-Mean RMSE=3.8079, Time-Stddev MAE=1.5616\n",
      "[VAL] pr: RMSE=3.1762, Time-Mean RMSE=1.6679, Time-Stddev MAE=1.7556\n"
     ]
    },
    {
     "data": {
      "application/vnd.jupyter.widget-view+json": {
       "model_id": "",
       "version_major": 2,
       "version_minor": 0
      },
      "text/plain": [
       "Validation: |          | 0/? [00:00<?, ?it/s]"
      ]
     },
     "metadata": {},
     "output_type": "display_data"
    },
    {
     "name": "stderr",
     "output_type": "stream",
     "text": [
      "Metric val/loss improved by 0.010 >= min_delta = 0.0. New best score: 0.439\n",
      "Epoch 2, global step 507: 'val/loss' reached 0.43941 (best 0.43941), saving model to '/home/ruz039/private/cse151b/DL_for_Climate_Emulation/lightning_logs/final_resnet_run/checkpoints/final-best-resnet-d34-epoch=02-val/loss=0.439.ckpt' as top 1\n"
     ]
    },
    {
     "name": "stdout",
     "output_type": "stream",
     "text": [
      "[VAL] tas: RMSE=5.5331, Time-Mean RMSE=4.0955, Time-Stddev MAE=1.4596\n",
      "[VAL] pr: RMSE=3.1461, Time-Mean RMSE=1.6510, Time-Stddev MAE=1.6865\n"
     ]
    },
    {
     "data": {
      "application/vnd.jupyter.widget-view+json": {
       "model_id": "",
       "version_major": 2,
       "version_minor": 0
      },
      "text/plain": [
       "Validation: |          | 0/? [00:00<?, ?it/s]"
      ]
     },
     "metadata": {},
     "output_type": "display_data"
    },
    {
     "name": "stderr",
     "output_type": "stream",
     "text": [
      "Metric val/loss improved by 0.015 >= min_delta = 0.0. New best score: 0.424\n",
      "Epoch 3, global step 676: 'val/loss' reached 0.42396 (best 0.42396), saving model to '/home/ruz039/private/cse151b/DL_for_Climate_Emulation/lightning_logs/final_resnet_run/checkpoints/final-best-resnet-d34-epoch=03-val/loss=0.424.ckpt' as top 1\n"
     ]
    },
    {
     "name": "stdout",
     "output_type": "stream",
     "text": [
      "[VAL] tas: RMSE=5.0094, Time-Mean RMSE=3.6153, Time-Stddev MAE=1.1947\n",
      "[VAL] pr: RMSE=3.1134, Time-Mean RMSE=1.6365, Time-Stddev MAE=1.5990\n"
     ]
    },
    {
     "data": {
      "application/vnd.jupyter.widget-view+json": {
       "model_id": "",
       "version_major": 2,
       "version_minor": 0
      },
      "text/plain": [
       "Validation: |          | 0/? [00:00<?, ?it/s]"
      ]
     },
     "metadata": {},
     "output_type": "display_data"
    },
    {
     "name": "stderr",
     "output_type": "stream",
     "text": [
      "Metric val/loss improved by 0.002 >= min_delta = 0.0. New best score: 0.422\n",
      "Epoch 4, global step 845: 'val/loss' reached 0.42164 (best 0.42164), saving model to '/home/ruz039/private/cse151b/DL_for_Climate_Emulation/lightning_logs/final_resnet_run/checkpoints/final-best-resnet-d34-epoch=04-val/loss=0.422.ckpt' as top 1\n"
     ]
    },
    {
     "name": "stdout",
     "output_type": "stream",
     "text": [
      "[VAL] tas: RMSE=4.9939, Time-Mean RMSE=3.8096, Time-Stddev MAE=1.1462\n",
      "[VAL] pr: RMSE=3.0912, Time-Mean RMSE=1.6597, Time-Stddev MAE=1.4716\n"
     ]
    },
    {
     "data": {
      "application/vnd.jupyter.widget-view+json": {
       "model_id": "",
       "version_major": 2,
       "version_minor": 0
      },
      "text/plain": [
       "Validation: |          | 0/? [00:00<?, ?it/s]"
      ]
     },
     "metadata": {},
     "output_type": "display_data"
    },
    {
     "name": "stderr",
     "output_type": "stream",
     "text": [
      "Metric val/loss improved by 0.012 >= min_delta = 0.0. New best score: 0.409\n",
      "Epoch 5, global step 1014: 'val/loss' reached 0.40924 (best 0.40924), saving model to '/home/ruz039/private/cse151b/DL_for_Climate_Emulation/lightning_logs/final_resnet_run/checkpoints/final-best-resnet-d34-epoch=05-val/loss=0.409.ckpt' as top 1\n"
     ]
    },
    {
     "name": "stdout",
     "output_type": "stream",
     "text": [
      "[VAL] tas: RMSE=4.8210, Time-Mean RMSE=3.7637, Time-Stddev MAE=1.1219\n",
      "[VAL] pr: RMSE=3.0560, Time-Mean RMSE=1.6520, Time-Stddev MAE=1.4785\n"
     ]
    },
    {
     "data": {
      "application/vnd.jupyter.widget-view+json": {
       "model_id": "",
       "version_major": 2,
       "version_minor": 0
      },
      "text/plain": [
       "Validation: |          | 0/? [00:00<?, ?it/s]"
      ]
     },
     "metadata": {},
     "output_type": "display_data"
    },
    {
     "name": "stderr",
     "output_type": "stream",
     "text": [
      "Epoch 6, global step 1183: 'val/loss' was not in top 1\n"
     ]
    },
    {
     "name": "stdout",
     "output_type": "stream",
     "text": [
      "[VAL] tas: RMSE=4.7947, Time-Mean RMSE=3.5888, Time-Stddev MAE=1.1631\n",
      "[VAL] pr: RMSE=3.0678, Time-Mean RMSE=1.6379, Time-Stddev MAE=1.4770\n"
     ]
    },
    {
     "data": {
      "application/vnd.jupyter.widget-view+json": {
       "model_id": "",
       "version_major": 2,
       "version_minor": 0
      },
      "text/plain": [
       "Validation: |          | 0/? [00:00<?, ?it/s]"
      ]
     },
     "metadata": {},
     "output_type": "display_data"
    },
    {
     "name": "stderr",
     "output_type": "stream",
     "text": [
      "Metric val/loss improved by 0.011 >= min_delta = 0.0. New best score: 0.398\n",
      "Epoch 7, global step 1352: 'val/loss' reached 0.39786 (best 0.39786), saving model to '/home/ruz039/private/cse151b/DL_for_Climate_Emulation/lightning_logs/final_resnet_run/checkpoints/final-best-resnet-d34-epoch=07-val/loss=0.398.ckpt' as top 1\n"
     ]
    },
    {
     "name": "stdout",
     "output_type": "stream",
     "text": [
      "[VAL] tas: RMSE=4.4662, Time-Mean RMSE=3.4047, Time-Stddev MAE=1.0843\n",
      "[VAL] pr: RMSE=3.0275, Time-Mean RMSE=1.6306, Time-Stddev MAE=1.4252\n"
     ]
    },
    {
     "data": {
      "application/vnd.jupyter.widget-view+json": {
       "model_id": "",
       "version_major": 2,
       "version_minor": 0
      },
      "text/plain": [
       "Validation: |          | 0/? [00:00<?, ?it/s]"
      ]
     },
     "metadata": {},
     "output_type": "display_data"
    },
    {
     "name": "stderr",
     "output_type": "stream",
     "text": [
      "Metric val/loss improved by 0.007 >= min_delta = 0.0. New best score: 0.391\n",
      "Epoch 8, global step 1521: 'val/loss' reached 0.39128 (best 0.39128), saving model to '/home/ruz039/private/cse151b/DL_for_Climate_Emulation/lightning_logs/final_resnet_run/checkpoints/final-best-resnet-d34-epoch=08-val/loss=0.391.ckpt' as top 1\n"
     ]
    },
    {
     "name": "stdout",
     "output_type": "stream",
     "text": [
      "[VAL] tas: RMSE=4.4474, Time-Mean RMSE=3.5505, Time-Stddev MAE=1.0203\n",
      "[VAL] pr: RMSE=3.0021, Time-Mean RMSE=1.6344, Time-Stddev MAE=1.3657\n"
     ]
    },
    {
     "data": {
      "application/vnd.jupyter.widget-view+json": {
       "model_id": "",
       "version_major": 2,
       "version_minor": 0
      },
      "text/plain": [
       "Validation: |          | 0/? [00:00<?, ?it/s]"
      ]
     },
     "metadata": {},
     "output_type": "display_data"
    },
    {
     "name": "stderr",
     "output_type": "stream",
     "text": [
      "Epoch 9, global step 1690: 'val/loss' was not in top 1\n"
     ]
    },
    {
     "name": "stdout",
     "output_type": "stream",
     "text": [
      "[VAL] tas: RMSE=4.3939, Time-Mean RMSE=3.4737, Time-Stddev MAE=0.9989\n",
      "[VAL] pr: RMSE=3.0137, Time-Mean RMSE=1.6328, Time-Stddev MAE=1.3660\n"
     ]
    },
    {
     "data": {
      "application/vnd.jupyter.widget-view+json": {
       "model_id": "",
       "version_major": 2,
       "version_minor": 0
      },
      "text/plain": [
       "Validation: |          | 0/? [00:00<?, ?it/s]"
      ]
     },
     "metadata": {},
     "output_type": "display_data"
    },
    {
     "name": "stderr",
     "output_type": "stream",
     "text": [
      "Metric val/loss improved by 0.009 >= min_delta = 0.0. New best score: 0.382\n",
      "Epoch 10, global step 1859: 'val/loss' reached 0.38222 (best 0.38222), saving model to '/home/ruz039/private/cse151b/DL_for_Climate_Emulation/lightning_logs/final_resnet_run/checkpoints/final-best-resnet-d34-epoch=10-val/loss=0.382.ckpt' as top 1\n"
     ]
    },
    {
     "name": "stdout",
     "output_type": "stream",
     "text": [
      "[VAL] tas: RMSE=4.2355, Time-Mean RMSE=3.4551, Time-Stddev MAE=1.0005\n",
      "[VAL] pr: RMSE=2.9743, Time-Mean RMSE=1.6222, Time-Stddev MAE=1.3576\n"
     ]
    },
    {
     "data": {
      "application/vnd.jupyter.widget-view+json": {
       "model_id": "",
       "version_major": 2,
       "version_minor": 0
      },
      "text/plain": [
       "Validation: |          | 0/? [00:00<?, ?it/s]"
      ]
     },
     "metadata": {},
     "output_type": "display_data"
    },
    {
     "name": "stderr",
     "output_type": "stream",
     "text": [
      "Metric val/loss improved by 0.001 >= min_delta = 0.0. New best score: 0.381\n",
      "Epoch 11, global step 2028: 'val/loss' reached 0.38075 (best 0.38075), saving model to '/home/ruz039/private/cse151b/DL_for_Climate_Emulation/lightning_logs/final_resnet_run/checkpoints/final-best-resnet-d34-epoch=11-val/loss=0.381.ckpt' as top 1\n"
     ]
    },
    {
     "name": "stdout",
     "output_type": "stream",
     "text": [
      "[VAL] tas: RMSE=4.1900, Time-Mean RMSE=3.4589, Time-Stddev MAE=1.0031\n",
      "[VAL] pr: RMSE=2.9676, Time-Mean RMSE=1.6268, Time-Stddev MAE=1.3401\n"
     ]
    },
    {
     "data": {
      "application/vnd.jupyter.widget-view+json": {
       "model_id": "",
       "version_major": 2,
       "version_minor": 0
      },
      "text/plain": [
       "Validation: |          | 0/? [00:00<?, ?it/s]"
      ]
     },
     "metadata": {},
     "output_type": "display_data"
    },
    {
     "name": "stderr",
     "output_type": "stream",
     "text": [
      "Metric val/loss improved by 0.001 >= min_delta = 0.0. New best score: 0.380\n",
      "Epoch 12, global step 2197: 'val/loss' reached 0.37952 (best 0.37952), saving model to '/home/ruz039/private/cse151b/DL_for_Climate_Emulation/lightning_logs/final_resnet_run/checkpoints/final-best-resnet-d34-epoch=12-val/loss=0.380.ckpt' as top 1\n"
     ]
    },
    {
     "name": "stdout",
     "output_type": "stream",
     "text": [
      "[VAL] tas: RMSE=4.1959, Time-Mean RMSE=3.4635, Time-Stddev MAE=1.0022\n",
      "[VAL] pr: RMSE=2.9674, Time-Mean RMSE=1.6262, Time-Stddev MAE=1.3409\n"
     ]
    },
    {
     "data": {
      "application/vnd.jupyter.widget-view+json": {
       "model_id": "",
       "version_major": 2,
       "version_minor": 0
      },
      "text/plain": [
       "Validation: |          | 0/? [00:00<?, ?it/s]"
      ]
     },
     "metadata": {},
     "output_type": "display_data"
    },
    {
     "name": "stderr",
     "output_type": "stream",
     "text": [
      "Epoch 13, global step 2366: 'val/loss' was not in top 1\n"
     ]
    },
    {
     "name": "stdout",
     "output_type": "stream",
     "text": [
      "[VAL] tas: RMSE=4.3293, Time-Mean RMSE=3.4987, Time-Stddev MAE=1.0436\n",
      "[VAL] pr: RMSE=2.9977, Time-Mean RMSE=1.6363, Time-Stddev MAE=1.3641\n"
     ]
    },
    {
     "data": {
      "application/vnd.jupyter.widget-view+json": {
       "model_id": "",
       "version_major": 2,
       "version_minor": 0
      },
      "text/plain": [
       "Validation: |          | 0/? [00:00<?, ?it/s]"
      ]
     },
     "metadata": {},
     "output_type": "display_data"
    },
    {
     "name": "stderr",
     "output_type": "stream",
     "text": [
      "Epoch 14, global step 2535: 'val/loss' was not in top 1\n"
     ]
    },
    {
     "name": "stdout",
     "output_type": "stream",
     "text": [
      "[VAL] tas: RMSE=4.2286, Time-Mean RMSE=3.4840, Time-Stddev MAE=1.0010\n",
      "[VAL] pr: RMSE=2.9735, Time-Mean RMSE=1.6264, Time-Stddev MAE=1.3421\n"
     ]
    },
    {
     "data": {
      "application/vnd.jupyter.widget-view+json": {
       "model_id": "15ee904d023e4b299bd65f40b54454a7",
       "version_major": 2,
       "version_minor": 0
      },
      "text/plain": [
       "Validation: |          | 0/? [00:00<?, ?it/s]"
      ]
     },
     "metadata": {},
     "output_type": "display_data"
    },
    {
     "name": "stderr",
     "output_type": "stream",
     "text": [
      "Epoch 15, global step 2704: 'val/loss' was not in top 1\n"
     ]
    },
    {
     "name": "stdout",
     "output_type": "stream",
     "text": [
      "[VAL] tas: RMSE=4.1840, Time-Mean RMSE=3.4442, Time-Stddev MAE=1.0042\n",
      "[VAL] pr: RMSE=2.9714, Time-Mean RMSE=1.6285, Time-Stddev MAE=1.3294\n"
     ]
    },
    {
     "data": {
      "application/vnd.jupyter.widget-view+json": {
       "model_id": "8fb08c991a814ef8bd8f173999eb3aab",
       "version_major": 2,
       "version_minor": 0
      },
      "text/plain": [
       "Validation: |          | 0/? [00:00<?, ?it/s]"
      ]
     },
     "metadata": {},
     "output_type": "display_data"
    },
    {
     "name": "stderr",
     "output_type": "stream",
     "text": [
      "Metric val/loss improved by 0.001 >= min_delta = 0.0. New best score: 0.379\n",
      "Epoch 16, global step 2873: 'val/loss' reached 0.37850 (best 0.37850), saving model to '/home/ruz039/private/cse151b/DL_for_Climate_Emulation/lightning_logs/final_resnet_run/checkpoints/final-best-resnet-d34-epoch=16-val/loss=0.379.ckpt' as top 1\n"
     ]
    },
    {
     "name": "stdout",
     "output_type": "stream",
     "text": [
      "[VAL] tas: RMSE=4.1905, Time-Mean RMSE=3.4831, Time-Stddev MAE=0.9931\n",
      "[VAL] pr: RMSE=2.9634, Time-Mean RMSE=1.6254, Time-Stddev MAE=1.3186\n"
     ]
    },
    {
     "data": {
      "application/vnd.jupyter.widget-view+json": {
       "model_id": "38ea750a01ce41d79e1c2bcc5559cf3f",
       "version_major": 2,
       "version_minor": 0
      },
      "text/plain": [
       "Validation: |          | 0/? [00:00<?, ?it/s]"
      ]
     },
     "metadata": {},
     "output_type": "display_data"
    },
    {
     "name": "stderr",
     "output_type": "stream",
     "text": [
      "Metric val/loss improved by 0.000 >= min_delta = 0.0. New best score: 0.378\n",
      "Epoch 17, global step 3042: 'val/loss' reached 0.37817 (best 0.37817), saving model to '/home/ruz039/private/cse151b/DL_for_Climate_Emulation/lightning_logs/final_resnet_run/checkpoints/final-best-resnet-d34-epoch=17-val/loss=0.378.ckpt' as top 1\n"
     ]
    },
    {
     "name": "stdout",
     "output_type": "stream",
     "text": [
      "[VAL] tas: RMSE=4.1341, Time-Mean RMSE=3.4229, Time-Stddev MAE=0.9908\n",
      "[VAL] pr: RMSE=2.9635, Time-Mean RMSE=1.6243, Time-Stddev MAE=1.3196\n"
     ]
    },
    {
     "data": {
      "application/vnd.jupyter.widget-view+json": {
       "model_id": "0b37f76669324aeaba9e685a9176c025",
       "version_major": 2,
       "version_minor": 0
      },
      "text/plain": [
       "Validation: |          | 0/? [00:00<?, ?it/s]"
      ]
     },
     "metadata": {},
     "output_type": "display_data"
    },
    {
     "name": "stderr",
     "output_type": "stream",
     "text": [
      "Epoch 18, global step 3211: 'val/loss' was not in top 1\n"
     ]
    },
    {
     "name": "stdout",
     "output_type": "stream",
     "text": [
      "[VAL] tas: RMSE=4.2176, Time-Mean RMSE=3.4805, Time-Stddev MAE=0.9999\n",
      "[VAL] pr: RMSE=2.9710, Time-Mean RMSE=1.6250, Time-Stddev MAE=1.3369\n"
     ]
    },
    {
     "data": {
      "application/vnd.jupyter.widget-view+json": {
       "model_id": "def8fc8bcd8941da8cfb3fc16afeae4c",
       "version_major": 2,
       "version_minor": 0
      },
      "text/plain": [
       "Validation: |          | 0/? [00:00<?, ?it/s]"
      ]
     },
     "metadata": {},
     "output_type": "display_data"
    },
    {
     "name": "stderr",
     "output_type": "stream",
     "text": [
      "Epoch 19, global step 3380: 'val/loss' was not in top 1\n",
      "`Trainer.fit` stopped: `max_epochs=20` reached.\n"
     ]
    },
    {
     "name": "stdout",
     "output_type": "stream",
     "text": [
      "[VAL] tas: RMSE=4.2308, Time-Mean RMSE=3.4755, Time-Stddev MAE=1.0016\n",
      "[VAL] pr: RMSE=2.9752, Time-Mean RMSE=1.6254, Time-Stddev MAE=1.3354\n",
      "\n",
      "Testing final ResNet model on test set (ssp245)...\n",
      "Creating dataset with 360 samples...\n"
     ]
    },
    {
     "name": "stderr",
     "output_type": "stream",
     "text": [
      "Restoring states from the checkpoint path at /home/ruz039/private/cse151b/DL_for_Climate_Emulation/lightning_logs/final_resnet_run/checkpoints/final-best-resnet-d34-epoch=17-val/loss=0.378.ckpt\n"
     ]
    },
    {
     "name": "stdout",
     "output_type": "stream",
     "text": [
      "Dataset created. Input shape: torch.Size([360, 5, 48, 72]), Output shape: torch.Size([360, 2, 48, 72])\n"
     ]
    },
    {
     "name": "stderr",
     "output_type": "stream",
     "text": [
      "LOCAL_RANK: 0 - CUDA_VISIBLE_DEVICES: [0]\n",
      "Loaded model weights from the checkpoint at /home/ruz039/private/cse151b/DL_for_Climate_Emulation/lightning_logs/final_resnet_run/checkpoints/final-best-resnet-d34-epoch=17-val/loss=0.378.ckpt\n"
     ]
    },
    {
     "data": {
      "application/vnd.jupyter.widget-view+json": {
       "model_id": "cddc231640a346e991865d8444821013",
       "version_major": 2,
       "version_minor": 0
      },
      "text/plain": [
       "Testing: |          | 0/? [00:00<?, ?it/s]"
      ]
     },
     "metadata": {},
     "output_type": "display_data"
    },
    {
     "name": "stdout",
     "output_type": "stream",
     "text": [
      "[TEST] tas: RMSE=290.2685, Time-Mean RMSE=290.2363, Time-Stddev MAE=3.4500\n",
      "[TEST] pr: RMSE=3.5308, Time-Mean RMSE=3.3974, Time-Stddev MAE=0.8025\n",
      "Submission saved to: submissions/kaggle_submission_unet_20250523_024906.csv\n",
      "────────────────────────────────────────────────────────────────────────────────────────────────────────────────────────\n",
      "       Test metric             DataLoader 0\n",
      "────────────────────────────────────────────────────────────────────────────────────────────────────────────────────────\n",
      "      test/pr/rmse          3.5307650566101074\n",
      " test/pr/time_mean_rmse      3.397416591644287\n",
      "  test/pr/time_std_mae      0.8025084733963013\n",
      "      test/tas/rmse          290.2685241699219\n",
      " test/tas/time_mean_rmse    290.23626708984375\n",
      "  test/tas/time_std_mae     3.4499804973602295\n",
      "────────────────────────────────────────────────────────────────────────────────────────────────────────────────────────\n",
      "Final ResNet Test Results: [{'test/tas/rmse': 290.2685241699219, 'test/tas/time_mean_rmse': 290.23626708984375, 'test/tas/time_std_mae': 3.4499804973602295, 'test/pr/rmse': 3.5307650566101074, 'test/pr/time_mean_rmse': 3.397416591644287, 'test/pr/time_std_mae': 0.8025084733963013}]\n"
     ]
    }
   ],
   "source": [
    "# Cell 13: ResNet – Final Training & Testing with Best Hyperparameters\n",
    "\n",
    "import os\n",
    "import types\n",
    "import torch.optim as optim\n",
    "import lightning.pytorch as pl\n",
    "from lightning.pytorch.callbacks import ModelCheckpoint, EarlyStopping, TQDMProgressBar\n",
    "from copy import deepcopy\n",
    "\n",
    "  # fixed number of epochs for all final runs\n",
    "\n",
    "print(\"\\n--- Starting ResNet Final Training with Best Hyperparameters ---\")\n",
    "\n",
    "# Make sure you ran your grid-search and have `best` in globals()\n",
    "if 'best' not in globals() or best is None:\n",
    "    print(\"Error: `best` not found. Please run the ResNet grid-search loop first.\")\n",
    "else:\n",
    "    best_params = best[\"params\"]\n",
    "    print(f\"Using best ResNet parameters: {best_params}\")\n",
    "\n",
    "    # 1) Prepare final config & DataModule\n",
    "    final_cfg = deepcopy(config)\n",
    "    final_cfg[\"data\"][\"batch_size\"] = best_params[\"batch_size\"]\n",
    "    datamodule_final = ClimateDataModule(**final_cfg[\"data\"])\n",
    "\n",
    "    # 2) Instantiate ResNet backbone with best depth\n",
    "    n_in  = len(final_cfg[\"data\"][\"input_vars\"])\n",
    "    n_out = len(final_cfg[\"data\"][\"output_vars\"])\n",
    "    resnet_final = ResNet(\n",
    "        depth=best_params[\"depth\"],\n",
    "        n_input_channels=n_in,\n",
    "        n_output_classes=n_out\n",
    "    )\n",
    "\n",
    "    # 3) Wrap in LightningModule\n",
    "    lm_final = ClimateEmulationModule(resnet_final, learning_rate=best_params[\"lr\"])\n",
    "\n",
    "    # 4) Monkey-patch optimizers/scheduler based on best_params\n",
    "    def final_configure_optimizers(self):\n",
    "        if best_params[\"optimizer_type\"] == \"AdamW\":\n",
    "            optimizer = optim.AdamW(\n",
    "                self.parameters(),\n",
    "                lr=self.hparams.learning_rate,\n",
    "                weight_decay=best_params[\"weight_decay\"]\n",
    "            )\n",
    "        else:\n",
    "            optimizer = optim.Adam(\n",
    "                self.parameters(),\n",
    "                lr=self.hparams.learning_rate,\n",
    "                weight_decay=best_params[\"weight_decay\"]\n",
    "            )\n",
    "\n",
    "        if best_params[\"scheduler_type\"] == \"CosineAnnealingLR\":\n",
    "            scheduler = optim.lr_scheduler.CosineAnnealingLR(\n",
    "                optimizer,\n",
    "                T_max=MAX_EPOCHS,\n",
    "                eta_min=1e-6\n",
    "            )\n",
    "            return {\"optimizer\": optimizer,\n",
    "                    \"lr_scheduler\": {\"scheduler\": scheduler, \"interval\": \"epoch\"}}\n",
    "        return optimizer\n",
    "\n",
    "    lm_final.configure_optimizers = types.MethodType(final_configure_optimizers, lm_final)\n",
    "\n",
    "    # 5) Prepare callbacks & Trainer\n",
    "    run_dir = \"final_resnet_run\"\n",
    "    ckpt_cb = ModelCheckpoint(\n",
    "        monitor=\"val/loss\",\n",
    "        mode=\"min\",\n",
    "        dirpath=os.path.join(\"lightning_logs\", run_dir, \"checkpoints\"),\n",
    "        filename=f\"final-best-resnet-d{best_params['depth']}-{{epoch:02d}}-{{val/loss:.3f}}\",\n",
    "        save_top_k=1,\n",
    "        verbose=True\n",
    "    )\n",
    "    es_cb = EarlyStopping(monitor=\"val/loss\", patience=10, verbose=True, mode=\"min\")\n",
    "    pb_cb = TQDMProgressBar(refresh_rate=10)\n",
    "\n",
    "    base_trainer_cfg = {\n",
    "        k: v for k, v in config[\"trainer\"].items()\n",
    "        if k not in [\"max_epochs\", \"callbacks\", \"default_root_dir\"]\n",
    "    }\n",
    "    trainer_final = pl.Trainer(\n",
    "        default_root_dir=os.path.join(\"lightning_logs\", run_dir),\n",
    "        max_epochs=MAX_EPOCHS,\n",
    "        callbacks=[ckpt_cb, es_cb, pb_cb],\n",
    "        **base_trainer_cfg\n",
    "    )\n",
    "\n",
    "    # 6) Run final training\n",
    "    print(f\"\\nFitting final ResNet model with params: {best_params}\")\n",
    "    trainer_final.fit(lm_final, datamodule=datamodule_final)\n",
    "\n",
    "    # 7) Test on your held-out test set\n",
    "    print(\"\\nTesting final ResNet model on test set (ssp245)...\")\n",
    "    test_results = trainer_final.test(\n",
    "        lm_final,\n",
    "        datamodule=datamodule_final,\n",
    "        ckpt_path=\"best\"\n",
    "    )\n",
    "    print(\"Final ResNet Test Results:\", test_results)"
   ]
  },
  {
   "cell_type": "code",
   "execution_count": 10,
   "id": "39ea3c62-3eb2-4a17-bacb-d49850478666",
   "metadata": {},
   "outputs": [],
   "source": [
    "# Cell 9: Plotting Utilities (Optional)\n",
    "# Ensure matplotlib, numpy, and xarray are imported (usually in Cell 1)\n",
    "\n",
    "def plot_comparison(true_xr, pred_xr, title, cmap='viridis', diff_cmap='RdBu_r', metric_val=None, metric_name=\"Metric\"):\n",
    "    \"\"\"\n",
    "    Plots a comparison between ground truth, prediction, and their difference.\n",
    "    Includes calculation and display of a spatial mean metric (e.g., RMSE).\n",
    "    \"\"\"\n",
    "    fig, axs = plt.subplots(1, 3, figsize=(18, 5)) \n",
    "    fig.suptitle(title, fontsize=16) \n",
    "\n",
    "    common_min = min(true_xr.min().item(), pred_xr.min().item())\n",
    "    common_max = max(true_xr.max().item(), pred_xr.max().item())\n",
    "\n",
    "    true_xr.plot(ax=axs[0], cmap=cmap, vmin=common_min, vmax=common_max, add_colorbar=True, cbar_kwargs={'label': true_xr.name or 'Value'})\n",
    "    axs[0].set_title(f\"Ground Truth\")\n",
    "\n",
    "    pred_xr.plot(ax=axs[1], cmap=cmap, vmin=common_min, vmax=common_max, add_colorbar=True, cbar_kwargs={'label': pred_xr.name or 'Value'})\n",
    "    axs[1].set_title(f\"Prediction\")\n",
    "\n",
    "    diff = pred_xr - true_xr\n",
    "    abs_max_diff = np.max(np.abs(diff.data)) if diff.size > 0 else 0.1 \n",
    "    \n",
    "    diff_plot_params = {'cmap': diff_cmap, 'add_colorbar': True, 'cbar_kwargs': {'label': 'Difference'}}\n",
    "    if abs_max_diff > 0: \n",
    "        diff_plot_params['vmin'] = -abs_max_diff\n",
    "        diff_plot_params['vmax'] = abs_max_diff\n",
    "        \n",
    "    diff.plot(ax=axs[2], **diff_plot_params)\n",
    "    \n",
    "    title_suffix = \"\"\n",
    "    if metric_val is not None:\n",
    "        title_suffix = f\" ({metric_name}: {metric_val:.4f})\"\n",
    "    axs[2].set_title(f\"Difference (Pred - Truth){title_suffix}\")\n",
    "\n",
    "    plt.tight_layout(rect=[0, 0, 1, 0.96]) \n",
    "    plt.show()\n"
   ]
  },
  {
   "cell_type": "code",
   "execution_count": 11,
   "id": "08db76cd-147a-45aa-9b40-bfe686da30e4",
   "metadata": {},
   "outputs": [
    {
     "name": "stdout",
     "output_type": "stream",
     "text": [
      "\n",
      "--- Visualizing Validation Predictions for U-Net ---\n"
     ]
    },
    {
     "data": {
      "image/png": "[encoded data removed]",
      "text/plain": [
       "<Figure size 1800x500 with 6 Axes>"
      ]
     },
     "metadata": {},
     "output_type": "display_data"
    },
    {
     "data": {
      "image/png": "[encoded data removed]",
      "text/plain": [
       "<Figure size 1800x500 with 6 Axes>"
      ]
     },
     "metadata": {},
     "output_type": "display_data"
    },
    {
     "data": {
      "image/png": "[encoded data removed]",
      "text/plain": [
       "<Figure size 1800x500 with 6 Axes>"
      ]
     },
     "metadata": {},
     "output_type": "display_data"
    },
    {
     "data": {
      "image/png": "[encoded data removed]",
      "text/plain": [
       "<Figure size 1800x500 with 6 Axes>"
      ]
     },
     "metadata": {},
     "output_type": "display_data"
    },
    {
     "data": {
      "image/png": "[encoded data removed]",
      "text/plain": [
       "<Figure size 1800x500 with 6 Axes>"
      ]
     },
     "metadata": {},
     "output_type": "display_data"
    },
    {
     "data": {
      "image/png": "[encoded data removed]",
      "text/plain": [
       "<Figure size 1800x500 with 6 Axes>"
      ]
     },
     "metadata": {},
     "output_type": "display_data"
    }
   ],
   "source": [
    "# Cell 10: Visualization Script (Optional)\n",
    "\n",
    "try:\n",
    "    val_preds_loaded = np.load(\"val_preds.npy\")\n",
    "    val_trues_loaded = np.load(\"val_trues.npy\")\n",
    "\n",
    "    if not hasattr(datamodule, 'lat') or datamodule.lat is None:\n",
    "        print(\"Datamodule not fully set up for visualization. Setting it up...\")\n",
    "        # datamodule.prepare_data() # Should have been called by trainer\n",
    "        datamodule.setup(stage=\"fit\") # Ensure lat, lon, etc. are available\n",
    "\n",
    "    lat, lon = datamodule.get_coords()\n",
    "    output_vars = config[\"data\"][\"output_vars\"] \n",
    "    area_weights_vis = datamodule.get_lat_weights() \n",
    "    \n",
    "    time_val_coords = np.arange(val_preds_loaded.shape[0])\n",
    "\n",
    "    print(f\"\\n--- Visualizing Validation Predictions for U-Net ---\")\n",
    "    for i, var_name in enumerate(output_vars):\n",
    "        pred_xr = xr.DataArray(val_preds_loaded[:, i], dims=[\"time\", \"y\", \"x\"], \n",
    "                               coords={\"time\": time_val_coords, \"y\": lat, \"x\": lon}, name=var_name)\n",
    "        true_xr = xr.DataArray(val_trues_loaded[:, i], dims=[\"time\", \"y\", \"x\"], \n",
    "                               coords={\"time\": time_val_coords, \"y\": lat, \"x\": lon}, name=var_name)\n",
    "\n",
    "        pred_mean = pred_xr.mean(\"time\")\n",
    "        true_mean = true_xr.mean(\"time\")\n",
    "        mean_rmse_var = np.sqrt(((pred_mean - true_mean) ** 2).weighted(area_weights_vis).mean()).item()\n",
    "        plot_comparison(true_mean, pred_mean, \n",
    "                        f\"U-Net: {var_name.upper()} - Validation Time-Mean\",\n",
    "                        metric_val=mean_rmse_var, metric_name=\"Time-Mean RMSE\")\n",
    "\n",
    "        pred_std = pred_xr.std(\"time\")\n",
    "        true_std = true_xr.std(\"time\")\n",
    "        std_mae_var = np.abs(pred_std - true_std).weighted(area_weights_vis).mean().item()\n",
    "        plot_comparison(true_std, pred_std, \n",
    "                        f\"U-Net: {var_name.upper()} - Validation Time-StdDev\", cmap=\"plasma\",\n",
    "                        metric_val=std_mae_var, metric_name=\"Time-StdDev MAE\")\n",
    "\n",
    "        if len(time_val_coords) > 0:\n",
    "            t_idx_random = np.random.randint(0, len(time_val_coords))\n",
    "            pred_sample = pred_xr.isel(time=t_idx_random)\n",
    "            true_sample = true_xr.isel(time=t_idx_random)\n",
    "            sample_rmse_var = np.sqrt(((pred_sample - true_sample) ** 2).weighted(area_weights_vis).mean()).item()\n",
    "            plot_comparison(true_sample, pred_sample, \n",
    "                            f\"U-Net: {var_name.upper()} - Validation Sample (Timestep {t_idx_random})\",\n",
    "                            metric_val=sample_rmse_var, metric_name=\"RMSE\")\n",
    "        else:\n",
    "            print(f\"No time steps available in validation predictions for {var_name} to plot a random sample.\")\n",
    "\n",
    "except FileNotFoundError:\n",
    "    print(\"val_preds.npy or val_trues.npy not found. \"\n",
    "          \"Ensure that the training and validation loop (trainer.fit) has been run successfully, \"\n",
    "          \"and the on_validation_epoch_end method in ClimateEmulationModule saved these files.\")\n",
    "except AttributeError as e:\n",
    "    print(f\"AttributeError during visualization: {e}. Ensure datamodule is correctly initialized and set up.\")\n",
    "    print(\"This might happen if 'datamodule' from the training cell is not in scope or wasn't fully set up.\")\n",
    "except Exception as e:\n",
    "    print(f\"An error occurred during visualization: {e}\")\n",
    "\n"
   ]
  },
  {
   "cell_type": "code",
   "execution_count": null,
   "id": "f9d3a4b7-8e20-4fa7-8d97-a99763994c47",
   "metadata": {},
   "outputs": [],
   "source": []
  }
 ],
 "metadata": {
  "kernelspec": {
   "display_name": "Python 3 (ipykernel)",
   "language": "python",
   "name": "python3"
  },
  "language_info": {
   "codemirror_mode": {
    "name": "ipython",
    "version": 3
   },
   "file_extension": ".py",
   "mimetype": "text/x-python",
   "name": "python",
   "nbconvert_exporter": "python",
   "pygments_lexer": "ipython3",
   "version": "3.11.9"
  }
 },
 "nbformat": 4,
 "nbformat_minor": 5
}
